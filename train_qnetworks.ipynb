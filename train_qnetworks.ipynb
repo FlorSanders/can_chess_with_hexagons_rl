{
  "cells": [
    {
      "cell_type": "markdown",
      "metadata": {
        "id": "KUD07Hls6-rO"
      },
      "source": [
        "# Q-Networks for Hexagon Chess"
      ]
    },
    {
      "cell_type": "markdown",
      "metadata": {
        "id": "gAlocSYA6-rQ"
      },
      "source": [
        "## Setup"
      ]
    },
    {
      "cell_type": "code",
      "execution_count": 1,
      "metadata": {
        "id": "rrLMCixA6-rQ"
      },
      "outputs": [],
      "source": [
        "%matplotlib inline\n",
        "%load_ext autoreload\n",
        "%autoreload 2"
      ]
    },
    {
      "cell_type": "code",
      "execution_count": 2,
      "metadata": {
        "id": "kb0cOu5V6-rR"
      },
      "outputs": [],
      "source": [
        "import numpy as np\n",
        "import matplotlib.pyplot as plt\n",
        "import os"
      ]
    },
    {
      "cell_type": "code",
      "execution_count": 3,
      "metadata": {
        "colab": {
          "base_uri": "https://localhost:8080/"
        },
        "id": "XBaUeLl16-rS",
        "outputId": "06971cff-2483-4cc3-9d19-b957519e84a8"
      },
      "outputs": [
        {
          "output_type": "stream",
          "name": "stdout",
          "text": [
            "pygame 2.5.2 (SDL 2.28.2, Python 3.10.12)\n",
            "Hello from the pygame community. https://www.pygame.org/contribute.html\n"
          ]
        }
      ],
      "source": [
        "from engines.environment import HexChessEnv\n",
        "from engines.qnetworks import QNetworkAgent, QLearning\n",
        "from hexchess.players import RandomPlayer"
      ]
    },
    {
      "cell_type": "code",
      "execution_count": 4,
      "metadata": {
        "id": "nG4XzbBs6-rT"
      },
      "outputs": [],
      "source": [
        "import tensorflow.keras as krs"
      ]
    },
    {
      "cell_type": "markdown",
      "metadata": {
        "id": "h_20Rqcs6-rT"
      },
      "source": [
        "## The environment"
      ]
    },
    {
      "cell_type": "code",
      "execution_count": 5,
      "metadata": {
        "id": "93B0bkSR6-rU"
      },
      "outputs": [],
      "source": [
        "# Teach Q networks to play against a random agent playing white\n",
        "opponent_class = RandomPlayer\n",
        "opponent_is_white = True\n",
        "env = HexChessEnv(opponent_class, opponent_is_white, apply_negative_scores=False)"
      ]
    },
    {
      "cell_type": "code",
      "execution_count": 6,
      "metadata": {
        "colab": {
          "base_uri": "https://localhost:8080/"
        },
        "id": "wWe0gOc-6-rV",
        "outputId": "d7497570-3724-4905-e342-bbffa6c1b9de"
      },
      "outputs": [
        {
          "output_type": "stream",
          "name": "stdout",
          "text": [
            "     \u001b[34mB\u001b[0m \u001b[34mK\u001b[0m \u001b[34mN\u001b[0m \u001b[34mR\u001b[0m \u001b[34mP\u001b[0m * \n",
            "    \u001b[34mQ\u001b[0m \u001b[34mB\u001b[0m * * \u001b[34mP\u001b[0m * * \n",
            "   \u001b[34mN\u001b[0m * \u001b[34mB\u001b[0m * \u001b[34mP\u001b[0m * * * \n",
            "  \u001b[34mR\u001b[0m * * * \u001b[34mP\u001b[0m * * * * \n",
            " \u001b[34mP\u001b[0m \u001b[34mP\u001b[0m \u001b[34mP\u001b[0m \u001b[34mP\u001b[0m \u001b[34mP\u001b[0m * * * * * \n",
            "* * * * * * * * * * * \n",
            " * * * * * \u001b[33mP\u001b[0m \u001b[33mP\u001b[0m \u001b[33mP\u001b[0m \u001b[33mP\u001b[0m \u001b[33mP\u001b[0m \n",
            "  * * * * \u001b[33mP\u001b[0m * * * \u001b[33mR\u001b[0m \n",
            "   * * * \u001b[33mP\u001b[0m * \u001b[33mB\u001b[0m * \u001b[33mN\u001b[0m \n",
            "    * * \u001b[33mP\u001b[0m * * \u001b[33mB\u001b[0m \u001b[33mK\u001b[0m \n",
            "     * \u001b[33mP\u001b[0m \u001b[33mR\u001b[0m \u001b[33mN\u001b[0m \u001b[33mQ\u001b[0m \u001b[33mB\u001b[0m \n"
          ]
        }
      ],
      "source": [
        "env.render()"
      ]
    },
    {
      "cell_type": "code",
      "execution_count": 6,
      "metadata": {
        "id": "gdOmNmC06-rV"
      },
      "outputs": [],
      "source": [
        "\n"
      ]
    },
    {
      "cell_type": "markdown",
      "metadata": {
        "id": "RPKXbWg46-rX"
      },
      "source": [
        "## The Agent"
      ]
    },
    {
      "cell_type": "code",
      "execution_count": 7,
      "metadata": {
        "id": "K4ofYc7q6-rX"
      },
      "outputs": [],
      "source": [
        "agent = QNetworkAgent(discount_factor=0.1, learning_rate=1e-1)"
      ]
    },
    {
      "cell_type": "code",
      "execution_count": 8,
      "metadata": {
        "colab": {
          "base_uri": "https://localhost:8080/"
        },
        "id": "uLy13Kbu6-rX",
        "outputId": "0045793d-fa4b-49f8-ae32-6cd522bb2b45"
      },
      "outputs": [
        {
          "output_type": "stream",
          "name": "stdout",
          "text": [
            "Model: \"sequential\"\n",
            "_________________________________________________________________\n",
            " Layer (type)                Output Shape              Param #   \n",
            "=================================================================\n",
            " conv2d (Conv2D)             (None, 11, 11, 6)         330       \n",
            "                                                                 \n",
            " up_sampling2d (UpSampling2  (None, 33, 33, 6)         0         \n",
            " D)                                                              \n",
            "                                                                 \n",
            " conv2d_1 (Conv2D)           (None, 33, 33, 3)         165       \n",
            "                                                                 \n",
            " up_sampling2d_1 (UpSamplin  (None, 99, 99, 3)         0         \n",
            " g2D)                                                            \n",
            "                                                                 \n",
            " conv2d_2 (Conv2D)           (None, 95, 95, 1)         76        \n",
            "                                                                 \n",
            " conv2d_3 (Conv2D)           (None, 91, 91, 1)         26        \n",
            "                                                                 \n",
            " flatten (Flatten)           (None, 8281)              0         \n",
            "                                                                 \n",
            "=================================================================\n",
            "Total params: 597 (2.33 KB)\n",
            "Trainable params: 597 (2.33 KB)\n",
            "Non-trainable params: 0 (0.00 Byte)\n",
            "_________________________________________________________________\n"
          ]
        }
      ],
      "source": [
        "agent.fix_model()\n",
        "agent.model_fixed.summary()"
      ]
    },
    {
      "cell_type": "code",
      "execution_count": 8,
      "metadata": {
        "id": "o6AydnyR6-rY"
      },
      "outputs": [],
      "source": []
    },
    {
      "cell_type": "markdown",
      "metadata": {
        "id": "fbg7HLD16-rY"
      },
      "source": [
        "## Learn"
      ]
    },
    {
      "cell_type": "code",
      "source": [
        "# Learning configuration\n",
        "n_episodes = 100\n",
        "model_fix_episodes = 10\n",
        "max_episode_length = 50\n",
        "batch_size = 1024\n",
        "memory_size = batch_size * 4"
      ],
      "metadata": {
        "id": "_J1pAlOcdrPU"
      },
      "execution_count": 9,
      "outputs": []
    },
    {
      "cell_type": "code",
      "execution_count": 10,
      "metadata": {
        "id": "hWGmj_K46-rY"
      },
      "outputs": [],
      "source": [
        "batch_size = 1024\n",
        "q_learning = QLearning(agent, env, memory_size=memory_size)"
      ]
    },
    {
      "cell_type": "code",
      "execution_count": null,
      "metadata": {
        "colab": {
          "base_uri": "https://localhost:8080/"
        },
        "id": "xRiDOKOO6-rZ",
        "outputId": "f33f1708-4f61-4bc8-ef74-ea40f254f6d4"
      },
      "outputs": [
        {
          "output_type": "stream",
          "name": "stdout",
          "text": [
            "Episode 0: reward = 10 over 50 moves\n",
            "Episode 1: reward = 6 over 50 moves\n",
            "Episode 2: reward = 20 over 50 moves\n",
            "Episode 3: reward = 2 over 50 moves\n",
            "Episode 4: reward = 54 over 34 moves\n",
            "Episode 5: reward = 12 over 50 moves\n",
            "Episode 6: reward = 18 over 50 moves\n",
            "Episode 7: reward = 18 over 50 moves\n",
            "Episode 8: reward = 17 over 50 moves\n",
            "Episode 9: reward = 0 over 13 moves\n",
            "Episode 10: reward = 29 over 50 moves\n",
            "Episode 11: reward = 21 over 50 moves\n",
            "Episode 12: reward = 6 over 50 moves\n",
            "Episode 13: reward = 15 over 50 moves\n",
            "Episode 14: reward = 4 over 50 moves\n",
            "Episode 15: reward = 7 over 50 moves\n",
            "Episode 16: reward = 23 over 50 moves\n",
            "Episode 17: reward = 14 over 50 moves\n",
            "Episode 18: reward = 50 over 46 moves\n",
            "Episode 19: reward = 23 over 50 moves\n",
            "Episode 20: reward = 7 over 50 moves\n",
            "Episode 21: reward = 19 over 50 moves\n",
            "Episode 22: reward = 11 over 50 moves\n",
            "Episode 23: reward = 3 over 50 moves\n",
            "Episode 24: reward = 12 over 50 moves\n"
          ]
        }
      ],
      "source": [
        "episode_rewards, step_rewards = q_learning.learn(\n",
        "    n_episodes=n_episodes,\n",
        "    model_fix_episodes=model_fix_episodes,\n",
        "    max_episode_length=max_episode_length,\n",
        "    batch_size=batch_size,\n",
        ")"
      ]
    },
    {
      "cell_type": "markdown",
      "metadata": {
        "id": "1HA_30fv6-rZ"
      },
      "source": [
        "### Save results"
      ]
    },
    {
      "cell_type": "code",
      "source": [
        "# Save results\n",
        "krs.saving.save_model(agent.model, \"./model.keras\")\n",
        "np.savetxt(\"./episode_rewards.csv\", episode_rewards, delimiter=\",\")\n",
        "np.savetxt(\"./step_rewards.csv\", step_rewards, delimiter=\",\")"
      ],
      "metadata": {
        "id": "LO-bVSqlRTks"
      },
      "execution_count": null,
      "outputs": []
    },
    {
      "cell_type": "code",
      "execution_count": null,
      "metadata": {
        "id": "Ntp9oB1S6-rZ"
      },
      "outputs": [],
      "source": [
        "# Load results\n",
        "episode_rewards = np.loadtxt(\"./episode_rewards.csv\", delimiter=\",\")\n",
        "step_rewards = np.loadtxt(\"./step_rewards.csv\", delimiter=\",\")"
      ]
    },
    {
      "cell_type": "code",
      "source": [],
      "metadata": {
        "id": "5SZ-VEeyhZU8"
      },
      "execution_count": null,
      "outputs": []
    },
    {
      "cell_type": "markdown",
      "source": [
        "### Visualize Results"
      ],
      "metadata": {
        "id": "n4kouBkOhZjg"
      }
    },
    {
      "cell_type": "code",
      "execution_count": null,
      "metadata": {
        "id": "mJDIF8Mt6-rZ"
      },
      "outputs": [],
      "source": [
        "# Plot step rewards\n",
        "fig, ax = plt.subplots()\n",
        "ax.plot(step_rewards)\n",
        "plt.show()"
      ]
    },
    {
      "cell_type": "code",
      "execution_count": null,
      "metadata": {
        "id": "Gn9g4oIk6-rZ"
      },
      "outputs": [],
      "source": [
        "# Smooth step rewards\n",
        "kernel_size = 125\n",
        "kernel = np.ones(kernel_size) / kernel_size\n",
        "step_rewards_smooth = np.convolve(step_rewards, kernel, mode=\"same\")"
      ]
    },
    {
      "cell_type": "code",
      "execution_count": null,
      "metadata": {
        "id": "F9a7lOU_6-ra"
      },
      "outputs": [],
      "source": [
        "# Plot smooth step rewards\n",
        "fig, ax = plt.subplots()\n",
        "ax.plot(step_rewards_smooth)\n",
        "plt.show()"
      ]
    },
    {
      "cell_type": "code",
      "source": [
        "# Plot episode remwards\n",
        "fig, ax = plt.subplots()\n",
        "ax.plot(episode_rewards)\n",
        "plt.show()"
      ],
      "metadata": {
        "id": "SCfYNW41h2EM"
      },
      "execution_count": null,
      "outputs": []
    },
    {
      "cell_type": "code",
      "source": [
        "# Smooth episode rewards\n",
        "kernel_size = 10\n",
        "kernel = np.ones(kernel_size) / kernel_size\n",
        "episode_rewards_smooth = np.convolve(episode_rewards, kernel, mode=\"same\")"
      ],
      "metadata": {
        "id": "QUj6sEyah9Km"
      },
      "execution_count": null,
      "outputs": []
    },
    {
      "cell_type": "code",
      "source": [
        "# Plot smooth episode remwards\n",
        "fig, ax = plt.subplots()\n",
        "ax.plot(episode_rewards_smooth)\n",
        "plt.show()"
      ],
      "metadata": {
        "id": "n1KxhAc2iG5A"
      },
      "execution_count": null,
      "outputs": []
    },
    {
      "cell_type": "code",
      "source": [],
      "metadata": {
        "id": "LmMbIkJYiJoH"
      },
      "execution_count": null,
      "outputs": []
    }
  ],
  "metadata": {
    "kernelspec": {
      "display_name": "Python 3",
      "name": "python3"
    },
    "language_info": {
      "codemirror_mode": {
        "name": "ipython",
        "version": 3
      },
      "file_extension": ".py",
      "mimetype": "text/x-python",
      "name": "python",
      "nbconvert_exporter": "python",
      "pygments_lexer": "ipython3",
      "version": "3.10.12"
    },
    "orig_nbformat": 4,
    "colab": {
      "provenance": [],
      "gpuType": "T4"
    },
    "accelerator": "GPU"
  },
  "nbformat": 4,
  "nbformat_minor": 0
}