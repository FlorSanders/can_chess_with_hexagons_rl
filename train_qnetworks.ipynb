{
 "cells": [
  {
   "cell_type": "markdown",
   "metadata": {},
   "source": [
    "# Q-Networks for Hexagon Chess"
   ]
  },
  {
   "cell_type": "markdown",
   "metadata": {},
   "source": [
    "## Setup"
   ]
  },
  {
   "cell_type": "code",
   "execution_count": 1,
   "metadata": {},
   "outputs": [],
   "source": [
    "%matplotlib inline\n",
    "%load_ext autoreload\n",
    "%autoreload 2"
   ]
  },
  {
   "cell_type": "code",
   "execution_count": 2,
   "metadata": {},
   "outputs": [],
   "source": [
    "import numpy as np\n",
    "import matplotlib.pyplot as plt\n",
    "import os"
   ]
  },
  {
   "cell_type": "code",
   "execution_count": 3,
   "metadata": {},
   "outputs": [
    {
     "name": "stdout",
     "output_type": "stream",
     "text": [
      "pygame 2.5.2 (SDL 2.28.2, Python 3.10.12)\n",
      "Hello from the pygame community. https://www.pygame.org/contribute.html\n"
     ]
    },
    {
     "name": "stderr",
     "output_type": "stream",
     "text": [
      "2024-02-25 18:16:01.636944: I tensorflow/tsl/cuda/cudart_stub.cc:28] Could not find cuda drivers on your machine, GPU will not be used.\n",
      "2024-02-25 18:16:01.678149: E tensorflow/compiler/xla/stream_executor/cuda/cuda_dnn.cc:9342] Unable to register cuDNN factory: Attempting to register factory for plugin cuDNN when one has already been registered\n",
      "2024-02-25 18:16:01.678192: E tensorflow/compiler/xla/stream_executor/cuda/cuda_fft.cc:609] Unable to register cuFFT factory: Attempting to register factory for plugin cuFFT when one has already been registered\n",
      "2024-02-25 18:16:01.678225: E tensorflow/compiler/xla/stream_executor/cuda/cuda_blas.cc:1518] Unable to register cuBLAS factory: Attempting to register factory for plugin cuBLAS when one has already been registered\n",
      "2024-02-25 18:16:01.685658: I tensorflow/tsl/cuda/cudart_stub.cc:28] Could not find cuda drivers on your machine, GPU will not be used.\n",
      "2024-02-25 18:16:01.687029: I tensorflow/core/platform/cpu_feature_guard.cc:182] This TensorFlow binary is optimized to use available CPU instructions in performance-critical operations.\n",
      "To enable the following instructions: AVX2 FMA, in other operations, rebuild TensorFlow with the appropriate compiler flags.\n",
      "2024-02-25 18:16:02.640010: W tensorflow/compiler/tf2tensorrt/utils/py_utils.cc:38] TF-TRT Warning: Could not find TensorRT\n"
     ]
    }
   ],
   "source": [
    "from engines.environment import HexChessEnv\n",
    "from engines.qnetworks import QNetworkAgent, QLearning\n",
    "from hexchess.players import RandomPlayer"
   ]
  },
  {
   "cell_type": "code",
   "execution_count": null,
   "metadata": {},
   "outputs": [],
   "source": []
  },
  {
   "cell_type": "markdown",
   "metadata": {},
   "source": [
    "## The environment"
   ]
  },
  {
   "cell_type": "code",
   "execution_count": 4,
   "metadata": {},
   "outputs": [],
   "source": [
    "# Teach Q networks to play against a random agent playing white\n",
    "opponent_class = RandomPlayer\n",
    "opponent_is_white = True\n",
    "env = HexChessEnv(opponent_class, opponent_is_white)"
   ]
  },
  {
   "cell_type": "code",
   "execution_count": 5,
   "metadata": {},
   "outputs": [
    {
     "name": "stdout",
     "output_type": "stream",
     "text": [
      "     \u001b[34mB\u001b[0m \u001b[34mK\u001b[0m \u001b[34mN\u001b[0m \u001b[34mR\u001b[0m \u001b[34mP\u001b[0m * \n",
      "    \u001b[34mQ\u001b[0m \u001b[34mB\u001b[0m * * \u001b[34mP\u001b[0m * * \n",
      "   \u001b[34mN\u001b[0m * \u001b[34mB\u001b[0m * \u001b[34mP\u001b[0m * * * \n",
      "  \u001b[34mR\u001b[0m * * * \u001b[34mP\u001b[0m * * * * \n",
      " \u001b[34mP\u001b[0m \u001b[34mP\u001b[0m \u001b[34mP\u001b[0m \u001b[34mP\u001b[0m \u001b[34mP\u001b[0m * * * * * \n",
      "* * * * * * * * * * * \n",
      " * * * * * \u001b[33mP\u001b[0m \u001b[33mP\u001b[0m \u001b[33mP\u001b[0m \u001b[33mP\u001b[0m \u001b[33mP\u001b[0m \n",
      "  * * * * \u001b[33mP\u001b[0m * * * \u001b[33mR\u001b[0m \n",
      "   * * * \u001b[33mP\u001b[0m * \u001b[33mB\u001b[0m * \u001b[33mN\u001b[0m \n",
      "    * * \u001b[33mP\u001b[0m * * \u001b[33mB\u001b[0m \u001b[33mK\u001b[0m \n",
      "     * \u001b[33mP\u001b[0m \u001b[33mR\u001b[0m \u001b[33mN\u001b[0m \u001b[33mQ\u001b[0m \u001b[33mB\u001b[0m \n"
     ]
    }
   ],
   "source": [
    "env.render()"
   ]
  },
  {
   "cell_type": "code",
   "execution_count": null,
   "metadata": {},
   "outputs": [],
   "source": []
  },
  {
   "cell_type": "markdown",
   "metadata": {},
   "source": [
    "## The Agent"
   ]
  },
  {
   "cell_type": "code",
   "execution_count": 6,
   "metadata": {},
   "outputs": [],
   "source": [
    "agent = QNetworkAgent(discount_factor=0.1, learning_rate=1e-2)"
   ]
  },
  {
   "cell_type": "code",
   "execution_count": 7,
   "metadata": {},
   "outputs": [
    {
     "name": "stdout",
     "output_type": "stream",
     "text": [
      "Model: \"sequential\"\n",
      "_________________________________________________________________\n",
      " Layer (type)                Output Shape              Param #   \n",
      "=================================================================\n",
      " conv2d (Conv2D)             (None, 11, 11, 6)         330       \n",
      "                                                                 \n",
      " up_sampling2d (UpSampling2  (None, 33, 33, 6)         0         \n",
      " D)                                                              \n",
      "                                                                 \n",
      " conv2d_1 (Conv2D)           (None, 33, 33, 3)         165       \n",
      "                                                                 \n",
      " up_sampling2d_1 (UpSamplin  (None, 99, 99, 3)         0         \n",
      " g2D)                                                            \n",
      "                                                                 \n",
      " conv2d_2 (Conv2D)           (None, 95, 95, 1)         76        \n",
      "                                                                 \n",
      " conv2d_3 (Conv2D)           (None, 91, 91, 1)         26        \n",
      "                                                                 \n",
      " flatten (Flatten)           (None, 8281)              0         \n",
      "                                                                 \n",
      "=================================================================\n",
      "Total params: 597 (2.33 KB)\n",
      "Trainable params: 597 (2.33 KB)\n",
      "Non-trainable params: 0 (0.00 Byte)\n",
      "_________________________________________________________________\n"
     ]
    }
   ],
   "source": [
    "agent.fix_model()\n",
    "agent.model_fixed.summary()"
   ]
  },
  {
   "cell_type": "code",
   "execution_count": null,
   "metadata": {},
   "outputs": [],
   "source": []
  },
  {
   "cell_type": "markdown",
   "metadata": {},
   "source": [
    "## Learn"
   ]
  },
  {
   "cell_type": "code",
   "execution_count": 8,
   "metadata": {},
   "outputs": [],
   "source": [
    "q_learning = QLearning(agent, env, memory_size=100)"
   ]
  },
  {
   "cell_type": "code",
   "execution_count": 21,
   "metadata": {},
   "outputs": [
    {
     "name": "stdout",
     "output_type": "stream",
     "text": [
      "Episode 0: -42\n",
      "Episode 1: -49\n",
      "Episode 2: 45\n",
      "Episode 3: -49\n",
      "Episode 4: -42\n",
      "Episode 5: -43\n",
      "Episode 6: -51\n",
      "Episode 7: 45\n",
      "Episode 8: 38\n",
      "Episode 9: -47\n",
      "Episode 10: -42\n",
      "Episode 11: 49\n",
      "Episode 12: 36\n",
      "Episode 13: -37\n",
      "Episode 14: 38\n",
      "Episode 15: 37\n",
      "Episode 16: -64\n",
      "Episode 17: 37\n",
      "Episode 18: 44\n",
      "Episode 19: -49\n",
      "Episode 20: 53\n",
      "Episode 21: 44\n",
      "Episode 22: -42\n",
      "Episode 23: -53\n",
      "Episode 24: 40\n",
      "Episode 25: -41\n",
      "Episode 26: -28\n",
      "Episode 27: -50\n",
      "Episode 28: 51\n",
      "Episode 29: 49\n",
      "Episode 30: 37\n",
      "Episode 31: 36\n",
      "Episode 32: -36\n",
      "Episode 33: 39\n",
      "Episode 34: 48\n",
      "Episode 35: -56\n",
      "Episode 36: 46\n",
      "Episode 37: 52\n",
      "Episode 38: -40\n",
      "Episode 39: 42\n",
      "Episode 40: 44\n",
      "Episode 41: 60\n",
      "Episode 42: -51\n",
      "Episode 43: 54\n",
      "Episode 44: -51\n",
      "Episode 45: 63\n",
      "Episode 46: -37\n",
      "Episode 47: 24\n",
      "Episode 48: -35\n",
      "Episode 49: -46\n",
      "Episode 50: -59\n",
      "Episode 51: 51\n",
      "Episode 52: 44\n",
      "Episode 53: -50\n",
      "Episode 54: -52\n",
      "Episode 55: -42\n",
      "Episode 56: 40\n",
      "Episode 57: 43\n",
      "Episode 58: -30\n",
      "Episode 59: 30\n",
      "Episode 60: -47\n",
      "Episode 61: 36\n",
      "Episode 62: -68\n",
      "Episode 63: -40\n",
      "Episode 64: 56\n",
      "Episode 65: -37\n",
      "Episode 66: -48\n",
      "Episode 67: 42\n",
      "Episode 68: -31\n",
      "Episode 69: -42\n",
      "Episode 70: -39\n",
      "Episode 71: 43\n",
      "Episode 72: -56\n",
      "Episode 73: 57\n",
      "Episode 74: 39\n",
      "Episode 75: 50\n",
      "Episode 76: 56\n",
      "Episode 77: 48\n",
      "Episode 78: -43\n",
      "Episode 79: 47\n",
      "Episode 80: -42\n",
      "Episode 81: -54\n",
      "Episode 82: 44\n",
      "Episode 83: -3\n",
      "Episode 84: -58\n",
      "Episode 85: -43\n",
      "Episode 86: 46\n",
      "Episode 87: 69\n",
      "Episode 88: 44\n",
      "Episode 89: 44\n",
      "Episode 90: -29\n",
      "Episode 91: -37\n",
      "Episode 92: -46\n",
      "Episode 93: 46\n",
      "Episode 94: -39\n",
      "Episode 95: -38\n",
      "Episode 96: -59\n",
      "Episode 97: 48\n",
      "Episode 98: -52\n",
      "Episode 99: -57\n",
      "Episode 100: -36\n",
      "Episode 101: -39\n",
      "Episode 102: 51\n",
      "Episode 103: -48\n",
      "Episode 104: -47\n",
      "Episode 105: -41\n",
      "Episode 106: 45\n",
      "Episode 107: 49\n",
      "Episode 108: -27\n",
      "Episode 109: 53\n",
      "Episode 110: 50\n",
      "Episode 111: -43\n",
      "Episode 112: -45\n",
      "Episode 113: -43\n",
      "Episode 114: 44\n",
      "Episode 115: -51\n",
      "Episode 116: -41\n",
      "Episode 117: 51\n",
      "Episode 118: 48\n",
      "Episode 119: 48\n",
      "Episode 120: 54\n",
      "Episode 121: -39\n",
      "Episode 122: 44\n",
      "Episode 123: 34\n",
      "Episode 124: 49\n",
      "Episode 125: 45\n",
      "Episode 126: -42\n",
      "Episode 127: 47\n",
      "Episode 128: 39\n",
      "Episode 129: 47\n",
      "Episode 130: -46\n",
      "Episode 131: -34\n",
      "Episode 132: 49\n",
      "Episode 133: -37\n",
      "Episode 134: 50\n",
      "Episode 135: -38\n",
      "Episode 136: -59\n",
      "Episode 137: -52\n",
      "Episode 138: 43\n",
      "Episode 139: 47\n",
      "Episode 140: 39\n",
      "Episode 141: 51\n",
      "Episode 142: -50\n",
      "Episode 143: -40\n",
      "Episode 144: -47\n",
      "Episode 145: 64\n",
      "Episode 146: 44\n",
      "Episode 147: 49\n",
      "Episode 148: -36\n",
      "Episode 149: 36\n",
      "Episode 150: -57\n",
      "Episode 151: -50\n",
      "Episode 152: -46\n",
      "Episode 153: 48\n",
      "Episode 154: -27\n",
      "Episode 155: 37\n",
      "Episode 156: 53\n",
      "Episode 157: -47\n",
      "Episode 158: 39\n",
      "Episode 159: -38\n",
      "Episode 160: 45\n",
      "Episode 161: 58\n",
      "Episode 162: -36\n",
      "Episode 163: 47\n",
      "Episode 164: 45\n",
      "Episode 165: -46\n",
      "Episode 166: 52\n",
      "Episode 167: -48\n",
      "Episode 168: 38\n",
      "Episode 169: 58\n",
      "Episode 170: 45\n",
      "Episode 171: -50\n",
      "Episode 172: -52\n",
      "Episode 173: 53\n",
      "Episode 174: 40\n",
      "Episode 175: -38\n",
      "Episode 176: 46\n",
      "Episode 177: 41\n",
      "Episode 178: 40\n",
      "Episode 179: -50\n",
      "Episode 180: -67\n",
      "Episode 181: 31\n",
      "Episode 182: -45\n",
      "Episode 183: -54\n",
      "Episode 184: -35\n",
      "Episode 185: -36\n",
      "Episode 186: 37\n",
      "Episode 187: 46\n",
      "Episode 188: 45\n",
      "Episode 189: -38\n",
      "Episode 190: 52\n",
      "Episode 191: -6\n",
      "Episode 192: 39\n",
      "Episode 193: -28\n",
      "Episode 194: 52\n",
      "Episode 195: -34\n",
      "Episode 196: -52\n",
      "Episode 197: -41\n",
      "Episode 198: 53\n",
      "Episode 199: 44\n",
      "Episode 200: 58\n",
      "Episode 201: -55\n",
      "Episode 202: -42\n",
      "Episode 203: 48\n",
      "Episode 204: 45\n",
      "Episode 205: 3\n",
      "Episode 206: -62\n",
      "Episode 207: 44\n",
      "Episode 208: -43\n",
      "Episode 209: -34\n",
      "Episode 210: -50\n",
      "Episode 211: -27\n",
      "Episode 212: 51\n",
      "Episode 213: -35\n",
      "Episode 214: -52\n",
      "Episode 215: 45\n",
      "Episode 216: -55\n",
      "Episode 217: 64\n",
      "Episode 218: 49\n",
      "Episode 219: 58\n",
      "Episode 220: -44\n",
      "Episode 221: 32\n",
      "Episode 222: -62\n",
      "Episode 223: -34\n",
      "Episode 224: -47\n",
      "Episode 225: -46\n",
      "Episode 226: 59\n",
      "Episode 227: 46\n",
      "Episode 228: -51\n",
      "Episode 229: 5\n",
      "Episode 230: 44\n",
      "Episode 231: -29\n",
      "Episode 232: 46\n",
      "Episode 233: 43\n",
      "Episode 234: -63\n",
      "Episode 235: 50\n",
      "Episode 236: 57\n",
      "Episode 237: 50\n",
      "Episode 238: 35\n",
      "Episode 239: 37\n",
      "Episode 240: -52\n",
      "Episode 241: 52\n",
      "Episode 242: -51\n",
      "Episode 243: -39\n",
      "Episode 244: 35\n",
      "Episode 245: 46\n",
      "Episode 246: 43\n",
      "Episode 247: 33\n",
      "Episode 248: -61\n",
      "Episode 249: -42\n",
      "Episode 250: -45\n",
      "Episode 251: -52\n",
      "Episode 252: 37\n",
      "Episode 253: 37\n",
      "Episode 254: 50\n",
      "Episode 255: -37\n",
      "Episode 256: -32\n",
      "Episode 257: -43\n",
      "Episode 258: -41\n",
      "Episode 259: 49\n",
      "Episode 260: -45\n",
      "Episode 261: 52\n",
      "Episode 262: 41\n",
      "Episode 263: 60\n",
      "Episode 264: -44\n",
      "Episode 265: 62\n",
      "Episode 266: -39\n",
      "Episode 267: 60\n",
      "Episode 268: -37\n",
      "Episode 269: 42\n",
      "Episode 270: 44\n",
      "Episode 271: -44\n",
      "Episode 272: 51\n",
      "Episode 273: 37\n",
      "Episode 274: -61\n",
      "Episode 275: 50\n",
      "Episode 276: 50\n",
      "Episode 277: 58\n",
      "Episode 278: -44\n",
      "Episode 279: 44\n",
      "Episode 280: 28\n",
      "Episode 281: 54\n",
      "Episode 282: 40\n",
      "Episode 283: 52\n",
      "Episode 284: 40\n",
      "Episode 285: 50\n",
      "Episode 286: 45\n",
      "Episode 287: 47\n",
      "Episode 288: 55\n",
      "Episode 289: -37\n",
      "Episode 290: 38\n",
      "Episode 291: -46\n",
      "Episode 292: 47\n",
      "Episode 293: 49\n",
      "Episode 294: -45\n",
      "Episode 295: -41\n",
      "Episode 296: -40\n",
      "Episode 297: -46\n",
      "Episode 298: 50\n",
      "Episode 299: -32\n",
      "Episode 300: -30\n",
      "Episode 301: 42\n",
      "Episode 302: -61\n",
      "Episode 303: 29\n",
      "Episode 304: 37\n",
      "Episode 305: 47\n",
      "Episode 306: 52\n",
      "Episode 307: -57\n",
      "Episode 308: -33\n",
      "Episode 309: 52\n",
      "Episode 310: -47\n",
      "Episode 311: -43\n",
      "Episode 312: -40\n",
      "Episode 313: -42\n",
      "Episode 314: 30\n",
      "Episode 315: -46\n",
      "Episode 316: -38\n",
      "Episode 317: 39\n",
      "Episode 318: -50\n",
      "Episode 319: 53\n",
      "Episode 320: 35\n",
      "Episode 321: 48\n",
      "Episode 322: 63\n",
      "Episode 323: -36\n",
      "Episode 324: 49\n",
      "Episode 325: 38\n",
      "Episode 326: -34\n",
      "Episode 327: -52\n",
      "Episode 328: 49\n",
      "Episode 329: -44\n",
      "Episode 330: 46\n",
      "Episode 331: 45\n",
      "Episode 332: -31\n",
      "Episode 333: -44\n",
      "Episode 334: 45\n",
      "Episode 335: -43\n",
      "Episode 336: -61\n"
     ]
    }
   ],
   "source": [
    "n_episodes = 750\n",
    "model_fix_episodes = 10\n",
    "max_episode_length = 250\n",
    "batch_size = 25\n",
    "\n",
    "rewards = q_learning.learn(\n",
    "    n_episodes=n_episodes,\n",
    "    model_fix_episodes=model_fix_episodes,\n",
    "    max_episode_length=max_episode_length,\n",
    "    batch_size=batch_size,\n",
    ")"
   ]
  },
  {
   "cell_type": "markdown",
   "metadata": {},
   "source": []
  },
  {
   "cell_type": "code",
   "execution_count": null,
   "metadata": {},
   "outputs": [
    {
     "data": {
      "text/plain": [
       "[<matplotlib.lines.Line2D at 0x71d558424b80>]"
      ]
     },
     "execution_count": 11,
     "metadata": {},
     "output_type": "execute_result"
    },
    {
     "data": {
      "image/png": "[encoded data removed]",
      "text/plain": [
       "<Figure size 640x480 with 1 Axes>"
      ]
     },
     "metadata": {},
     "output_type": "display_data"
    }
   ],
   "source": [
    "plt.plot(rewards)"
   ]
  },
  {
   "cell_type": "code",
   "execution_count": null,
   "metadata": {},
   "outputs": [],
   "source": [
    "# Smooth rewards by averaging over the last 25 episodes\n",
    "kernel_size = 25\n",
    "kernel = np.ones(kernel_size) / kernel_size\n",
    "rewards_smooth = np.convolve(rewards, kernel, mode=\"same\")"
   ]
  },
  {
   "cell_type": "code",
   "execution_count": null,
   "metadata": {},
   "outputs": [
    {
     "data": {
      "text/plain": [
       "[<matplotlib.lines.Line2D at 0x71d5604eb550>]"
      ]
     },
     "execution_count": 19,
     "metadata": {},
     "output_type": "execute_result"
    },
    {
     "data": {
      "image/png": "[encoded data removed]",
      "text/plain": [
       "<Figure size 640x480 with 1 Axes>"
      ]
     },
     "metadata": {},
     "output_type": "display_data"
    }
   ],
   "source": [
    "plt.plot(rewards_smooth)"
   ]
  },
  {
   "cell_type": "code",
   "execution_count": null,
   "metadata": {},
   "outputs": [],
   "source": []
  }
 ],
 "metadata": {
  "kernelspec": {
   "display_name": "Python 3",
   "language": "python",
   "name": "python3"
  },
  "language_info": {
   "codemirror_mode": {
    "name": "ipython",
    "version": 3
   },
   "file_extension": ".py",
   "mimetype": "text/x-python",
   "name": "python",
   "nbconvert_exporter": "python",
   "pygments_lexer": "ipython3",
   "version": "3.10.12"
  },
  "orig_nbformat": 4
 },
 "nbformat": 4,
 "nbformat_minor": 2
}
