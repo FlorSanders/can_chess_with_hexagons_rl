{
 "cells": [
  {
   "cell_type": "markdown",
   "metadata": {
    "id": "KUD07Hls6-rO"
   },
   "source": [
    "# Q-Networks for Hexagon Chess"
   ]
  },
  {
   "cell_type": "markdown",
   "metadata": {
    "id": "gAlocSYA6-rQ"
   },
   "source": [
    "## Setup"
   ]
  },
  {
   "cell_type": "code",
   "execution_count": null,
   "metadata": {
    "id": "rrLMCixA6-rQ",
    "tags": []
   },
   "outputs": [],
   "source": [
    "# Setup\n",
    "%matplotlib inline\n",
    "%load_ext autoreload\n",
    "%autoreload 2"
   ]
  },
  {
   "cell_type": "code",
   "execution_count": null,
   "metadata": {
    "id": "kb0cOu5V6-rR",
    "tags": []
   },
   "outputs": [],
   "source": [
    "# Import libraries\n",
    "import numpy as np\n",
    "import matplotlib.pyplot as plt\n",
    "import os\n",
    "import tensorflow as tf\n",
    "import tensorflow.keras as krs\n",
    "plt.style.use(\"tableau-colorblind10\")\n",
    "plt.rcParams.update({'font.size': 14})\n",
    "gpus = tf.config.list_physical_devices('GPU') \n",
    "tf.config.experimental.set_memory_growth(gpus[0], True)\n",
    "print(gpus[0])"
   ]
  },
  {
   "cell_type": "code",
   "execution_count": null,
   "metadata": {
    "colab": {
     "base_uri": "https://localhost:8080/"
    },
    "id": "XBaUeLl16-rS",
    "outputId": "06971cff-2483-4cc3-9d19-b957519e84a8",
    "tags": []
   },
   "outputs": [],
   "source": [
    "# Hex Chess Environment & Players\n",
    "from hexchess.board import HexChessBoard\n",
    "from engines.environment import HexChessEnv\n",
    "from engines.qnetworks import QNetworkAgent, QLearning\n",
    "from hexchess.players import RandomPlayer, GreedyPlayer\n",
    "from utils import plot_step_rewards, plot_episode_rewards"
   ]
  },
  {
   "cell_type": "code",
   "execution_count": null,
   "metadata": {
    "tags": []
   },
   "outputs": [],
   "source": [
    "# Constants\n",
    "base_path = os.path.join(\"assets\", \"qnetworks\")\n",
    "figs_path = os.path.join(\"figures\", \"qnetworks\")"
   ]
  },
  {
   "cell_type": "markdown",
   "metadata": {
    "id": "h_20Rqcs6-rT"
   },
   "source": [
    "## The environment"
   ]
  },
  {
   "cell_type": "code",
   "execution_count": null,
   "metadata": {
    "id": "93B0bkSR6-rU",
    "tags": []
   },
   "outputs": [],
   "source": [
    "# Teach Q networks to play against a random agent playing white\n",
    "opponent_class = GreedyPlayer\n",
    "opponent_is_white = False\n",
    "apply_negative_scores = False\n",
    "board_kwargs = {\n",
    "    \"initialize_random\": True,\n",
    "    \"save_dir\": os.path.join(\"states\", f\"{np.random.randint(1000, 10000)}\".zfill(5)),\n",
    "}\n",
    "env = HexChessEnv(\n",
    "    opponent_class, \n",
    "    opponent_is_white, \n",
    "    apply_negative_scores=apply_negative_scores, \n",
    "    board_kwargs=board_kwargs\n",
    ")"
   ]
  },
  {
   "cell_type": "code",
   "execution_count": null,
   "metadata": {
    "colab": {
     "base_uri": "https://localhost:8080/"
    },
    "id": "wWe0gOc-6-rV",
    "outputId": "d7497570-3724-4905-e342-bbffa6c1b9de",
    "tags": []
   },
   "outputs": [],
   "source": [
    "env.render()"
   ]
  },
  {
   "cell_type": "code",
   "execution_count": null,
   "metadata": {
    "id": "gdOmNmC06-rV"
   },
   "outputs": [],
   "source": [
    "\n"
   ]
  },
  {
   "cell_type": "markdown",
   "metadata": {
    "id": "RPKXbWg46-rX"
   },
   "source": [
    "## The Agent"
   ]
  },
  {
   "cell_type": "code",
   "execution_count": null,
   "metadata": {
    "tags": []
   },
   "outputs": [],
   "source": [
    "# Configure agent\n",
    "is_large = True\n",
    "use_pretrained_weights = True\n",
    "pretrained_model_path = \"./assets/qnetworks/randomgreedy_pr_white_large\" if use_pretrained_weights else None"
   ]
  },
  {
   "cell_type": "code",
   "execution_count": null,
   "metadata": {
    "tags": []
   },
   "outputs": [],
   "source": [
    "# Construct model name\n",
    "pretrained_pre_ = os.path.splitext(os.path.basename(pretrained_model_path))[0].split(\"_\")[0] if pretrained_model_path is not None else \"\"\n",
    "opponent_name = opponent_class.name.split(\" \")[0].lower()\n",
    "_reward_app = \"_nr\" if apply_negative_scores else \"_pr\"\n",
    "model_color = \"black\" if opponent_is_white else \"white\"\n",
    "_large_app = \"_large\" if is_large else \"\"\n",
    "model_name = f\"{pretrained_pre_}{opponent_name}{_reward_app}_{model_color}{_large_app}\"\n",
    "print(model_name)"
   ]
  },
  {
   "cell_type": "code",
   "execution_count": null,
   "metadata": {
    "tags": []
   },
   "outputs": [],
   "source": [
    "# Initialize \n",
    "agent = QNetworkAgent(\n",
    "    model_path=pretrained_model_path, \n",
    "    is_large=is_large, \n",
    "    discount_factor=0.1, \n",
    "    learning_rate=1e-3\n",
    ")"
   ]
  },
  {
   "cell_type": "code",
   "execution_count": null,
   "metadata": {
    "colab": {
     "base_uri": "https://localhost:8080/"
    },
    "id": "uLy13Kbu6-rX",
    "outputId": "0045793d-fa4b-49f8-ae32-6cd522bb2b45",
    "tags": []
   },
   "outputs": [],
   "source": [
    "agent.fix_model()\n",
    "agent.model_fixed.summary()"
   ]
  },
  {
   "cell_type": "code",
   "execution_count": null,
   "metadata": {
    "id": "o6AydnyR6-rY"
   },
   "outputs": [],
   "source": []
  },
  {
   "cell_type": "markdown",
   "metadata": {
    "id": "fbg7HLD16-rY"
   },
   "source": [
    "## Learn"
   ]
  },
  {
   "cell_type": "code",
   "execution_count": null,
   "metadata": {
    "id": "_J1pAlOcdrPU",
    "tags": []
   },
   "outputs": [],
   "source": [
    "# Learning configuration\n",
    "n_episodes = 5000\n",
    "model_fix_episodes = 10\n",
    "max_episode_length = 50\n",
    "batch_size = 512\n",
    "memory_size = batch_size * 4"
   ]
  },
  {
   "cell_type": "code",
   "execution_count": null,
   "metadata": {
    "id": "hWGmj_K46-rY",
    "tags": []
   },
   "outputs": [],
   "source": [
    "q_learning = QLearning(agent, env, memory_size=memory_size)"
   ]
  },
  {
   "cell_type": "code",
   "execution_count": null,
   "metadata": {
    "colab": {
     "base_uri": "https://localhost:8080/"
    },
    "id": "xRiDOKOO6-rZ",
    "outputId": "f33f1708-4f61-4bc8-ef74-ea40f254f6d4",
    "tags": []
   },
   "outputs": [],
   "source": [
    "episode_rewards, step_rewards = q_learning.learn(\n",
    "    n_episodes=n_episodes,\n",
    "    model_fix_episodes=model_fix_episodes,\n",
    "    max_episode_length=max_episode_length,\n",
    "    batch_size=batch_size,\n",
    ")"
   ]
  },
  {
   "cell_type": "markdown",
   "metadata": {
    "id": "1HA_30fv6-rZ"
   },
   "source": [
    "### Save results"
   ]
  },
  {
   "cell_type": "code",
   "execution_count": null,
   "metadata": {
    "id": "LO-bVSqlRTks",
    "tags": []
   },
   "outputs": [],
   "source": [
    "# Save results\n",
    "agent.model.save(os.path.join(\"assets\", \"qnetworks\", f\"{model_name}\"))\n",
    "np.savetxt(os.path.join(base_path, f\"{model_name}_episode_rewards.csv\"), episode_rewards, delimiter=\",\")\n",
    "np.savetxt(os.path.join(base_path, f\"{model_name}_step_rewards.csv\"), step_rewards, delimiter=\",\")"
   ]
  },
  {
   "cell_type": "code",
   "execution_count": null,
   "metadata": {},
   "outputs": [],
   "source": []
  },
  {
   "cell_type": "markdown",
   "metadata": {},
   "source": [
    "### Load Results"
   ]
  },
  {
   "cell_type": "code",
   "execution_count": null,
   "metadata": {
    "tags": []
   },
   "outputs": [],
   "source": [
    "# Model configuration\n",
    "opponent_class = GreedyPlayer\n",
    "opponent_is_white = False\n",
    "apply_negative_scores = False\n",
    "is_large = True\n",
    "use_pretrained_weights = True\n",
    "pretrained_model_path = \"./assets/qnetworks/randomgreedy_pr_model_white_large.keras\" if use_pretrained_weights else None\n",
    "\n",
    "# Model name\n",
    "pretrained_pre_ = os.path.splitext(os.path.basename(pretrained_model_path))[0].split(\"_\")[0] if pretrained_model_path is not None else \"\"\n",
    "opponent_name = opponent_class.name.split(\" \")[0].lower()\n",
    "_reward_app = \"_nr\" if apply_negative_scores else \"_pr\"\n",
    "model_color = \"black\" if opponent_is_white else \"white\"\n",
    "_large_app = \"_large\" if is_large else \"\"\n",
    "model_name = f\"{pretrained_pre_}{opponent_name}{_reward_app}_{model_color}{_large_app}\"\n",
    "print(model_name)"
   ]
  },
  {
   "cell_type": "code",
   "execution_count": null,
   "metadata": {
    "tags": []
   },
   "outputs": [],
   "source": [
    "# Load results\n",
    "episode_rewards = np.loadtxt(os.path.join(base_path, f\"{model_name}_episode_rewards.csv\"), delimiter=\",\")\n",
    "step_rewards = np.loadtxt(os.path.join(base_path, f\"{model_name}_step_rewards.csv\"))"
   ]
  },
  {
   "cell_type": "markdown",
   "metadata": {
    "id": "n4kouBkOhZjg"
   },
   "source": [
    "### Visualize Results"
   ]
  },
  {
   "cell_type": "code",
   "execution_count": null,
   "metadata": {
    "tags": []
   },
   "outputs": [],
   "source": [
    "# Make plots\n",
    "fig, ax = plot_step_rewards(step_rewards, save_path=os.path.join(figs_path, f\"{model_name}_step_rewards.png\"))\n",
    "fig, ax = plot_episode_rewards(episode_rewards, save_path=os.path.join(figs_path, f\"{model_name}_episode_rewards.png\"), kernel_size=100)\n",
    "plt.show()"
   ]
  },
  {
   "cell_type": "code",
   "execution_count": null,
   "metadata": {
    "id": "LmMbIkJYiJoH",
    "tags": []
   },
   "outputs": [],
   "source": [
    "# Generate all figures\n",
    "model_names = [os.path.splitext(file)[0] for file in os.listdir(base_path) if os.path.splitext(file)[-1] == \".keras\"]\n",
    "for model_name in model_names:\n",
    "    print(model_name)\n",
    "    episode_rewards = np.loadtxt(os.path.join(base_path, f\"{model_name}_episode_rewards.csv\"), delimiter=\",\")\n",
    "    step_rewards = np.loadtxt(os.path.join(base_path, f\"{model_name}_step_rewards.csv\"))\n",
    "    fig, ax = plot_step_rewards(step_rewards, save_path=os.path.join(figs_path, f\"{model_name}_step_rewards.png\"))\n",
    "    plt.close(fig)\n",
    "    fig, ax = plot_episode_rewards(episode_rewards, save_path=os.path.join(figs_path, f\"{model_name}_episode_rewards.png\"))\n",
    "    plt.close(fig)\n",
    "    #plt.show()"
   ]
  },
  {
   "cell_type": "code",
   "execution_count": null,
   "metadata": {},
   "outputs": [],
   "source": []
  }
 ],
 "metadata": {
  "accelerator": "GPU",
  "colab": {
   "gpuType": "T4",
   "provenance": []
  },
  "kernelspec": {
   "display_name": "Python 3 (Local)",
   "language": "python",
   "name": "python3"
  },
  "language_info": {
   "codemirror_mode": {
    "name": "ipython",
    "version": 3
   },
   "file_extension": ".py",
   "mimetype": "text/x-python",
   "name": "python",
   "nbconvert_exporter": "python",
   "pygments_lexer": "ipython3",
   "version": "3.10.0"
  }
 },
 "nbformat": 4,
 "nbformat_minor": 4
}
