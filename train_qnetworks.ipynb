{
 "cells": [
  {
   "cell_type": "markdown",
   "metadata": {
    "id": "KUD07Hls6-rO"
   },
   "source": [
    "# Q-Networks for Hexagon Chess"
   ]
  },
  {
   "cell_type": "markdown",
   "metadata": {
    "id": "gAlocSYA6-rQ"
   },
   "source": [
    "## Setup"
   ]
  },
  {
   "cell_type": "code",
   "execution_count": 1,
   "metadata": {
    "id": "rrLMCixA6-rQ",
    "tags": []
   },
   "outputs": [],
   "source": [
    "# Setup\n",
    "%matplotlib inline\n",
    "%load_ext autoreload\n",
    "%autoreload 2"
   ]
  },
  {
   "cell_type": "code",
   "execution_count": 2,
   "metadata": {
    "id": "kb0cOu5V6-rR",
    "tags": []
   },
   "outputs": [
    {
     "name": "stderr",
     "output_type": "stream",
     "text": [
      "2024-04-06 13:47:46.984219: I tensorflow/core/platform/cpu_feature_guard.cc:193] This TensorFlow binary is optimized with oneAPI Deep Neural Network Library (oneDNN) to use the following CPU instructions in performance-critical operations:  AVX2 AVX512F FMA\n",
      "To enable them in other operations, rebuild TensorFlow with the appropriate compiler flags.\n",
      "2024-04-06 13:47:47.902627: W tensorflow/compiler/xla/stream_executor/platform/default/dso_loader.cc:64] Could not load dynamic library 'libnvinfer.so.7'; dlerror: libnvinfer.so.7: cannot open shared object file: No such file or directory; LD_LIBRARY_PATH: /usr/local/cuda/lib64:/usr/local/nccl2/lib:/usr/local/cuda/extras/CUPTI/lib64:/usr/local/cuda/lib64:/usr/local/nccl2/lib:/usr/local/cuda/extras/CUPTI/lib64\n",
      "2024-04-06 13:47:47.902734: W tensorflow/compiler/xla/stream_executor/platform/default/dso_loader.cc:64] Could not load dynamic library 'libnvinfer_plugin.so.7'; dlerror: libnvinfer_plugin.so.7: cannot open shared object file: No such file or directory; LD_LIBRARY_PATH: /usr/local/cuda/lib64:/usr/local/nccl2/lib:/usr/local/cuda/extras/CUPTI/lib64:/usr/local/cuda/lib64:/usr/local/nccl2/lib:/usr/local/cuda/extras/CUPTI/lib64\n",
      "2024-04-06 13:47:47.902744: W tensorflow/compiler/tf2tensorrt/utils/py_utils.cc:38] TF-TRT Warning: Cannot dlopen some TensorRT libraries. If you would like to use Nvidia GPU with TensorRT, please make sure the missing libraries mentioned above are installed properly.\n"
     ]
    },
    {
     "name": "stdout",
     "output_type": "stream",
     "text": [
      "PhysicalDevice(name='/physical_device:GPU:0', device_type='GPU')\n"
     ]
    },
    {
     "name": "stderr",
     "output_type": "stream",
     "text": [
      "2024-04-06 13:47:49.152252: I tensorflow/compiler/xla/stream_executor/cuda/cuda_gpu_executor.cc:981] successful NUMA node read from SysFS had negative value (-1), but there must be at least one NUMA node, so returning NUMA node zero\n",
      "2024-04-06 13:47:49.218018: I tensorflow/compiler/xla/stream_executor/cuda/cuda_gpu_executor.cc:981] successful NUMA node read from SysFS had negative value (-1), but there must be at least one NUMA node, so returning NUMA node zero\n",
      "2024-04-06 13:47:49.220029: I tensorflow/compiler/xla/stream_executor/cuda/cuda_gpu_executor.cc:981] successful NUMA node read from SysFS had negative value (-1), but there must be at least one NUMA node, so returning NUMA node zero\n"
     ]
    }
   ],
   "source": [
    "# Import libraries\n",
    "import numpy as np\n",
    "import matplotlib.pyplot as plt\n",
    "import os\n",
    "import tensorflow as tf\n",
    "import tensorflow.keras as krs\n",
    "plt.style.use(\"tableau-colorblind10\")\n",
    "plt.rcParams.update({'font.size': 14})\n",
    "gpus = tf.config.list_physical_devices('GPU') \n",
    "tf.config.experimental.set_memory_growth(gpus[0], True)\n",
    "print(gpus[0])"
   ]
  },
  {
   "cell_type": "code",
   "execution_count": 3,
   "metadata": {
    "colab": {
     "base_uri": "https://localhost:8080/"
    },
    "id": "XBaUeLl16-rS",
    "outputId": "06971cff-2483-4cc3-9d19-b957519e84a8",
    "tags": []
   },
   "outputs": [
    {
     "name": "stdout",
     "output_type": "stream",
     "text": [
      "pygame 2.5.2 (SDL 2.28.2, Python 3.10.13)\n",
      "Hello from the pygame community. https://www.pygame.org/contribute.html\n"
     ]
    }
   ],
   "source": [
    "# Hex Chess Environment & Players\n",
    "from hexchess.board import HexChessBoard\n",
    "from engines.environment import HexChessEnv\n",
    "from engines.qnetworks import QNetworkAgent, QLearning\n",
    "from hexchess.players import RandomPlayer, GreedyPlayer\n",
    "from utils import plot_step_rewards, plot_episode_rewards"
   ]
  },
  {
   "cell_type": "code",
   "execution_count": 4,
   "metadata": {
    "tags": []
   },
   "outputs": [],
   "source": [
    "# Constants\n",
    "base_path = os.path.join(\"assets\", \"qnetworks\")\n",
    "figs_path = os.path.join(\"figures\", \"qnetworks\")"
   ]
  },
  {
   "cell_type": "markdown",
   "metadata": {
    "id": "h_20Rqcs6-rT"
   },
   "source": [
    "## The environment"
   ]
  },
  {
   "cell_type": "code",
   "execution_count": 5,
   "metadata": {
    "id": "93B0bkSR6-rU",
    "tags": []
   },
   "outputs": [
    {
     "name": "stdout",
     "output_type": "stream",
     "text": [
      "WARNING: Random initialization requested but failed - initializing with standard layout\n"
     ]
    }
   ],
   "source": [
    "# Teach Q networks to play against a random agent playing white\n",
    "opponent_class = GreedyPlayer\n",
    "opponent_is_white = False\n",
    "apply_negative_scores = False\n",
    "board_kwargs = {\n",
    "    \"initialize_random\": True,\n",
    "    \"save_dir\": os.path.join(\"states\", f\"{np.random.randint(1000, 10000)}\".zfill(5)),\n",
    "}\n",
    "env = HexChessEnv(\n",
    "    opponent_class, \n",
    "    opponent_is_white, \n",
    "    apply_negative_scores=apply_negative_scores, \n",
    "    board_kwargs=board_kwargs\n",
    ")"
   ]
  },
  {
   "cell_type": "code",
   "execution_count": 6,
   "metadata": {
    "colab": {
     "base_uri": "https://localhost:8080/"
    },
    "id": "wWe0gOc-6-rV",
    "outputId": "d7497570-3724-4905-e342-bbffa6c1b9de",
    "tags": []
   },
   "outputs": [
    {
     "name": "stdout",
     "output_type": "stream",
     "text": [
      "     \u001b[34mB\u001b[0m \u001b[34mK\u001b[0m \u001b[34mN\u001b[0m \u001b[34mR\u001b[0m \u001b[34mP\u001b[0m * \n",
      "    \u001b[34mQ\u001b[0m \u001b[34mB\u001b[0m * * \u001b[34mP\u001b[0m * * \n",
      "   \u001b[34mN\u001b[0m * \u001b[34mB\u001b[0m * \u001b[34mP\u001b[0m * * * \n",
      "  \u001b[34mR\u001b[0m * * * \u001b[34mP\u001b[0m * * * * \n",
      " \u001b[34mP\u001b[0m \u001b[34mP\u001b[0m \u001b[34mP\u001b[0m \u001b[34mP\u001b[0m \u001b[34mP\u001b[0m * * * * * \n",
      "* * * * * * * * * * * \n",
      " * * * * * \u001b[33mP\u001b[0m \u001b[33mP\u001b[0m \u001b[33mP\u001b[0m \u001b[33mP\u001b[0m \u001b[33mP\u001b[0m \n",
      "  * * * * \u001b[33mP\u001b[0m * * * \u001b[33mR\u001b[0m \n",
      "   * * * \u001b[33mP\u001b[0m * \u001b[33mB\u001b[0m * \u001b[33mN\u001b[0m \n",
      "    * * \u001b[33mP\u001b[0m * * \u001b[33mB\u001b[0m \u001b[33mK\u001b[0m \n",
      "     * \u001b[33mP\u001b[0m \u001b[33mR\u001b[0m \u001b[33mN\u001b[0m \u001b[33mQ\u001b[0m \u001b[33mB\u001b[0m \n"
     ]
    }
   ],
   "source": [
    "env.render()"
   ]
  },
  {
   "cell_type": "code",
   "execution_count": null,
   "metadata": {
    "id": "gdOmNmC06-rV"
   },
   "outputs": [],
   "source": [
    "\n"
   ]
  },
  {
   "cell_type": "markdown",
   "metadata": {
    "id": "RPKXbWg46-rX"
   },
   "source": [
    "## The Agent"
   ]
  },
  {
   "cell_type": "code",
   "execution_count": 7,
   "metadata": {
    "tags": []
   },
   "outputs": [],
   "source": [
    "# Configure agent\n",
    "is_large = True\n",
    "use_pretrained_weights = True\n",
    "pretrained_model_path = \"./assets/qnetworks/randomgreedy_pr_white_large\" if use_pretrained_weights else None"
   ]
  },
  {
   "cell_type": "code",
   "execution_count": 8,
   "metadata": {
    "tags": []
   },
   "outputs": [
    {
     "name": "stdout",
     "output_type": "stream",
     "text": [
      "randomgreedygreedy_pr_white_large\n"
     ]
    }
   ],
   "source": [
    "# Construct model name\n",
    "pretrained_pre_ = os.path.splitext(os.path.basename(pretrained_model_path))[0].split(\"_\")[0] if pretrained_model_path is not None else \"\"\n",
    "opponent_name = opponent_class.name.split(\" \")[0].lower()\n",
    "_reward_app = \"_nr\" if apply_negative_scores else \"_pr\"\n",
    "model_color = \"black\" if opponent_is_white else \"white\"\n",
    "_large_app = \"_large\" if is_large else \"\"\n",
    "model_name = f\"{pretrained_pre_}{opponent_name}{_reward_app}_{model_color}{_large_app}\"\n",
    "print(model_name)"
   ]
  },
  {
   "cell_type": "code",
   "execution_count": 9,
   "metadata": {
    "tags": []
   },
   "outputs": [
    {
     "name": "stderr",
     "output_type": "stream",
     "text": [
      "2024-04-06 13:48:14.531441: I tensorflow/core/platform/cpu_feature_guard.cc:193] This TensorFlow binary is optimized with oneAPI Deep Neural Network Library (oneDNN) to use the following CPU instructions in performance-critical operations:  AVX2 AVX512F FMA\n",
      "To enable them in other operations, rebuild TensorFlow with the appropriate compiler flags.\n",
      "2024-04-06 13:48:14.532930: I tensorflow/compiler/xla/stream_executor/cuda/cuda_gpu_executor.cc:981] successful NUMA node read from SysFS had negative value (-1), but there must be at least one NUMA node, so returning NUMA node zero\n",
      "2024-04-06 13:48:14.536392: I tensorflow/compiler/xla/stream_executor/cuda/cuda_gpu_executor.cc:981] successful NUMA node read from SysFS had negative value (-1), but there must be at least one NUMA node, so returning NUMA node zero\n",
      "2024-04-06 13:48:14.538933: I tensorflow/compiler/xla/stream_executor/cuda/cuda_gpu_executor.cc:981] successful NUMA node read from SysFS had negative value (-1), but there must be at least one NUMA node, so returning NUMA node zero\n",
      "2024-04-06 13:48:16.642320: I tensorflow/compiler/xla/stream_executor/cuda/cuda_gpu_executor.cc:981] successful NUMA node read from SysFS had negative value (-1), but there must be at least one NUMA node, so returning NUMA node zero\n",
      "2024-04-06 13:48:16.645244: I tensorflow/compiler/xla/stream_executor/cuda/cuda_gpu_executor.cc:981] successful NUMA node read from SysFS had negative value (-1), but there must be at least one NUMA node, so returning NUMA node zero\n",
      "2024-04-06 13:48:16.646841: I tensorflow/compiler/xla/stream_executor/cuda/cuda_gpu_executor.cc:981] successful NUMA node read from SysFS had negative value (-1), but there must be at least one NUMA node, so returning NUMA node zero\n",
      "2024-04-06 13:48:16.649454: I tensorflow/core/common_runtime/gpu/gpu_device.cc:1613] Created device /job:localhost/replica:0/task:0/device:GPU:0 with 13582 MB memory:  -> device: 0, name: Tesla T4, pci bus id: 0000:00:04.0, compute capability: 7.5\n"
     ]
    }
   ],
   "source": [
    "# Initialize \n",
    "agent = QNetworkAgent(\n",
    "    model_path=pretrained_model_path, \n",
    "    is_large=is_large, \n",
    "    discount_factor=0.1, \n",
    "    learning_rate=1e-3\n",
    ")"
   ]
  },
  {
   "cell_type": "code",
   "execution_count": 10,
   "metadata": {
    "colab": {
     "base_uri": "https://localhost:8080/"
    },
    "id": "uLy13Kbu6-rX",
    "outputId": "0045793d-fa4b-49f8-ae32-6cd522bb2b45",
    "tags": []
   },
   "outputs": [
    {
     "name": "stdout",
     "output_type": "stream",
     "text": [
      "Model: \"sequential_1\"\n",
      "_________________________________________________________________\n",
      " Layer (type)                Output Shape              Param #   \n",
      "=================================================================\n",
      " conv2d_skip_block_3 (Conv2D  (None, 11, 11, 6)        990       \n",
      " SkipBlock)                                                      \n",
      "                                                                 \n",
      " up_sampling2d_2 (UpSampling  (None, 33, 33, 6)        0         \n",
      " 2D)                                                             \n",
      "                                                                 \n",
      " conv2d_skip_block_4 (Conv2D  (None, 33, 33, 6)        990       \n",
      " SkipBlock)                                                      \n",
      "                                                                 \n",
      " up_sampling2d_3 (UpSampling  (None, 99, 99, 6)        0         \n",
      " 2D)                                                             \n",
      "                                                                 \n",
      " conv2d_17 (Conv2D)          (None, 95, 95, 6)         906       \n",
      "                                                                 \n",
      " conv2d_skip_block_5 (Conv2D  (None, 95, 95, 6)        990       \n",
      " SkipBlock)                                                      \n",
      "                                                                 \n",
      " conv2d_21 (Conv2D)          (None, 91, 91, 1)         151       \n",
      "                                                                 \n",
      " flatten_1 (Flatten)         (None, 8281)              0         \n",
      "                                                                 \n",
      "=================================================================\n",
      "Total params: 4,027\n",
      "Trainable params: 4,027\n",
      "Non-trainable params: 0\n",
      "_________________________________________________________________\n"
     ]
    }
   ],
   "source": [
    "agent.fix_model()\n",
    "agent.model_fixed.summary()"
   ]
  },
  {
   "cell_type": "code",
   "execution_count": null,
   "metadata": {
    "id": "o6AydnyR6-rY"
   },
   "outputs": [],
   "source": []
  },
  {
   "cell_type": "markdown",
   "metadata": {
    "id": "fbg7HLD16-rY"
   },
   "source": [
    "## Learn"
   ]
  },
  {
   "cell_type": "code",
   "execution_count": 11,
   "metadata": {
    "id": "_J1pAlOcdrPU",
    "tags": []
   },
   "outputs": [],
   "source": [
    "# Learning configuration\n",
    "n_episodes = 5000\n",
    "model_fix_episodes = 10\n",
    "max_episode_length = 50\n",
    "batch_size = 512\n",
    "memory_size = batch_size * 4"
   ]
  },
  {
   "cell_type": "code",
   "execution_count": 12,
   "metadata": {
    "id": "hWGmj_K46-rY",
    "tags": []
   },
   "outputs": [],
   "source": [
    "q_learning = QLearning(agent, env, memory_size=memory_size)"
   ]
  },
  {
   "cell_type": "code",
   "execution_count": null,
   "metadata": {
    "colab": {
     "base_uri": "https://localhost:8080/"
    },
    "id": "xRiDOKOO6-rZ",
    "outputId": "f33f1708-4f61-4bc8-ef74-ea40f254f6d4",
    "tags": []
   },
   "outputs": [
    {
     "name": "stdout",
     "output_type": "stream",
     "text": [
      "WARNING: Random initialization requested but failed - initializing with standard layout\n",
      "WARNING: Random initialization requested but failed - initializing with standard layout\n"
     ]
    },
    {
     "name": "stderr",
     "output_type": "stream",
     "text": [
      "2024-04-06 13:48:22.569403: I tensorflow/compiler/xla/stream_executor/cuda/cuda_dnn.cc:428] Loaded cuDNN version 8200\n"
     ]
    },
    {
     "name": "stdout",
     "output_type": "stream",
     "text": [
      "Episodes 0 - 10: Mean reward 0.7\n",
      "Episodes 10 - 20: Mean reward 0.5\n",
      "Episodes 20 - 30: Mean reward 2.2\n",
      "Episodes 30 - 40: Mean reward 2.1\n",
      "Episodes 40 - 50: Mean reward 1.6\n",
      "Episodes 50 - 60: Mean reward 0.7\n",
      "Episodes 60 - 70: Mean reward 0.9\n"
     ]
    },
    {
     "name": "stderr",
     "output_type": "stream",
     "text": [
      "2024-04-06 13:48:32.228638: I tensorflow/compiler/xla/service/service.cc:173] XLA service 0x7fe0014f3e20 initialized for platform CUDA (this does not guarantee that XLA will be used). Devices:\n",
      "2024-04-06 13:48:32.228679: I tensorflow/compiler/xla/service/service.cc:181]   StreamExecutor device (0): Tesla T4, Compute Capability 7.5\n",
      "2024-04-06 13:48:32.556146: I tensorflow/compiler/jit/xla_compilation_cache.cc:477] Compiled cluster using XLA!  This line is logged at most once for the lifetime of the process.\n"
     ]
    },
    {
     "name": "stdout",
     "output_type": "stream",
     "text": [
      "Episodes 70 - 80: Mean reward 0.7\n",
      "Episodes 80 - 90: Mean reward 0.6\n",
      "Episodes 90 - 100: Mean reward 2.8\n",
      "Episodes 100 - 110: Mean reward 0.7\n",
      "Episodes 110 - 120: Mean reward 2.2\n",
      "Episodes 120 - 130: Mean reward 0.5\n",
      "Episodes 130 - 140: Mean reward 1.9\n",
      "Episodes 140 - 150: Mean reward 0.6\n",
      "Episodes 150 - 160: Mean reward 0.5\n",
      "Episodes 160 - 170: Mean reward 1.5\n",
      "Episodes 170 - 180: Mean reward 0.2\n",
      "Episodes 180 - 190: Mean reward 0.9\n",
      "Episodes 190 - 200: Mean reward 1.8\n",
      "Episodes 200 - 210: Mean reward 2.8\n",
      "Episodes 210 - 220: Mean reward 0.4\n",
      "Episodes 220 - 230: Mean reward 0.2\n",
      "Episodes 230 - 240: Mean reward 0.4\n",
      "Episodes 240 - 250: Mean reward 1.6\n",
      "Episodes 250 - 260: Mean reward 0.8\n",
      "Episodes 260 - 270: Mean reward 1.5\n",
      "Episodes 270 - 280: Mean reward 1.5\n",
      "Episodes 280 - 290: Mean reward 1.5\n",
      "Episodes 290 - 300: Mean reward 1.2\n",
      "Episodes 300 - 310: Mean reward 1.0\n",
      "Episodes 310 - 320: Mean reward 0.5\n",
      "Episodes 320 - 330: Mean reward 1.3\n",
      "Episodes 330 - 340: Mean reward 0.5\n",
      "Episodes 340 - 350: Mean reward 1.3\n",
      "Episodes 350 - 360: Mean reward 1.3\n",
      "Episodes 360 - 370: Mean reward 3.1\n",
      "Episodes 370 - 380: Mean reward 0.7\n",
      "Episodes 380 - 390: Mean reward 3.2\n",
      "Episodes 390 - 400: Mean reward 0.9\n",
      "Episodes 400 - 410: Mean reward 0.7\n",
      "Episodes 410 - 420: Mean reward 1.1\n",
      "Episodes 420 - 430: Mean reward 1.1\n",
      "Episodes 430 - 440: Mean reward 1.0\n",
      "Episodes 440 - 450: Mean reward 1.9\n",
      "Episodes 450 - 460: Mean reward 2.7\n",
      "Episodes 460 - 470: Mean reward 1.9\n",
      "Episodes 470 - 480: Mean reward 0.7\n",
      "Episodes 480 - 490: Mean reward 1.3\n",
      "Episodes 490 - 500: Mean reward 0.6\n",
      "Episodes 500 - 510: Mean reward 2.8\n",
      "Episodes 510 - 520: Mean reward 0.1\n",
      "Episodes 520 - 530: Mean reward 0.4\n",
      "Episodes 530 - 540: Mean reward 0.3\n",
      "Episodes 540 - 550: Mean reward 0.8\n",
      "Episodes 550 - 560: Mean reward 1.8\n",
      "Episodes 560 - 570: Mean reward 0.3\n",
      "Episodes 570 - 580: Mean reward 0.1\n",
      "Episodes 580 - 590: Mean reward 2.0\n",
      "Episodes 590 - 600: Mean reward 1.2\n",
      "Episodes 600 - 610: Mean reward 0.9\n",
      "Episodes 610 - 620: Mean reward 1.6\n",
      "Episodes 620 - 630: Mean reward 0.9\n",
      "Episodes 630 - 640: Mean reward 0.8\n",
      "Episodes 640 - 650: Mean reward 0.0\n",
      "Episodes 650 - 660: Mean reward 0.7\n",
      "Episodes 660 - 670: Mean reward 1.0\n",
      "Episodes 670 - 680: Mean reward 0.5\n",
      "Episodes 680 - 690: Mean reward 1.2\n",
      "Episodes 690 - 700: Mean reward 0.3\n",
      "Episodes 700 - 710: Mean reward 2.0\n",
      "Episodes 710 - 720: Mean reward 0.6\n",
      "Episodes 720 - 730: Mean reward 0.3\n",
      "Episodes 730 - 740: Mean reward 0.7\n",
      "Episodes 740 - 750: Mean reward 0.7\n",
      "Episodes 750 - 760: Mean reward 1.4\n",
      "Episodes 760 - 770: Mean reward 2.1\n",
      "Episodes 770 - 780: Mean reward 2.7\n",
      "Episodes 780 - 790: Mean reward 1.5\n",
      "Episodes 790 - 800: Mean reward 0.4\n",
      "Episodes 800 - 810: Mean reward 1.9\n",
      "Episodes 810 - 820: Mean reward 0.7\n",
      "Episodes 820 - 830: Mean reward 0.8\n",
      "Episodes 830 - 840: Mean reward 1.7\n",
      "Episodes 840 - 850: Mean reward 0.6\n",
      "Episodes 850 - 860: Mean reward 1.3\n",
      "Episodes 860 - 870: Mean reward 1.1\n",
      "Episodes 870 - 880: Mean reward 1.7\n",
      "Episodes 880 - 890: Mean reward 1.0\n",
      "Episodes 890 - 900: Mean reward 2.1\n",
      "Episodes 900 - 910: Mean reward 0.5\n",
      "Episodes 910 - 920: Mean reward 0.9\n",
      "Episodes 920 - 930: Mean reward 1.6\n",
      "Episodes 930 - 940: Mean reward 0.6\n",
      "Episodes 940 - 950: Mean reward 0.4\n",
      "Episodes 950 - 960: Mean reward 0.7\n",
      "Episodes 960 - 970: Mean reward 0.9\n",
      "Episodes 970 - 980: Mean reward 0.9\n",
      "Episodes 980 - 990: Mean reward 0.7\n",
      "Episodes 990 - 1000: Mean reward 0.6\n",
      "Episodes 1000 - 1010: Mean reward 0.1\n",
      "Episodes 1010 - 1020: Mean reward 0.3\n",
      "Episodes 1020 - 1030: Mean reward 0.4\n",
      "Episodes 1030 - 1040: Mean reward 0.3\n",
      "Episodes 1040 - 1050: Mean reward 0.3\n",
      "Episodes 1050 - 1060: Mean reward 1.5\n",
      "Episodes 1060 - 1070: Mean reward 0.7\n",
      "Episodes 1070 - 1080: Mean reward 1.7\n",
      "Episodes 1080 - 1090: Mean reward 1.1\n",
      "Episodes 1090 - 1100: Mean reward 0.4\n",
      "Episodes 1100 - 1110: Mean reward 0.2\n",
      "Episodes 1110 - 1120: Mean reward 3.7\n",
      "Episodes 1120 - 1130: Mean reward 0.2\n",
      "Episodes 1130 - 1140: Mean reward 0.7\n",
      "Episodes 1140 - 1150: Mean reward 2.1\n",
      "Episodes 1150 - 1160: Mean reward 1.2\n",
      "Episodes 1160 - 1170: Mean reward 0.0\n",
      "Episodes 1170 - 1180: Mean reward 1.1\n",
      "Episodes 1180 - 1190: Mean reward 1.3\n",
      "Episodes 1190 - 1200: Mean reward 1.5\n",
      "Episodes 1200 - 1210: Mean reward 0.3\n",
      "Episodes 1210 - 1220: Mean reward 0.5\n",
      "Episodes 1220 - 1230: Mean reward 1.6\n",
      "Episodes 1230 - 1240: Mean reward 0.1\n",
      "Episodes 1240 - 1250: Mean reward 0.7\n",
      "Episodes 1250 - 1260: Mean reward 0.5\n",
      "Episodes 1260 - 1270: Mean reward 0.0\n",
      "Episodes 1270 - 1280: Mean reward 0.9\n",
      "Episodes 1280 - 1290: Mean reward 0.2\n",
      "Episodes 1290 - 1300: Mean reward 2.2\n",
      "Episodes 1300 - 1310: Mean reward 1.3\n",
      "Episodes 1310 - 1320: Mean reward 0.3\n",
      "Episodes 1320 - 1330: Mean reward 0.5\n",
      "Episodes 1330 - 1340: Mean reward 0.3\n",
      "Episodes 1340 - 1350: Mean reward 1.9\n",
      "Episodes 1350 - 1360: Mean reward 1.5\n",
      "Episodes 1360 - 1370: Mean reward 1.5\n",
      "Episodes 1370 - 1380: Mean reward 0.1\n",
      "Episodes 1380 - 1390: Mean reward 1.0\n",
      "Episodes 1390 - 1400: Mean reward 5.6\n",
      "Episodes 1400 - 1410: Mean reward 0.1\n",
      "Episodes 1410 - 1420: Mean reward 1.2\n",
      "Episodes 1420 - 1430: Mean reward 0.7\n",
      "Episodes 1430 - 1440: Mean reward 2.2\n",
      "Episodes 1440 - 1450: Mean reward 1.6\n",
      "Episodes 1450 - 1460: Mean reward 2.8\n",
      "Episodes 1460 - 1470: Mean reward 0.5\n",
      "Episodes 1470 - 1480: Mean reward 1.3\n",
      "Episodes 1480 - 1490: Mean reward 0.6\n",
      "Episodes 1490 - 1500: Mean reward 1.4\n",
      "Episodes 1500 - 1510: Mean reward 0.3\n",
      "Episodes 1510 - 1520: Mean reward 0.4\n",
      "Episodes 1520 - 1530: Mean reward 1.3\n",
      "Episodes 1530 - 1540: Mean reward 0.3\n",
      "Episodes 1540 - 1550: Mean reward 2.6\n",
      "Episodes 1550 - 1560: Mean reward 6.0\n",
      "Episodes 1560 - 1570: Mean reward 0.6\n",
      "Episodes 1570 - 1580: Mean reward 0.7\n",
      "Episodes 1580 - 1590: Mean reward 0.1\n",
      "Episodes 1590 - 1600: Mean reward 0.7\n",
      "Episodes 1600 - 1610: Mean reward 1.1\n",
      "Episodes 1610 - 1620: Mean reward 1.6\n",
      "Episodes 1620 - 1630: Mean reward 2.1\n",
      "Episodes 1630 - 1640: Mean reward 1.3\n",
      "Episodes 1640 - 1650: Mean reward 0.8\n",
      "Episodes 1650 - 1660: Mean reward 1.9\n",
      "Episodes 1660 - 1670: Mean reward 1.3\n",
      "Episodes 1670 - 1680: Mean reward 0.5\n",
      "Episodes 1680 - 1690: Mean reward 1.0\n",
      "Episodes 1690 - 1700: Mean reward 4.7\n",
      "Episodes 1700 - 1710: Mean reward 0.2\n",
      "Episodes 1710 - 1720: Mean reward 0.1\n",
      "Episodes 1720 - 1730: Mean reward 0.5\n",
      "Episodes 1730 - 1740: Mean reward 1.2\n",
      "Episodes 1740 - 1750: Mean reward 1.8\n",
      "Episodes 1750 - 1760: Mean reward 0.2\n",
      "Episodes 1760 - 1770: Mean reward 1.3\n",
      "Episodes 1770 - 1780: Mean reward 0.8\n",
      "Episodes 1780 - 1790: Mean reward 0.6\n",
      "Episodes 1790 - 1800: Mean reward 1.0\n",
      "Episodes 1800 - 1810: Mean reward 0.4\n",
      "Episodes 1810 - 1820: Mean reward 0.9\n",
      "Episodes 1820 - 1830: Mean reward 2.3\n",
      "Episodes 1830 - 1840: Mean reward 0.4\n",
      "Episodes 1840 - 1850: Mean reward 1.0\n",
      "Episodes 1850 - 1860: Mean reward 1.0\n",
      "Episodes 1860 - 1870: Mean reward 0.0\n",
      "Episodes 1870 - 1880: Mean reward 1.4\n",
      "Episodes 1880 - 1890: Mean reward 1.7\n",
      "Episodes 1890 - 1900: Mean reward 1.1\n",
      "Episodes 1900 - 1910: Mean reward 0.6\n",
      "Episodes 1910 - 1920: Mean reward 0.7\n",
      "Episodes 1920 - 1930: Mean reward 0.2\n",
      "Episodes 1930 - 1940: Mean reward 0.3\n",
      "Episodes 1940 - 1950: Mean reward 0.3\n",
      "Episodes 1950 - 1960: Mean reward 0.8\n",
      "Episodes 1960 - 1970: Mean reward 0.5\n",
      "Episodes 1970 - 1980: Mean reward 0.6\n",
      "Episodes 1980 - 1990: Mean reward 1.5\n",
      "Episodes 1990 - 2000: Mean reward 3.1\n",
      "Episodes 2000 - 2010: Mean reward 0.0\n",
      "Episodes 2010 - 2020: Mean reward 0.8\n",
      "Episodes 2020 - 2030: Mean reward 0.4\n",
      "Episodes 2030 - 2040: Mean reward 0.5\n",
      "Episodes 2040 - 2050: Mean reward 0.4\n",
      "Episodes 2050 - 2060: Mean reward 0.9\n",
      "Episodes 2060 - 2070: Mean reward 1.1\n",
      "Episodes 2070 - 2080: Mean reward 0.3\n",
      "Episodes 2080 - 2090: Mean reward 0.2\n",
      "Episodes 2090 - 2100: Mean reward 0.7\n",
      "Episodes 2100 - 2110: Mean reward 0.4\n",
      "Episodes 2110 - 2120: Mean reward 1.2\n",
      "Episodes 2120 - 2130: Mean reward 1.1\n",
      "Episodes 2130 - 2140: Mean reward 0.7\n",
      "Episodes 2140 - 2150: Mean reward 1.2\n",
      "Episodes 2150 - 2160: Mean reward 1.9\n",
      "Episodes 2160 - 2170: Mean reward 0.7\n",
      "Episodes 2170 - 2180: Mean reward 1.6\n",
      "Episodes 2180 - 2190: Mean reward 0.5\n",
      "Episodes 2190 - 2200: Mean reward 1.3\n",
      "Episodes 2200 - 2210: Mean reward 2.5\n",
      "Episodes 2210 - 2220: Mean reward 0.1\n",
      "Episodes 2220 - 2230: Mean reward 0.6\n",
      "Episodes 2230 - 2240: Mean reward 2.0\n",
      "Episodes 2240 - 2250: Mean reward 2.3\n",
      "Episodes 2250 - 2260: Mean reward 1.5\n",
      "Episodes 2260 - 2270: Mean reward 0.6\n",
      "Episodes 2270 - 2280: Mean reward 0.7\n",
      "Episodes 2280 - 2290: Mean reward 1.1\n",
      "Episodes 2290 - 2300: Mean reward 6.0\n",
      "Episodes 2300 - 2310: Mean reward 1.2\n",
      "Episodes 2310 - 2320: Mean reward 0.6\n",
      "Episodes 2320 - 2330: Mean reward 1.4\n",
      "Episodes 2330 - 2340: Mean reward 1.3\n",
      "Episodes 2340 - 2350: Mean reward 0.3\n",
      "Episodes 2350 - 2360: Mean reward 0.4\n",
      "Episodes 2360 - 2370: Mean reward 1.0\n",
      "Episodes 2370 - 2380: Mean reward 1.1\n",
      "Episodes 2380 - 2390: Mean reward 1.7\n",
      "Episodes 2390 - 2400: Mean reward 2.0\n",
      "Episodes 2400 - 2410: Mean reward 1.3\n",
      "Episodes 2410 - 2420: Mean reward 0.0\n",
      "Episodes 2420 - 2430: Mean reward 0.9\n",
      "Episodes 2430 - 2440: Mean reward 0.4\n",
      "Episodes 2440 - 2450: Mean reward 0.7\n",
      "Episodes 2450 - 2460: Mean reward 0.0\n",
      "Episodes 2460 - 2470: Mean reward 0.5\n",
      "Episodes 2470 - 2480: Mean reward 0.3\n",
      "Episodes 2480 - 2490: Mean reward 1.0\n",
      "Episodes 2490 - 2500: Mean reward 0.7\n",
      "Episodes 2500 - 2510: Mean reward 2.0\n",
      "Episodes 2510 - 2520: Mean reward 0.1\n",
      "Episodes 2520 - 2530: Mean reward 0.4\n",
      "Episodes 2530 - 2540: Mean reward 0.5\n",
      "Episodes 2540 - 2550: Mean reward 0.4\n",
      "Episodes 2550 - 2560: Mean reward 0.5\n",
      "Episodes 2560 - 2570: Mean reward 0.7\n",
      "Episodes 2570 - 2580: Mean reward 0.1\n",
      "Episodes 2580 - 2590: Mean reward 0.5\n",
      "Episodes 2590 - 2600: Mean reward 1.0\n",
      "Episodes 2600 - 2610: Mean reward 0.1\n",
      "Episodes 2610 - 2620: Mean reward 0.8\n",
      "Episodes 2620 - 2630: Mean reward 0.6\n",
      "Episodes 2630 - 2640: Mean reward 5.7\n",
      "Episodes 2640 - 2650: Mean reward 0.9\n",
      "Episodes 2650 - 2660: Mean reward 0.5\n",
      "Episodes 2660 - 2670: Mean reward 0.0\n",
      "Episodes 2670 - 2680: Mean reward 1.0\n",
      "Episodes 2680 - 2690: Mean reward 2.3\n",
      "Episodes 2690 - 2700: Mean reward 0.3\n",
      "Episodes 2700 - 2710: Mean reward 0.9\n",
      "Episodes 2710 - 2720: Mean reward 0.1\n",
      "Episodes 2720 - 2730: Mean reward 0.3\n",
      "Episodes 2730 - 2740: Mean reward 0.4\n",
      "Episodes 2740 - 2750: Mean reward 0.2\n",
      "Episodes 2750 - 2760: Mean reward 1.8\n",
      "Episodes 2760 - 2770: Mean reward 0.8\n",
      "Episodes 2770 - 2780: Mean reward 1.3\n",
      "Episodes 2780 - 2790: Mean reward 1.4\n",
      "Episodes 2790 - 2800: Mean reward 0.8\n",
      "Episodes 2800 - 2810: Mean reward 1.8\n",
      "Episodes 2810 - 2820: Mean reward 1.0\n",
      "Episodes 2820 - 2830: Mean reward 1.0\n",
      "Episodes 2830 - 2840: Mean reward 1.3\n",
      "Episodes 2840 - 2850: Mean reward 4.7\n",
      "Episodes 2850 - 2860: Mean reward 1.7\n",
      "Episodes 2860 - 2870: Mean reward 1.3\n",
      "Episodes 2870 - 2880: Mean reward 0.4\n",
      "Episodes 2880 - 2890: Mean reward 0.8\n",
      "Episodes 2890 - 2900: Mean reward 1.8\n",
      "Episodes 2900 - 2910: Mean reward 1.1\n",
      "Episodes 2910 - 2920: Mean reward 0.0\n",
      "Episodes 2920 - 2930: Mean reward 0.0\n",
      "Episodes 2930 - 2940: Mean reward 1.0\n",
      "Episodes 2940 - 2950: Mean reward 0.7\n",
      "Episodes 2950 - 2960: Mean reward 1.2\n",
      "Episodes 2960 - 2970: Mean reward 0.6\n",
      "Episodes 2970 - 2980: Mean reward 1.2\n",
      "Episodes 2980 - 2990: Mean reward 1.3\n",
      "Episodes 2990 - 3000: Mean reward 0.6\n",
      "Episodes 3000 - 3010: Mean reward 0.2\n",
      "Episodes 3010 - 3020: Mean reward 0.3\n",
      "Episodes 3020 - 3030: Mean reward 1.6\n",
      "Episodes 3030 - 3040: Mean reward 0.4\n",
      "Episodes 3040 - 3050: Mean reward 1.1\n",
      "Episodes 3050 - 3060: Mean reward 1.2\n",
      "Episodes 3060 - 3070: Mean reward 1.3\n",
      "Episodes 3070 - 3080: Mean reward 0.6\n",
      "Episodes 3080 - 3090: Mean reward 0.4\n",
      "Episodes 3090 - 3100: Mean reward 5.2\n",
      "Episodes 3100 - 3110: Mean reward 1.0\n",
      "Episodes 3110 - 3120: Mean reward 1.3\n",
      "Episodes 3120 - 3130: Mean reward 1.1\n",
      "Episodes 3130 - 3140: Mean reward 5.1\n",
      "Episodes 3140 - 3150: Mean reward 1.1\n",
      "Episodes 3150 - 3160: Mean reward 0.6\n",
      "Episodes 3160 - 3170: Mean reward 0.6\n",
      "Episodes 3170 - 3180: Mean reward 2.2\n",
      "Episodes 3180 - 3190: Mean reward 2.0\n",
      "Episodes 3190 - 3200: Mean reward 0.7\n",
      "Episodes 3200 - 3210: Mean reward 1.1\n",
      "Episodes 3210 - 3220: Mean reward 1.1\n",
      "Episodes 3220 - 3230: Mean reward 0.5\n",
      "Episodes 3230 - 3240: Mean reward 1.4\n",
      "Episodes 3240 - 3250: Mean reward 1.5\n",
      "Episodes 3250 - 3260: Mean reward 0.6\n",
      "Episodes 3260 - 3270: Mean reward 1.7\n",
      "Episodes 3270 - 3280: Mean reward 1.8\n",
      "Episodes 3280 - 3290: Mean reward 0.7\n",
      "Episodes 3290 - 3300: Mean reward 2.0\n",
      "Episodes 3300 - 3310: Mean reward 0.8\n",
      "Episodes 3310 - 3320: Mean reward 5.0\n",
      "Episodes 3320 - 3330: Mean reward 0.6\n",
      "Episodes 3330 - 3340: Mean reward 0.4\n",
      "Episodes 3340 - 3350: Mean reward 0.6\n",
      "Episodes 3350 - 3360: Mean reward 1.0\n",
      "Episodes 3360 - 3370: Mean reward 1.7\n",
      "Episodes 3370 - 3380: Mean reward 1.0\n",
      "Episodes 3380 - 3390: Mean reward 0.6\n",
      "Episodes 3390 - 3400: Mean reward 1.2\n",
      "Episodes 3400 - 3410: Mean reward 0.4\n",
      "Episodes 3410 - 3420: Mean reward 3.5\n",
      "Episodes 3420 - 3430: Mean reward 0.5\n",
      "Episodes 3430 - 3440: Mean reward 0.8\n",
      "Episodes 3440 - 3450: Mean reward 0.9\n",
      "Episodes 3450 - 3460: Mean reward 1.6\n",
      "Episodes 3460 - 3470: Mean reward 0.6\n",
      "Episodes 3470 - 3480: Mean reward 1.0\n",
      "Episodes 3480 - 3490: Mean reward 0.9\n",
      "Episodes 3490 - 3500: Mean reward 0.8\n",
      "Episodes 3500 - 3510: Mean reward 1.6\n",
      "Episodes 3510 - 3520: Mean reward 0.9\n",
      "Episodes 3520 - 3530: Mean reward 1.1\n",
      "Episodes 3530 - 3540: Mean reward 0.2\n",
      "Episodes 3540 - 3550: Mean reward 0.6\n",
      "Episodes 3550 - 3560: Mean reward 0.4\n",
      "Episodes 3560 - 3570: Mean reward 0.6\n",
      "Episodes 3570 - 3580: Mean reward 1.2\n",
      "Episodes 3580 - 3590: Mean reward 0.2\n",
      "Episodes 3590 - 3600: Mean reward 0.5\n",
      "Episodes 3600 - 3610: Mean reward 1.5\n",
      "Episodes 3610 - 3620: Mean reward 0.0\n",
      "Episodes 3620 - 3630: Mean reward 0.1\n",
      "Episodes 3630 - 3640: Mean reward 0.5\n",
      "Episodes 3640 - 3650: Mean reward 0.3\n",
      "Episodes 3650 - 3660: Mean reward 0.9\n",
      "Episodes 3660 - 3670: Mean reward 0.0\n",
      "Episodes 3670 - 3680: Mean reward 0.5\n",
      "Episodes 3680 - 3690: Mean reward 1.1\n",
      "Episodes 3690 - 3700: Mean reward 0.5\n",
      "Episodes 3700 - 3710: Mean reward 1.0\n",
      "Episodes 3710 - 3720: Mean reward 1.7\n",
      "Episodes 3720 - 3730: Mean reward 0.5\n",
      "Episodes 3730 - 3740: Mean reward 4.2\n",
      "Episodes 3740 - 3750: Mean reward 0.9\n",
      "Episodes 3750 - 3760: Mean reward 0.6\n",
      "Episodes 3760 - 3770: Mean reward 4.8\n",
      "Episodes 3770 - 3780: Mean reward 0.4\n",
      "Episodes 3780 - 3790: Mean reward 0.5\n",
      "Episodes 3790 - 3800: Mean reward 2.3\n",
      "Episodes 3800 - 3810: Mean reward 0.0\n",
      "Episodes 3810 - 3820: Mean reward 0.0\n",
      "Episodes 3820 - 3830: Mean reward 0.0\n",
      "Episodes 3830 - 3840: Mean reward 5.7\n",
      "Episodes 3840 - 3850: Mean reward 0.4\n",
      "Episodes 3850 - 3860: Mean reward 0.8\n",
      "Episodes 3860 - 3870: Mean reward 0.3\n",
      "Episodes 3870 - 3880: Mean reward 0.2\n",
      "Episodes 3880 - 3890: Mean reward 0.4\n",
      "Episodes 3890 - 3900: Mean reward 1.5\n",
      "Episodes 3900 - 3910: Mean reward 1.8\n",
      "Episodes 3910 - 3920: Mean reward 2.2\n",
      "Episodes 3920 - 3930: Mean reward 0.2\n",
      "Episodes 3930 - 3940: Mean reward 0.6\n",
      "Episodes 3940 - 3950: Mean reward 0.5\n",
      "Episodes 3950 - 3960: Mean reward 1.3\n",
      "Episodes 3960 - 3970: Mean reward 3.2\n",
      "Episodes 3970 - 3980: Mean reward 5.2\n",
      "Episodes 3980 - 3990: Mean reward 0.2\n",
      "Episodes 3990 - 4000: Mean reward 0.2\n",
      "Episodes 4000 - 4010: Mean reward 0.9\n",
      "Episodes 4010 - 4020: Mean reward 0.5\n",
      "Episodes 4020 - 4030: Mean reward 0.4\n",
      "Episodes 4030 - 4040: Mean reward 0.9\n",
      "Episodes 4040 - 4050: Mean reward 0.7\n",
      "Episodes 4050 - 4060: Mean reward 0.4\n",
      "Episodes 4060 - 4070: Mean reward 0.7\n",
      "Episodes 4070 - 4080: Mean reward 0.3\n",
      "Episodes 4080 - 4090: Mean reward 0.0\n",
      "Episodes 4090 - 4100: Mean reward 0.2\n",
      "Episodes 4100 - 4110: Mean reward 0.3\n",
      "Episodes 4110 - 4120: Mean reward 1.7\n",
      "Episodes 4120 - 4130: Mean reward 5.1\n",
      "Episodes 4130 - 4140: Mean reward 0.9\n",
      "Episodes 4140 - 4150: Mean reward 0.3\n",
      "Episodes 4150 - 4160: Mean reward 0.3\n",
      "Episodes 4160 - 4170: Mean reward 0.4\n",
      "Episodes 4170 - 4180: Mean reward 0.4\n",
      "Episodes 4180 - 4190: Mean reward 4.6\n",
      "Episodes 4190 - 4200: Mean reward 1.5\n",
      "Episodes 4200 - 4210: Mean reward 0.5\n",
      "Episodes 4210 - 4220: Mean reward 2.1\n",
      "Episodes 4220 - 4230: Mean reward 0.9\n",
      "Episodes 4230 - 4240: Mean reward 0.7\n",
      "Episodes 4240 - 4250: Mean reward 0.2\n",
      "Episodes 4250 - 4260: Mean reward 1.2\n",
      "Episodes 4260 - 4270: Mean reward 0.6\n",
      "Episodes 4270 - 4280: Mean reward 0.5\n",
      "Episodes 4280 - 4290: Mean reward 1.5\n",
      "Episodes 4290 - 4300: Mean reward 0.9\n",
      "Episodes 4300 - 4310: Mean reward 0.3\n",
      "Episodes 4310 - 4320: Mean reward 0.4\n",
      "Episodes 4320 - 4330: Mean reward 0.9\n",
      "Episodes 4330 - 4340: Mean reward 0.3\n",
      "Episodes 4340 - 4350: Mean reward 0.2\n",
      "Episodes 4350 - 4360: Mean reward 0.6\n",
      "Episodes 4360 - 4370: Mean reward 1.6\n",
      "Episodes 4370 - 4380: Mean reward 0.0\n",
      "Episodes 4380 - 4390: Mean reward 0.6\n",
      "Episodes 4390 - 4400: Mean reward 0.5\n",
      "Episodes 4400 - 4410: Mean reward 0.3\n",
      "Episodes 4410 - 4420: Mean reward 0.0\n",
      "Episodes 4420 - 4430: Mean reward 0.7\n",
      "Episodes 4430 - 4440: Mean reward 0.4\n",
      "Episodes 4440 - 4450: Mean reward 0.6\n",
      "Episodes 4450 - 4460: Mean reward 0.6\n",
      "Episodes 4460 - 4470: Mean reward 0.3\n",
      "Episodes 4470 - 4480: Mean reward 2.5\n",
      "Episodes 4480 - 4490: Mean reward 0.5\n",
      "Episodes 4490 - 4500: Mean reward 0.1\n",
      "Episodes 4500 - 4510: Mean reward 0.5\n",
      "Episodes 4510 - 4520: Mean reward 0.3\n",
      "Episodes 4520 - 4530: Mean reward 0.5\n",
      "Episodes 4530 - 4540: Mean reward 0.3\n",
      "Episodes 4540 - 4550: Mean reward 0.8\n",
      "Episodes 4550 - 4560: Mean reward 0.6\n",
      "Episodes 4560 - 4570: Mean reward 0.1\n",
      "Episodes 4570 - 4580: Mean reward 0.0\n",
      "Episodes 4580 - 4590: Mean reward 0.3\n",
      "Episodes 4590 - 4600: Mean reward 1.6\n",
      "Episodes 4600 - 4610: Mean reward 0.3\n",
      "Episodes 4610 - 4620: Mean reward 5.0\n",
      "Episodes 4620 - 4630: Mean reward 1.3\n",
      "Episodes 4630 - 4640: Mean reward 0.5\n",
      "Episodes 4640 - 4650: Mean reward 1.0\n",
      "Episodes 4650 - 4660: Mean reward 0.4\n",
      "Episodes 4660 - 4670: Mean reward 0.8\n",
      "Episodes 4670 - 4680: Mean reward 0.4\n",
      "Episodes 4680 - 4690: Mean reward 0.3\n",
      "Episodes 4690 - 4700: Mean reward 0.3\n",
      "Episodes 4700 - 4710: Mean reward 0.4\n",
      "Episodes 4710 - 4720: Mean reward 0.1\n",
      "Episodes 4720 - 4730: Mean reward 0.3\n",
      "Episodes 4730 - 4740: Mean reward 1.1\n",
      "Episodes 4740 - 4750: Mean reward 0.6\n",
      "Episodes 4750 - 4760: Mean reward 5.3\n",
      "Episodes 4760 - 4770: Mean reward 0.3\n",
      "Episodes 4770 - 4780: Mean reward 0.3\n",
      "Episodes 4780 - 4790: Mean reward 0.6\n",
      "Episodes 4790 - 4800: Mean reward 0.3\n",
      "Episodes 4800 - 4810: Mean reward 0.2\n",
      "Episodes 4810 - 4820: Mean reward 0.6\n",
      "Episodes 4820 - 4830: Mean reward 2.4\n",
      "Episodes 4830 - 4840: Mean reward 0.7\n",
      "Episodes 4840 - 4850: Mean reward 5.2\n",
      "Episodes 4850 - 4860: Mean reward 0.7\n",
      "Episodes 4860 - 4870: Mean reward 1.1\n",
      "Episodes 4870 - 4880: Mean reward 4.9\n",
      "Episodes 4880 - 4890: Mean reward 0.3\n",
      "Episodes 4890 - 4900: Mean reward 2.4\n",
      "Episodes 4900 - 4910: Mean reward 0.2\n",
      "Episodes 4910 - 4920: Mean reward 2.1\n",
      "Episodes 4920 - 4930: Mean reward 1.1\n",
      "Episodes 4930 - 4940: Mean reward 1.9\n",
      "Episodes 4940 - 4950: Mean reward 0.6\n",
      "Episodes 4950 - 4960: Mean reward 0.6\n",
      "Episodes 4960 - 4970: Mean reward 0.0\n",
      "Episodes 4970 - 4980: Mean reward 0.1\n",
      "Episodes 4980 - 4990: Mean reward 0.4\n"
     ]
    }
   ],
   "source": [
    "episode_rewards, step_rewards = q_learning.learn(\n",
    "    n_episodes=n_episodes,\n",
    "    model_fix_episodes=model_fix_episodes,\n",
    "    max_episode_length=max_episode_length,\n",
    "    batch_size=batch_size,\n",
    ")"
   ]
  },
  {
   "cell_type": "markdown",
   "metadata": {
    "id": "1HA_30fv6-rZ"
   },
   "source": [
    "### Save results"
   ]
  },
  {
   "cell_type": "code",
   "execution_count": null,
   "metadata": {
    "id": "LO-bVSqlRTks",
    "tags": []
   },
   "outputs": [
    {
     "name": "stderr",
     "output_type": "stream",
     "text": [
      "WARNING:absl:Found untraced functions such as _jit_compiled_convolution_op, _jit_compiled_convolution_op, conv2d_skip_block_306_layer_call_fn, conv2d_skip_block_306_layer_call_and_return_conditional_losses, _jit_compiled_convolution_op while saving (showing 5 of 29). These functions will not be directly callable after loading.\n"
     ]
    },
    {
     "name": "stdout",
     "output_type": "stream",
     "text": [
      "INFO:tensorflow:Assets written to: assets/qnetworks/randomgreedygreedy_pr_white_large/assets\n"
     ]
    },
    {
     "name": "stderr",
     "output_type": "stream",
     "text": [
      "INFO:tensorflow:Assets written to: assets/qnetworks/randomgreedygreedy_pr_white_large/assets\n"
     ]
    }
   ],
   "source": [
    "# Save results\n",
    "agent.model.save(os.path.join(\"assets\", \"qnetworks\", f\"{model_name}\"))\n",
    "np.savetxt(os.path.join(base_path, f\"{model_name}_episode_rewards.csv\"), episode_rewards, delimiter=\",\")\n",
    "np.savetxt(os.path.join(base_path, f\"{model_name}_step_rewards.csv\"), step_rewards, delimiter=\",\")"
   ]
  },
  {
   "cell_type": "code",
   "execution_count": null,
   "metadata": {},
   "outputs": [],
   "source": []
  },
  {
   "cell_type": "markdown",
   "metadata": {},
   "source": [
    "### Load Results"
   ]
  },
  {
   "cell_type": "code",
   "execution_count": 23,
   "metadata": {
    "tags": []
   },
   "outputs": [
    {
     "name": "stdout",
     "output_type": "stream",
     "text": [
      "randomgreedygreedy_pr_white_large\n"
     ]
    }
   ],
   "source": [
    "# Model configuration\n",
    "opponent_class = GreedyPlayer\n",
    "opponent_is_white = False\n",
    "apply_negative_scores = False\n",
    "is_large = True\n",
    "use_pretrained_weights = True\n",
    "pretrained_model_path = \"./assets/qnetworks/randomgreedy_pr_model_white_large.keras\" if use_pretrained_weights else None\n",
    "\n",
    "# Model name\n",
    "pretrained_pre_ = os.path.splitext(os.path.basename(pretrained_model_path))[0].split(\"_\")[0] if pretrained_model_path is not None else \"\"\n",
    "opponent_name = opponent_class.name.split(\" \")[0].lower()\n",
    "_reward_app = \"_nr\" if apply_negative_scores else \"_pr\"\n",
    "model_color = \"black\" if opponent_is_white else \"white\"\n",
    "_large_app = \"_large\" if is_large else \"\"\n",
    "model_name = f\"{pretrained_pre_}{opponent_name}{_reward_app}_{model_color}{_large_app}\"\n",
    "print(model_name)"
   ]
  },
  {
   "cell_type": "code",
   "execution_count": 24,
   "metadata": {
    "tags": []
   },
   "outputs": [],
   "source": [
    "# Load results\n",
    "episode_rewards = np.loadtxt(os.path.join(base_path, f\"{model_name}_episode_rewards.csv\"), delimiter=\",\")\n",
    "step_rewards = np.loadtxt(os.path.join(base_path, f\"{model_name}_step_rewards.csv\"))"
   ]
  },
  {
   "cell_type": "markdown",
   "metadata": {
    "id": "n4kouBkOhZjg"
   },
   "source": [
    "### Visualize Results"
   ]
  },
  {
   "cell_type": "code",
   "execution_count": 27,
   "metadata": {
    "tags": []
   },
   "outputs": [
    {
     "data": {
      "image/png": "[encoded data removed]",
      "text/plain": [
       "<Figure size 800x450 with 1 Axes>"
      ]
     },
     "metadata": {},
     "output_type": "display_data"
    },
    {
     "data": {
      "image/png": "[encoded data removed]",
      "text/plain": [
       "<Figure size 800x450 with 1 Axes>"
      ]
     },
     "metadata": {},
     "output_type": "display_data"
    }
   ],
   "source": [
    "# Make plots\n",
    "fig, ax = plot_step_rewards(step_rewards, save_path=os.path.join(figs_path, f\"{model_name}_step_rewards.png\"))\n",
    "fig, ax = plot_episode_rewards(episode_rewards, save_path=os.path.join(figs_path, f\"{model_name}_episode_rewards.png\"), kernel_size=100)\n",
    "plt.show()"
   ]
  },
  {
   "cell_type": "code",
   "execution_count": 19,
   "metadata": {
    "id": "LmMbIkJYiJoH",
    "tags": []
   },
   "outputs": [
    {
     "name": "stdout",
     "output_type": "stream",
     "text": [
      "random_nr_black\n",
      "randomgreedy_pr_white\n",
      "greedy_pr_black\n",
      "randomgreedy_pr_black_large\n",
      "random_pr_black_large\n",
      "randomgreedy_pr_black\n",
      "random_pr_black\n",
      "greedy_nr_black\n",
      "random_pr_white\n",
      "random_pr_white_large\n"
     ]
    }
   ],
   "source": [
    "# Generate all figures\n",
    "model_names = [os.path.splitext(file)[0] for file in os.listdir(base_path) if os.path.splitext(file)[-1] == \".keras\"]\n",
    "for model_name in model_names:\n",
    "    print(model_name)\n",
    "    episode_rewards = np.loadtxt(os.path.join(base_path, f\"{model_name}_episode_rewards.csv\"), delimiter=\",\")\n",
    "    step_rewards = np.loadtxt(os.path.join(base_path, f\"{model_name}_step_rewards.csv\"))\n",
    "    fig, ax = plot_step_rewards(step_rewards, save_path=os.path.join(figs_path, f\"{model_name}_step_rewards.png\"))\n",
    "    plt.close(fig)\n",
    "    fig, ax = plot_episode_rewards(episode_rewards, save_path=os.path.join(figs_path, f\"{model_name}_episode_rewards.png\"))\n",
    "    plt.close(fig)\n",
    "    #plt.show()"
   ]
  },
  {
   "cell_type": "code",
   "execution_count": null,
   "metadata": {},
   "outputs": [],
   "source": []
  }
 ],
 "metadata": {
  "accelerator": "GPU",
  "colab": {
   "gpuType": "T4",
   "provenance": []
  },
  "kernelspec": {
   "display_name": "Python 3 (Local)",
   "language": "python",
   "name": "python3"
  },
  "language_info": {
   "codemirror_mode": {
    "name": "ipython",
    "version": 3
   },
   "file_extension": ".py",
   "mimetype": "text/x-python",
   "name": "python",
   "nbconvert_exporter": "python",
   "pygments_lexer": "ipython3",
   "version": "3.10.13"
  }
 },
 "nbformat": 4,
 "nbformat_minor": 4
}
