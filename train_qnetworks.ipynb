{
 "cells": [
  {
   "cell_type": "markdown",
   "metadata": {
    "id": "KUD07Hls6-rO"
   },
   "source": [
    "# Q-Networks for Hexagon Chess"
   ]
  },
  {
   "cell_type": "markdown",
   "metadata": {
    "id": "gAlocSYA6-rQ"
   },
   "source": [
    "## Setup"
   ]
  },
  {
   "cell_type": "code",
   "execution_count": 1,
   "metadata": {
    "id": "rrLMCixA6-rQ"
   },
   "outputs": [],
   "source": [
    "%matplotlib inline\n",
    "%load_ext autoreload\n",
    "%autoreload 2"
   ]
  },
  {
   "cell_type": "code",
   "execution_count": 2,
   "metadata": {
    "id": "kb0cOu5V6-rR"
   },
   "outputs": [
    {
     "name": "stderr",
     "output_type": "stream",
     "text": [
      "2024-03-21 14:25:54.247754: I tensorflow/core/platform/cpu_feature_guard.cc:193] This TensorFlow binary is optimized with oneAPI Deep Neural Network Library (oneDNN) to use the following CPU instructions in performance-critical operations:  AVX2 FMA\n",
      "To enable them in other operations, rebuild TensorFlow with the appropriate compiler flags.\n",
      "2024-03-21 14:25:54.395679: W tensorflow/compiler/xla/stream_executor/platform/default/dso_loader.cc:64] Could not load dynamic library 'libcudart.so.11.0'; dlerror: libcudart.so.11.0: cannot open shared object file: No such file or directory\n",
      "2024-03-21 14:25:54.395698: I tensorflow/compiler/xla/stream_executor/cuda/cudart_stub.cc:29] Ignore above cudart dlerror if you do not have a GPU set up on your machine.\n",
      "2024-03-21 14:25:55.068826: W tensorflow/compiler/xla/stream_executor/platform/default/dso_loader.cc:64] Could not load dynamic library 'libnvinfer.so.7'; dlerror: libnvinfer.so.7: cannot open shared object file: No such file or directory\n",
      "2024-03-21 14:25:55.068917: W tensorflow/compiler/xla/stream_executor/platform/default/dso_loader.cc:64] Could not load dynamic library 'libnvinfer_plugin.so.7'; dlerror: libnvinfer_plugin.so.7: cannot open shared object file: No such file or directory\n",
      "2024-03-21 14:25:55.068925: W tensorflow/compiler/tf2tensorrt/utils/py_utils.cc:38] TF-TRT Warning: Cannot dlopen some TensorRT libraries. If you would like to use Nvidia GPU with TensorRT, please make sure the missing libraries mentioned above are installed properly.\n"
     ]
    },
    {
     "name": "stdout",
     "output_type": "stream",
     "text": [
      "[]\n",
      "2.11.0\n"
     ]
    },
    {
     "name": "stderr",
     "output_type": "stream",
     "text": [
      "2024-03-21 14:25:56.387595: W tensorflow/compiler/xla/stream_executor/platform/default/dso_loader.cc:64] Could not load dynamic library 'libcuda.so.1'; dlerror: libcuda.so.1: cannot open shared object file: No such file or directory\n",
      "2024-03-21 14:25:56.387617: W tensorflow/compiler/xla/stream_executor/cuda/cuda_driver.cc:265] failed call to cuInit: UNKNOWN ERROR (303)\n",
      "2024-03-21 14:25:56.387632: I tensorflow/compiler/xla/stream_executor/cuda/cuda_diagnostics.cc:156] kernel driver does not appear to be running on this host (pop-os): /proc/driver/nvidia/version does not exist\n"
     ]
    }
   ],
   "source": [
    "import numpy as np\n",
    "import matplotlib.pyplot as plt\n",
    "import os\n",
    "import tensorflow as tf\n",
    "import tensorflow.keras as krs\n",
    "print(tf.config.list_physical_devices('GPU'))\n",
    "print(tf.__version__)"
   ]
  },
  {
   "cell_type": "code",
   "execution_count": 3,
   "metadata": {
    "colab": {
     "base_uri": "https://localhost:8080/"
    },
    "id": "XBaUeLl16-rS",
    "outputId": "06971cff-2483-4cc3-9d19-b957519e84a8"
   },
   "outputs": [
    {
     "name": "stdout",
     "output_type": "stream",
     "text": [
      "pygame 2.5.2 (SDL 2.28.2, Python 3.10.0)\n",
      "Hello from the pygame community. https://www.pygame.org/contribute.html\n"
     ]
    }
   ],
   "source": [
    "from engines.environment import HexChessEnv\n",
    "from engines.qnetworks import QNetworkAgent, QLearning\n",
    "from hexchess.players import RandomPlayer, GreedyPlayer"
   ]
  },
  {
   "cell_type": "code",
   "execution_count": null,
   "metadata": {},
   "outputs": [],
   "source": []
  },
  {
   "cell_type": "markdown",
   "metadata": {
    "id": "h_20Rqcs6-rT"
   },
   "source": [
    "## The environment"
   ]
  },
  {
   "cell_type": "code",
   "execution_count": 4,
   "metadata": {
    "id": "93B0bkSR6-rU"
   },
   "outputs": [],
   "source": [
    "# Teach Q networks to play against a random agent playing white\n",
    "opponent_class = RandomPlayer\n",
    "opponent_is_white = True\n",
    "apply_negative_scores = False\n",
    "env = HexChessEnv(opponent_class, opponent_is_white, apply_negative_scores=apply_negative_scores)"
   ]
  },
  {
   "cell_type": "code",
   "execution_count": 5,
   "metadata": {
    "colab": {
     "base_uri": "https://localhost:8080/"
    },
    "id": "wWe0gOc-6-rV",
    "outputId": "d7497570-3724-4905-e342-bbffa6c1b9de"
   },
   "outputs": [
    {
     "name": "stdout",
     "output_type": "stream",
     "text": [
      "     \u001b[34mB\u001b[0m \u001b[34mK\u001b[0m \u001b[34mN\u001b[0m \u001b[34mR\u001b[0m \u001b[34mP\u001b[0m * \n",
      "    \u001b[34mQ\u001b[0m \u001b[34mB\u001b[0m * * \u001b[34mP\u001b[0m * * \n",
      "   \u001b[34mN\u001b[0m * \u001b[34mB\u001b[0m * \u001b[34mP\u001b[0m * * * \n",
      "  \u001b[34mR\u001b[0m * * * \u001b[34mP\u001b[0m * * * * \n",
      " \u001b[34mP\u001b[0m \u001b[34mP\u001b[0m \u001b[34mP\u001b[0m \u001b[34mP\u001b[0m \u001b[34mP\u001b[0m * * * * * \n",
      "* * * * * * * * * * * \n",
      " * * * * * \u001b[33mP\u001b[0m \u001b[33mP\u001b[0m \u001b[33mP\u001b[0m \u001b[33mP\u001b[0m \u001b[33mP\u001b[0m \n",
      "  * * * * \u001b[33mP\u001b[0m * * * \u001b[33mR\u001b[0m \n",
      "   * * * \u001b[33mP\u001b[0m * \u001b[33mB\u001b[0m * \u001b[33mN\u001b[0m \n",
      "    * * \u001b[33mP\u001b[0m * * \u001b[33mB\u001b[0m \u001b[33mK\u001b[0m \n",
      "     * \u001b[33mP\u001b[0m \u001b[33mR\u001b[0m \u001b[33mN\u001b[0m \u001b[33mQ\u001b[0m \u001b[33mB\u001b[0m \n"
     ]
    }
   ],
   "source": [
    "env.render()"
   ]
  },
  {
   "cell_type": "code",
   "execution_count": null,
   "metadata": {
    "id": "gdOmNmC06-rV"
   },
   "outputs": [],
   "source": [
    "\n"
   ]
  },
  {
   "cell_type": "markdown",
   "metadata": {
    "id": "RPKXbWg46-rX"
   },
   "source": [
    "## The Agent"
   ]
  },
  {
   "cell_type": "code",
   "execution_count": 9,
   "metadata": {
    "id": "K4ofYc7q6-rX"
   },
   "outputs": [],
   "source": [
    "# Load weights pre-trained on a random player\n",
    "use_pretrained_weights = True\n",
    "model_path = \"./assets/qnetworks/random_pr_model_black.keras\" if use_pretrained_weights else None\n",
    "agent = QNetworkAgent(model_path=model_path, discount_factor=0.1, learning_rate=1e-2)"
   ]
  },
  {
   "cell_type": "code",
   "execution_count": 10,
   "metadata": {},
   "outputs": [],
   "source": [
    "# Load weights pre-trained against a random player\n",
    "#agent.model.load_weights(\"./assets/qnetworks/random_pr_model_black.keras\")"
   ]
  },
  {
   "cell_type": "code",
   "execution_count": null,
   "metadata": {
    "colab": {
     "base_uri": "https://localhost:8080/"
    },
    "id": "uLy13Kbu6-rX",
    "outputId": "0045793d-fa4b-49f8-ae32-6cd522bb2b45"
   },
   "outputs": [],
   "source": [
    "agent.fix_model()\n",
    "agent.model_fixed.summary()"
   ]
  },
  {
   "cell_type": "code",
   "execution_count": null,
   "metadata": {
    "id": "o6AydnyR6-rY"
   },
   "outputs": [],
   "source": []
  },
  {
   "cell_type": "markdown",
   "metadata": {
    "id": "fbg7HLD16-rY"
   },
   "source": [
    "## Learn"
   ]
  },
  {
   "cell_type": "code",
   "execution_count": null,
   "metadata": {
    "id": "_J1pAlOcdrPU"
   },
   "outputs": [],
   "source": [
    "# Learning configuration\n",
    "n_episodes = 750\n",
    "model_fix_episodes = 10\n",
    "max_episode_length = 50\n",
    "batch_size = 512\n",
    "memory_size = batch_size * 4"
   ]
  },
  {
   "cell_type": "code",
   "execution_count": null,
   "metadata": {
    "id": "hWGmj_K46-rY"
   },
   "outputs": [],
   "source": [
    "q_learning = QLearning(agent, env, memory_size=memory_size)"
   ]
  },
  {
   "cell_type": "code",
   "execution_count": null,
   "metadata": {
    "colab": {
     "base_uri": "https://localhost:8080/"
    },
    "id": "xRiDOKOO6-rZ",
    "outputId": "f33f1708-4f61-4bc8-ef74-ea40f254f6d4"
   },
   "outputs": [],
   "source": [
    "episode_rewards, step_rewards = q_learning.learn(\n",
    "    n_episodes=n_episodes,\n",
    "    model_fix_episodes=model_fix_episodes,\n",
    "    max_episode_length=max_episode_length,\n",
    "    batch_size=batch_size,\n",
    ")"
   ]
  },
  {
   "cell_type": "markdown",
   "metadata": {
    "id": "1HA_30fv6-rZ"
   },
   "source": [
    "### Save results"
   ]
  },
  {
   "cell_type": "code",
   "execution_count": null,
   "metadata": {
    "id": "LO-bVSqlRTks"
   },
   "outputs": [],
   "source": [
    "# Save results\n",
    "pr_or_nr = \"nr\" if apply_negative_scores else \"pr\"\n",
    "model_color = \"black\" if opponent_is_white else \"white\"\n",
    "base_path = f\"./assets/qnetworks/random_{pr_or_nr}_\"\n",
    "agent.model.save(f\"{base_path}model_{model_color}.keras\")\n",
    "np.savetxt(f\"{base_path}episode_rewards_{model_color}.csv\", episode_rewards, delimiter=\",\")\n",
    "np.savetxt(f\"{base_path}step_rewards_{model_color}.csv\", step_rewards, delimiter=\",\")"
   ]
  },
  {
   "cell_type": "code",
   "execution_count": null,
   "metadata": {},
   "outputs": [],
   "source": []
  },
  {
   "cell_type": "code",
   "execution_count": null,
   "metadata": {},
   "outputs": [],
   "source": []
  },
  {
   "cell_type": "markdown",
   "metadata": {
    "id": "n4kouBkOhZjg"
   },
   "source": [
    "### Visualize Results"
   ]
  },
  {
   "cell_type": "code",
   "execution_count": null,
   "metadata": {},
   "outputs": [],
   "source": [
    "apply_negative_scores = False\n",
    "opponent_is_white = True"
   ]
  },
  {
   "cell_type": "code",
   "execution_count": null,
   "metadata": {},
   "outputs": [],
   "source": [
    "# Load results\n",
    "pr_or_nr = \"nr\" if apply_negative_scores else \"pr\"\n",
    "model_color = \"black\" if opponent_is_white else \"white\"\n",
    "base_name = f\"randomgreedy_{pr_or_nr}_\"\n",
    "base_path = f\"./assets/qnetworks/{base_name}\"\n",
    "episode_rewards = np.loadtxt(f\"{base_path}episode_rewards_{model_color}.csv\", delimiter=\",\")\n",
    "step_rewards = np.loadtxt(f\"{base_path}step_rewards_{model_color}.csv\", delimiter=\",\")"
   ]
  },
  {
   "cell_type": "code",
   "execution_count": null,
   "metadata": {
    "id": "mJDIF8Mt6-rZ"
   },
   "outputs": [],
   "source": [
    "# Plot step rewards\n",
    "fig, ax = plt.subplots(figsize=(8, 4.5))\n",
    "ax.plot(step_rewards)\n",
    "ax.set_xlabel(\"Step\")\n",
    "ax.set_ylabel(\"Reward\")\n",
    "ax.set_title(\"Step Rewards\")\n",
    "ax.grid(True)\n",
    "fig.tight_layout()\n",
    "fig.savefig(f\"./figures/qnetworks/{base_name}step_rewards_{model_color}.png\", dpi=300, facecolor=\"white\")\n",
    "plt.show()"
   ]
  },
  {
   "cell_type": "code",
   "execution_count": null,
   "metadata": {
    "id": "Gn9g4oIk6-rZ"
   },
   "outputs": [],
   "source": [
    "# Smooth step rewards\n",
    "kernel_size = 250\n",
    "kernel = np.ones(kernel_size) / kernel_size\n",
    "step_rewards_smooth = np.convolve(step_rewards, kernel, mode=\"same\")"
   ]
  },
  {
   "cell_type": "code",
   "execution_count": null,
   "metadata": {
    "id": "F9a7lOU_6-ra"
   },
   "outputs": [],
   "source": [
    "# Plot smooth step rewards\n",
    "fig, ax = plt.subplots(figsize=(8, 4.5))\n",
    "ax.plot(step_rewards_smooth)\n",
    "ax.set_xlabel(\"Step\")\n",
    "ax.set_ylabel(\"Reward\")\n",
    "ax.set_title(f\"Average Step Rewards ({kernel_size} steps)\")\n",
    "ax.grid(True)\n",
    "fig.tight_layout()\n",
    "fig.savefig(f\"./figures/qnetworks/{base_name}step_rewards_smooth{kernel_size}_{model_color}.png\", dpi=300, facecolor=\"white\")\n",
    "plt.show()"
   ]
  },
  {
   "cell_type": "code",
   "execution_count": null,
   "metadata": {
    "id": "SCfYNW41h2EM"
   },
   "outputs": [],
   "source": [
    "# Plot episode remwards\n",
    "fig, ax = plt.subplots(figsize=(8, 4.5))\n",
    "ax.plot(episode_rewards)\n",
    "ax.set_xlabel(\"Episode\")\n",
    "ax.set_ylabel(\"Reward\")\n",
    "ax.set_title(\"Episode Rewards\")\n",
    "ax.grid(True)\n",
    "fig.tight_layout()\n",
    "fig.savefig(f\"./figures/qnetworks/{base_name}episode_rewards_{model_color}.png\", dpi=300, facecolor=\"white\")\n",
    "plt.show()"
   ]
  },
  {
   "cell_type": "code",
   "execution_count": null,
   "metadata": {
    "id": "QUj6sEyah9Km"
   },
   "outputs": [],
   "source": [
    "# Smooth episode rewards\n",
    "kernel_size = 20\n",
    "kernel = np.ones(kernel_size) / kernel_size\n",
    "episode_rewards_smooth = np.convolve(episode_rewards, kernel, mode=\"same\")"
   ]
  },
  {
   "cell_type": "code",
   "execution_count": null,
   "metadata": {
    "id": "n1KxhAc2iG5A"
   },
   "outputs": [],
   "source": [
    "# Plot smooth episode remwards\n",
    "fig, ax = plt.subplots(figsize=(8, 4.5))\n",
    "ax.plot(episode_rewards_smooth)\n",
    "ax.set_xlabel(\"Episode\")\n",
    "ax.set_ylabel(\"Reward\")\n",
    "ax.set_title(f\"Average Episode Rewards ({kernel_size} episodes)\")\n",
    "ax.grid(True)\n",
    "fig.tight_layout()\n",
    "fig.savefig(f\"./figures/qnetworks/{base_name}episode_rewards_smooth{kernel_size}_{model_color}.png\", dpi=300, facecolor=\"white\")\n",
    "plt.show()"
   ]
  },
  {
   "cell_type": "code",
   "execution_count": null,
   "metadata": {
    "id": "LmMbIkJYiJoH"
   },
   "outputs": [],
   "source": []
  }
 ],
 "metadata": {
  "accelerator": "GPU",
  "colab": {
   "gpuType": "T4",
   "provenance": []
  },
  "kernelspec": {
   "display_name": "Python 3",
   "language": "python",
   "name": "python3"
  },
  "language_info": {
   "codemirror_mode": {
    "name": "ipython",
    "version": 3
   },
   "file_extension": ".py",
   "mimetype": "text/x-python",
   "name": "python",
   "nbconvert_exporter": "python",
   "pygments_lexer": "ipython3",
   "version": "3.10.0"
  }
 },
 "nbformat": 4,
 "nbformat_minor": 4
}
