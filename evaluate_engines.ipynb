{
 "cells": [
  {
   "cell_type": "markdown",
   "metadata": {},
   "source": [
    "# Evaluate Hex Chess Engines"
   ]
  },
  {
   "cell_type": "markdown",
   "metadata": {},
   "source": [
    "## Setup"
   ]
  },
  {
   "cell_type": "code",
   "execution_count": 1,
   "metadata": {
    "tags": []
   },
   "outputs": [],
   "source": [
    "%matplotlib inline\n",
    "%load_ext autoreload\n",
    "%autoreload 2"
   ]
  },
  {
   "cell_type": "code",
   "execution_count": 2,
   "metadata": {
    "tags": []
   },
   "outputs": [
    {
     "name": "stderr",
     "output_type": "stream",
     "text": [
      "/var/tmp/ipykernel_353624/1683085671.py:2: DeprecationWarning: \n",
      "Pyarrow will become a required dependency of pandas in the next major release of pandas (pandas 3.0),\n",
      "(to allow more performant data types, such as the Arrow string type, and better interoperability with other libraries)\n",
      "but was too old on your system - pyarrow 10.0.1 is the current minimum supported version as of this release.\n",
      "If this would cause problems for you,\n",
      "please provide us feedback at https://github.com/pandas-dev/pandas/issues/54466\n",
      "        \n",
      "  import pandas as pd\n"
     ]
    },
    {
     "name": "stdout",
     "output_type": "stream",
     "text": [
      "pygame 2.5.2 (SDL 2.28.2, Python 3.10.13)\n",
      "Hello from the pygame community. https://www.pygame.org/contribute.html\n"
     ]
    },
    {
     "name": "stderr",
     "output_type": "stream",
     "text": [
      "2024-04-06 18:11:38.466822: I tensorflow/core/platform/cpu_feature_guard.cc:193] This TensorFlow binary is optimized with oneAPI Deep Neural Network Library (oneDNN) to use the following CPU instructions in performance-critical operations:  AVX2 AVX512F FMA\n",
      "To enable them in other operations, rebuild TensorFlow with the appropriate compiler flags.\n",
      "2024-04-06 18:11:39.391640: W tensorflow/compiler/xla/stream_executor/platform/default/dso_loader.cc:64] Could not load dynamic library 'libnvinfer.so.7'; dlerror: libnvinfer.so.7: cannot open shared object file: No such file or directory; LD_LIBRARY_PATH: /usr/local/cuda/lib64:/usr/local/nccl2/lib:/usr/local/cuda/extras/CUPTI/lib64:/usr/local/cuda/lib64:/usr/local/nccl2/lib:/usr/local/cuda/extras/CUPTI/lib64\n",
      "2024-04-06 18:11:39.391751: W tensorflow/compiler/xla/stream_executor/platform/default/dso_loader.cc:64] Could not load dynamic library 'libnvinfer_plugin.so.7'; dlerror: libnvinfer_plugin.so.7: cannot open shared object file: No such file or directory; LD_LIBRARY_PATH: /usr/local/cuda/lib64:/usr/local/nccl2/lib:/usr/local/cuda/extras/CUPTI/lib64:/usr/local/cuda/lib64:/usr/local/nccl2/lib:/usr/local/cuda/extras/CUPTI/lib64\n",
      "2024-04-06 18:11:39.391761: W tensorflow/compiler/tf2tensorrt/utils/py_utils.cc:38] TF-TRT Warning: Cannot dlopen some TensorRT libraries. If you would like to use Nvidia GPU with TensorRT, please make sure the missing libraries mentioned above are installed properly.\n"
     ]
    }
   ],
   "source": [
    "import numpy as np\n",
    "import pandas as pd\n",
    "import os\n",
    "import pickle\n",
    "from tqdm import tqdm\n",
    "from hexchess import HexChessBoard, Player, RandomPlayer, GreedyPlayer\n",
    "from engines import QNetworkPlayer\n",
    "from utils import make_safe_filename\n",
    "import tensorflow as tf"
   ]
  },
  {
   "cell_type": "code",
   "execution_count": 3,
   "metadata": {
    "tags": []
   },
   "outputs": [
    {
     "name": "stdout",
     "output_type": "stream",
     "text": [
      "PhysicalDevice(name='/physical_device:GPU:0', device_type='GPU')\n"
     ]
    },
    {
     "name": "stderr",
     "output_type": "stream",
     "text": [
      "2024-04-06 18:11:40.407473: I tensorflow/compiler/xla/stream_executor/cuda/cuda_gpu_executor.cc:981] successful NUMA node read from SysFS had negative value (-1), but there must be at least one NUMA node, so returning NUMA node zero\n",
      "2024-04-06 18:11:40.422121: I tensorflow/compiler/xla/stream_executor/cuda/cuda_gpu_executor.cc:981] successful NUMA node read from SysFS had negative value (-1), but there must be at least one NUMA node, so returning NUMA node zero\n",
      "2024-04-06 18:11:40.424924: I tensorflow/compiler/xla/stream_executor/cuda/cuda_gpu_executor.cc:981] successful NUMA node read from SysFS had negative value (-1), but there must be at least one NUMA node, so returning NUMA node zero\n"
     ]
    }
   ],
   "source": [
    "gpus = tf.config.list_physical_devices('GPU') \n",
    "tf.config.experimental.set_memory_growth(gpus[0], True)\n",
    "print(gpus[0])"
   ]
  },
  {
   "cell_type": "code",
   "execution_count": 4,
   "metadata": {
    "tags": []
   },
   "outputs": [],
   "source": [
    "# Constants\n",
    "results_dir = \"./assets/results\"\n",
    "os.makedirs(results_dir, exist_ok=True)"
   ]
  },
  {
   "cell_type": "markdown",
   "metadata": {},
   "source": [
    "## Game Function"
   ]
  },
  {
   "cell_type": "code",
   "execution_count": 5,
   "metadata": {
    "tags": []
   },
   "outputs": [],
   "source": [
    "def play_game(white_player, black_player, board, max_moves = 50):\n",
    "    # Reset board\n",
    "    board.reset()\n",
    "\n",
    "    # Play game\n",
    "    n_moves = 0\n",
    "    turn_is_white = True\n",
    "    finished = False\n",
    "    for _ in range(max_moves * 2):\n",
    "        # Select active player\n",
    "        active_player = white_player if turn_is_white else black_player\n",
    "\n",
    "        # Get move\n",
    "        position_from, position_to = active_player.get_move()\n",
    "        success, finished = board.move(position_from, position_to, turn_is_white)\n",
    "\n",
    "        # Update turn\n",
    "        turn_is_white = not turn_is_white\n",
    "        n_moves += 1 if turn_is_white else 0\n",
    "        if finished:\n",
    "            break\n",
    "\n",
    "    # Determine winner (only valid if game is finished)\n",
    "    white_won = not turn_is_white\n",
    "    return finished, white_won, n_moves"
   ]
  },
  {
   "cell_type": "code",
   "execution_count": 6,
   "metadata": {
    "tags": []
   },
   "outputs": [],
   "source": [
    "def play_games(\n",
    "    white_player_class,\n",
    "    black_player_class,\n",
    "    max_moves=50,\n",
    "    n_games=10,\n",
    "    progress_bar=True,\n",
    "):\n",
    "    # Parse player\n",
    "    if isinstance(white_player_class, dict):\n",
    "        white_player_kwargs = white_player_class['kwargs']\n",
    "        white_player_class = white_player_class['class']\n",
    "    else:\n",
    "        white_player_kwargs = {}\n",
    "    if isinstance(black_player_class, dict):\n",
    "        black_player_kwargs = black_player_class['kwargs']\n",
    "        black_player_class = black_player_class['class']\n",
    "    else:\n",
    "        black_player_kwargs = {}\n",
    "    \n",
    "    # Initialize board\n",
    "    board = HexChessBoard()\n",
    "    \n",
    "    # Initialize players\n",
    "    white_player = white_player_class(board, True, **white_player_kwargs)\n",
    "    black_player = black_player_class(board, False, **black_player_kwargs)\n",
    "    \n",
    "    \n",
    "    # Play games\n",
    "    fn = tqdm if progress_bar else lambda x: x\n",
    "    results = [None] * n_games\n",
    "    for game_index in fn(range(n_games)):\n",
    "        results[game_index] = play_game(\n",
    "            white_player=white_player,\n",
    "            black_player=black_player,\n",
    "            board=board,\n",
    "            max_moves=max_moves,\n",
    "        )\n",
    "\n",
    "    return results"
   ]
  },
  {
   "cell_type": "markdown",
   "metadata": {},
   "source": [
    "## Evaluate Games"
   ]
  },
  {
   "cell_type": "code",
   "execution_count": 7,
   "metadata": {
    "tags": []
   },
   "outputs": [],
   "source": [
    "# Configuration\n",
    "n_games = 1000\n",
    "max_moves = 100\n",
    "white_players = [\n",
    "    {\"class\": RandomPlayer, \"label\": \"Random (baseline)\", \"kwargs\": {}}, \n",
    "    {\"class\": GreedyPlayer, \"label\": \"Greedy (baseline)\", \"kwargs\": {}},\n",
    "    {\"class\": QNetworkPlayer, \"label\": \"DQN small (random)\", \"kwargs\": {\"model_name\": \"random_pr\", \"is_large\": False}},\n",
    "    {\"class\": QNetworkPlayer, \"label\": \"DQN small (random + greedy)\", \"kwargs\": {\"model_name\": \"randomgreedy_pr\", \"is_large\": False}},\n",
    "    {\"class\": QNetworkPlayer, \"label\": \"DQN large (random)\", \"kwargs\": {\"model_name\": \"random_pr\", \"is_large\": True}},\n",
    "    {\"class\": QNetworkPlayer, \"label\": \"DQN large (random + greedy)\", \"kwargs\": {\"model_name\": \"randomgreedy_pr\", \"is_large\": True}},\n",
    "    {\"class\": QNetworkPlayer, \"label\": \"DQN large (random + greedy-2)\", \"kwargs\": {\"model_name\": \"randomgreedygreedy_pr\", \"is_large\": True}},\n",
    "]\n",
    "n_players = len(white_players)\n",
    "black_players = white_players[:n_players//4]"
   ]
  },
  {
   "cell_type": "code",
   "execution_count": null,
   "metadata": {
    "tags": []
   },
   "outputs": [
    {
     "name": "stdout",
     "output_type": "stream",
     "text": [
      "Random (baseline) vs Random (baseline)\n"
     ]
    },
    {
     "name": "stderr",
     "output_type": "stream",
     "text": [
      "100%|███████████████████████████████████████| 1000/1000 [07:38<00:00,  2.18it/s]\n"
     ]
    },
    {
     "name": "stdout",
     "output_type": "stream",
     "text": [
      "Greedy (baseline) vs Random (baseline)\n"
     ]
    },
    {
     "name": "stderr",
     "output_type": "stream",
     "text": [
      "100%|███████████████████████████████████████| 1000/1000 [01:30<00:00, 11.11it/s]\n"
     ]
    },
    {
     "name": "stdout",
     "output_type": "stream",
     "text": [
      "DQN small (random) vs Random (baseline)\n"
     ]
    },
    {
     "name": "stderr",
     "output_type": "stream",
     "text": [
      "2024-04-06 18:20:50.635403: I tensorflow/core/platform/cpu_feature_guard.cc:193] This TensorFlow binary is optimized with oneAPI Deep Neural Network Library (oneDNN) to use the following CPU instructions in performance-critical operations:  AVX2 AVX512F FMA\n",
      "To enable them in other operations, rebuild TensorFlow with the appropriate compiler flags.\n",
      "2024-04-06 18:20:50.636775: I tensorflow/compiler/xla/stream_executor/cuda/cuda_gpu_executor.cc:981] successful NUMA node read from SysFS had negative value (-1), but there must be at least one NUMA node, so returning NUMA node zero\n",
      "2024-04-06 18:20:50.639048: I tensorflow/compiler/xla/stream_executor/cuda/cuda_gpu_executor.cc:981] successful NUMA node read from SysFS had negative value (-1), but there must be at least one NUMA node, so returning NUMA node zero\n",
      "2024-04-06 18:20:50.640896: I tensorflow/compiler/xla/stream_executor/cuda/cuda_gpu_executor.cc:981] successful NUMA node read from SysFS had negative value (-1), but there must be at least one NUMA node, so returning NUMA node zero\n",
      "2024-04-06 18:20:51.524012: I tensorflow/compiler/xla/stream_executor/cuda/cuda_gpu_executor.cc:981] successful NUMA node read from SysFS had negative value (-1), but there must be at least one NUMA node, so returning NUMA node zero\n",
      "2024-04-06 18:20:51.525672: I tensorflow/compiler/xla/stream_executor/cuda/cuda_gpu_executor.cc:981] successful NUMA node read from SysFS had negative value (-1), but there must be at least one NUMA node, so returning NUMA node zero\n",
      "2024-04-06 18:20:51.526976: I tensorflow/compiler/xla/stream_executor/cuda/cuda_gpu_executor.cc:981] successful NUMA node read from SysFS had negative value (-1), but there must be at least one NUMA node, so returning NUMA node zero\n",
      "2024-04-06 18:20:51.528232: I tensorflow/core/common_runtime/gpu/gpu_device.cc:1613] Created device /job:localhost/replica:0/task:0/device:GPU:0 with 10951 MB memory:  -> device: 0, name: Tesla T4, pci bus id: 0000:00:04.0, compute capability: 7.5\n",
      "  0%|                                                  | 0/1000 [00:00<?, ?it/s]2024-04-06 18:20:52.600623: I tensorflow/compiler/xla/stream_executor/cuda/cuda_dnn.cc:428] Loaded cuDNN version 8200\n",
      " 68%|███████████████████████████▏            | 681/1000 [10:10<05:29,  1.03s/it]"
     ]
    }
   ],
   "source": [
    "# Gather results\n",
    "rows = [player[\"label\"] if isinstance(player, dict) else player.name for player in white_players]\n",
    "cols = [player[\"label\"] if isinstance(player, dict) else player.name for player in black_players]\n",
    "games_won = np.zeros((len(white_players), len(black_players)), dtype=int)\n",
    "games_draw = np.zeros((len(white_players), len(black_players)), dtype=int)\n",
    "games_lost = np.zeros((len(white_players), len(black_players)), dtype=int)\n",
    "games_moves = np.zeros((len(white_players), len(black_players)), dtype=float)\n",
    "\n",
    "# All white players\n",
    "for i, white_player in enumerate(white_players):\n",
    "    # Against all black players\n",
    "    for j, black_player in enumerate(black_players):\n",
    "        # Battle start\n",
    "        print(f\"{white_player['label']} vs {black_player['label']}\")\n",
    "        \n",
    "        # Make sure we don't already have the results\n",
    "        results_filename = f\"{make_safe_filename(white_player['label'])}_vs_{make_safe_filename(black_player['label'])}_{n_games}.pkl\"\n",
    "        results_filepath = os.path.join(results_dir, results_filename)\n",
    "        if os.path.exists(results_filepath):\n",
    "            # Results path exists - load from file\n",
    "            with open(results_filepath, \"rb\") as results_file:\n",
    "                results = pickle.load(results_file)\n",
    "        else:\n",
    "            # Results path does not exist - play games\n",
    "            results = play_games(\n",
    "                white_player,\n",
    "                black_player,\n",
    "                max_moves=max_moves,\n",
    "                n_games=n_games,\n",
    "                progress_bar=True,\n",
    "            )\n",
    "            # Save to file\n",
    "            with open(results_filepath, \"wb\") as results_file:\n",
    "                pickle.dump(results, results_file)\n",
    "        \n",
    "        # Save statistics\n",
    "        for game_index, result in enumerate(results):\n",
    "            # Parse result\n",
    "            game_finished, white_won, n_moves = result\n",
    "            \n",
    "            # Win / Loss / Draw\n",
    "            if game_finished:\n",
    "                if white_won:\n",
    "                    games_won[i, j] += 1\n",
    "                else:\n",
    "                    games_lost[i, j] += 1\n",
    "            else:\n",
    "                games_draw[i, j] += 1\n",
    "\n",
    "            # Number of moves\n",
    "            games_moves[i, j] += n_moves / n_games\n"
   ]
  },
  {
   "cell_type": "code",
   "execution_count": 29,
   "metadata": {},
   "outputs": [],
   "source": [
    "# Collect results in Dataframes\n",
    "games_won_df = pd.DataFrame(data = games_won, index = rows, columns = cols)\n",
    "games_lost_df = pd.DataFrame(data = games_lost, index = rows, columns = cols)\n",
    "games_draw_df = pd.DataFrame(data = games_draw, index = rows, columns = cols)\n",
    "games_moves_df = pd.DataFrame(data = games_moves, index = rows, columns = cols)"
   ]
  },
  {
   "cell_type": "code",
   "execution_count": 30,
   "metadata": {},
   "outputs": [],
   "source": [
    "# Save results\n",
    "models = \"qnetworks\"\n",
    "games_df_names = [\"won\", \"lost\", \"draw\", \"moves\"]\n",
    "games_dfs = [games_won_df, games_lost_df, games_draw_df, games_moves_df]\n",
    "for name, game_df in zip(games_df_names, games_dfs):\n",
    "    game_df.to_csv(os.path.join(results_dir, f\"games_{name}_{models}.csv\"), index=True)"
   ]
  },
  {
   "cell_type": "code",
   "execution_count": 35,
   "metadata": {},
   "outputs": [],
   "source": [
    "# Load results\n",
    "models = \"qnetworks\"\n",
    "games_df_names = [\"won\", \"lost\", \"draw\", \"moves\"]\n",
    "games_dfs = [pd.read_csv(os.path.join(results_dir, f\"games_{name}_{models}.csv\"), index_col=0) for name in games_df_names]\n",
    "games_won_df, games_lost_df, games_draw_df, games_moves_df = games_dfs"
   ]
  },
  {
   "cell_type": "code",
   "execution_count": 36,
   "metadata": {},
   "outputs": [
    {
     "name": "stdout",
     "output_type": "stream",
     "text": [
      "___GAMES WON___\n"
     ]
    },
    {
     "data": {
      "text/html": [
       "<div>\n",
       "<style scoped>\n",
       "    .dataframe tbody tr th:only-of-type {\n",
       "        vertical-align: middle;\n",
       "    }\n",
       "\n",
       "    .dataframe tbody tr th {\n",
       "        vertical-align: top;\n",
       "    }\n",
       "\n",
       "    .dataframe thead th {\n",
       "        text-align: right;\n",
       "    }\n",
       "</style>\n",
       "<table border=\"1\" class=\"dataframe\">\n",
       "  <thead>\n",
       "    <tr style=\"text-align: right;\">\n",
       "      <th></th>\n",
       "      <th>Random (baseline)</th>\n",
       "      <th>Greedy (baseline)</th>\n",
       "      <th>DQN (random)</th>\n",
       "      <th>DQN (random + greedy)</th>\n",
       "    </tr>\n",
       "  </thead>\n",
       "  <tbody>\n",
       "    <tr>\n",
       "      <th>Random (baseline)</th>\n",
       "      <td>4</td>\n",
       "      <td>0</td>\n",
       "      <td>2</td>\n",
       "      <td>1</td>\n",
       "    </tr>\n",
       "    <tr>\n",
       "      <th>Greedy (baseline)</th>\n",
       "      <td>10</td>\n",
       "      <td>9</td>\n",
       "      <td>10</td>\n",
       "      <td>9</td>\n",
       "    </tr>\n",
       "    <tr>\n",
       "      <th>DQN (random)</th>\n",
       "      <td>4</td>\n",
       "      <td>2</td>\n",
       "      <td>0</td>\n",
       "      <td>0</td>\n",
       "    </tr>\n",
       "    <tr>\n",
       "      <th>DQN (random + greedy)</th>\n",
       "      <td>3</td>\n",
       "      <td>2</td>\n",
       "      <td>0</td>\n",
       "      <td>0</td>\n",
       "    </tr>\n",
       "  </tbody>\n",
       "</table>\n",
       "</div>"
      ],
      "text/plain": [
       "                       Random (baseline)  Greedy (baseline)  DQN (random)  \\\n",
       "Random (baseline)                      4                  0             2   \n",
       "Greedy (baseline)                     10                  9            10   \n",
       "DQN (random)                           4                  2             0   \n",
       "DQN (random + greedy)                  3                  2             0   \n",
       "\n",
       "                       DQN (random + greedy)  \n",
       "Random (baseline)                          1  \n",
       "Greedy (baseline)                          9  \n",
       "DQN (random)                               0  \n",
       "DQN (random + greedy)                      0  "
      ]
     },
     "execution_count": 36,
     "metadata": {},
     "output_type": "execute_result"
    }
   ],
   "source": [
    "print(\"___GAMES WON___\")\n",
    "games_won_df"
   ]
  },
  {
   "cell_type": "code",
   "execution_count": 37,
   "metadata": {},
   "outputs": [
    {
     "name": "stdout",
     "output_type": "stream",
     "text": [
      "___GAMES LOST___\n"
     ]
    },
    {
     "data": {
      "text/html": [
       "<div>\n",
       "<style scoped>\n",
       "    .dataframe tbody tr th:only-of-type {\n",
       "        vertical-align: middle;\n",
       "    }\n",
       "\n",
       "    .dataframe tbody tr th {\n",
       "        vertical-align: top;\n",
       "    }\n",
       "\n",
       "    .dataframe thead th {\n",
       "        text-align: right;\n",
       "    }\n",
       "</style>\n",
       "<table border=\"1\" class=\"dataframe\">\n",
       "  <thead>\n",
       "    <tr style=\"text-align: right;\">\n",
       "      <th></th>\n",
       "      <th>Random (baseline)</th>\n",
       "      <th>Greedy (baseline)</th>\n",
       "      <th>DQN (random)</th>\n",
       "      <th>DQN (random + greedy)</th>\n",
       "    </tr>\n",
       "  </thead>\n",
       "  <tbody>\n",
       "    <tr>\n",
       "      <th>Random (baseline)</th>\n",
       "      <td>4</td>\n",
       "      <td>10</td>\n",
       "      <td>8</td>\n",
       "      <td>4</td>\n",
       "    </tr>\n",
       "    <tr>\n",
       "      <th>Greedy (baseline)</th>\n",
       "      <td>0</td>\n",
       "      <td>1</td>\n",
       "      <td>0</td>\n",
       "      <td>1</td>\n",
       "    </tr>\n",
       "    <tr>\n",
       "      <th>DQN (random)</th>\n",
       "      <td>6</td>\n",
       "      <td>8</td>\n",
       "      <td>0</td>\n",
       "      <td>0</td>\n",
       "    </tr>\n",
       "    <tr>\n",
       "      <th>DQN (random + greedy)</th>\n",
       "      <td>5</td>\n",
       "      <td>8</td>\n",
       "      <td>10</td>\n",
       "      <td>0</td>\n",
       "    </tr>\n",
       "  </tbody>\n",
       "</table>\n",
       "</div>"
      ],
      "text/plain": [
       "                       Random (baseline)  Greedy (baseline)  DQN (random)  \\\n",
       "Random (baseline)                      4                 10             8   \n",
       "Greedy (baseline)                      0                  1             0   \n",
       "DQN (random)                           6                  8             0   \n",
       "DQN (random + greedy)                  5                  8            10   \n",
       "\n",
       "                       DQN (random + greedy)  \n",
       "Random (baseline)                          4  \n",
       "Greedy (baseline)                          1  \n",
       "DQN (random)                               0  \n",
       "DQN (random + greedy)                      0  "
      ]
     },
     "execution_count": 37,
     "metadata": {},
     "output_type": "execute_result"
    }
   ],
   "source": [
    "print(\"___GAMES LOST___\")\n",
    "games_lost_df"
   ]
  },
  {
   "cell_type": "code",
   "execution_count": 38,
   "metadata": {},
   "outputs": [
    {
     "name": "stdout",
     "output_type": "stream",
     "text": [
      "___GAMES DRAW___\n"
     ]
    },
    {
     "data": {
      "text/html": [
       "<div>\n",
       "<style scoped>\n",
       "    .dataframe tbody tr th:only-of-type {\n",
       "        vertical-align: middle;\n",
       "    }\n",
       "\n",
       "    .dataframe tbody tr th {\n",
       "        vertical-align: top;\n",
       "    }\n",
       "\n",
       "    .dataframe thead th {\n",
       "        text-align: right;\n",
       "    }\n",
       "</style>\n",
       "<table border=\"1\" class=\"dataframe\">\n",
       "  <thead>\n",
       "    <tr style=\"text-align: right;\">\n",
       "      <th></th>\n",
       "      <th>Random (baseline)</th>\n",
       "      <th>Greedy (baseline)</th>\n",
       "      <th>DQN (random)</th>\n",
       "      <th>DQN (random + greedy)</th>\n",
       "    </tr>\n",
       "  </thead>\n",
       "  <tbody>\n",
       "    <tr>\n",
       "      <th>Random (baseline)</th>\n",
       "      <td>2</td>\n",
       "      <td>0</td>\n",
       "      <td>0</td>\n",
       "      <td>5</td>\n",
       "    </tr>\n",
       "    <tr>\n",
       "      <th>Greedy (baseline)</th>\n",
       "      <td>0</td>\n",
       "      <td>0</td>\n",
       "      <td>0</td>\n",
       "      <td>0</td>\n",
       "    </tr>\n",
       "    <tr>\n",
       "      <th>DQN (random)</th>\n",
       "      <td>0</td>\n",
       "      <td>0</td>\n",
       "      <td>10</td>\n",
       "      <td>10</td>\n",
       "    </tr>\n",
       "    <tr>\n",
       "      <th>DQN (random + greedy)</th>\n",
       "      <td>2</td>\n",
       "      <td>0</td>\n",
       "      <td>0</td>\n",
       "      <td>10</td>\n",
       "    </tr>\n",
       "  </tbody>\n",
       "</table>\n",
       "</div>"
      ],
      "text/plain": [
       "                       Random (baseline)  Greedy (baseline)  DQN (random)  \\\n",
       "Random (baseline)                      2                  0             0   \n",
       "Greedy (baseline)                      0                  0             0   \n",
       "DQN (random)                           0                  0            10   \n",
       "DQN (random + greedy)                  2                  0             0   \n",
       "\n",
       "                       DQN (random + greedy)  \n",
       "Random (baseline)                          5  \n",
       "Greedy (baseline)                          0  \n",
       "DQN (random)                              10  \n",
       "DQN (random + greedy)                     10  "
      ]
     },
     "execution_count": 38,
     "metadata": {},
     "output_type": "execute_result"
    }
   ],
   "source": [
    "print(\"___GAMES DRAW___\")\n",
    "games_draw_df"
   ]
  },
  {
   "cell_type": "code",
   "execution_count": 39,
   "metadata": {},
   "outputs": [
    {
     "name": "stdout",
     "output_type": "stream",
     "text": [
      "__NR OF MOVES__\n"
     ]
    },
    {
     "data": {
      "text/html": [
       "<div>\n",
       "<style scoped>\n",
       "    .dataframe tbody tr th:only-of-type {\n",
       "        vertical-align: middle;\n",
       "    }\n",
       "\n",
       "    .dataframe tbody tr th {\n",
       "        vertical-align: top;\n",
       "    }\n",
       "\n",
       "    .dataframe thead th {\n",
       "        text-align: right;\n",
       "    }\n",
       "</style>\n",
       "<table border=\"1\" class=\"dataframe\">\n",
       "  <thead>\n",
       "    <tr style=\"text-align: right;\">\n",
       "      <th></th>\n",
       "      <th>Random (baseline)</th>\n",
       "      <th>Greedy (baseline)</th>\n",
       "      <th>DQN (random)</th>\n",
       "      <th>DQN (random + greedy)</th>\n",
       "    </tr>\n",
       "  </thead>\n",
       "  <tbody>\n",
       "    <tr>\n",
       "      <th>Random (baseline)</th>\n",
       "      <td>46.5</td>\n",
       "      <td>10.9</td>\n",
       "      <td>38.0</td>\n",
       "      <td>70.2</td>\n",
       "    </tr>\n",
       "    <tr>\n",
       "      <th>Greedy (baseline)</th>\n",
       "      <td>9.5</td>\n",
       "      <td>19.0</td>\n",
       "      <td>10.5</td>\n",
       "      <td>19.3</td>\n",
       "    </tr>\n",
       "    <tr>\n",
       "      <th>DQN (random)</th>\n",
       "      <td>53.4</td>\n",
       "      <td>10.0</td>\n",
       "      <td>100.0</td>\n",
       "      <td>100.0</td>\n",
       "    </tr>\n",
       "    <tr>\n",
       "      <th>DQN (random + greedy)</th>\n",
       "      <td>51.6</td>\n",
       "      <td>15.6</td>\n",
       "      <td>5.0</td>\n",
       "      <td>100.0</td>\n",
       "    </tr>\n",
       "  </tbody>\n",
       "</table>\n",
       "</div>"
      ],
      "text/plain": [
       "                       Random (baseline)  Greedy (baseline)  DQN (random)  \\\n",
       "Random (baseline)                   46.5               10.9          38.0   \n",
       "Greedy (baseline)                    9.5               19.0          10.5   \n",
       "DQN (random)                        53.4               10.0         100.0   \n",
       "DQN (random + greedy)               51.6               15.6           5.0   \n",
       "\n",
       "                       DQN (random + greedy)  \n",
       "Random (baseline)                       70.2  \n",
       "Greedy (baseline)                       19.3  \n",
       "DQN (random)                           100.0  \n",
       "DQN (random + greedy)                  100.0  "
      ]
     },
     "execution_count": 39,
     "metadata": {},
     "output_type": "execute_result"
    }
   ],
   "source": [
    "print(\"__NR OF MOVES__\")\n",
    "games_moves_df"
   ]
  },
  {
   "cell_type": "code",
   "execution_count": null,
   "metadata": {},
   "outputs": [],
   "source": []
  }
 ],
 "metadata": {
  "kernelspec": {
   "display_name": "Python 3 (Local)",
   "language": "python",
   "name": "python3"
  },
  "language_info": {
   "codemirror_mode": {
    "name": "ipython",
    "version": 3
   },
   "file_extension": ".py",
   "mimetype": "text/x-python",
   "name": "python",
   "nbconvert_exporter": "python",
   "pygments_lexer": "ipython3",
   "version": "3.10.13"
  }
 },
 "nbformat": 4,
 "nbformat_minor": 4
}
