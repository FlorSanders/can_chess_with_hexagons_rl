{
 "cells": [
  {
   "cell_type": "markdown",
   "metadata": {},
   "source": [
    "# Evaluate Hex Chess Engines"
   ]
  },
  {
   "cell_type": "markdown",
   "metadata": {},
   "source": [
    "## Setup"
   ]
  },
  {
   "cell_type": "code",
   "execution_count": 1,
   "metadata": {},
   "outputs": [],
   "source": [
    "%matplotlib inline\n",
    "%load_ext autoreload\n",
    "%autoreload 2"
   ]
  },
  {
   "cell_type": "code",
   "execution_count": 2,
   "metadata": {},
   "outputs": [
    {
     "name": "stdout",
     "output_type": "stream",
     "text": [
      "pygame 2.5.2 (SDL 2.28.2, Python 3.10.0)\n",
      "Hello from the pygame community. https://www.pygame.org/contribute.html\n"
     ]
    },
    {
     "name": "stderr",
     "output_type": "stream",
     "text": [
      "2024-03-21 15:30:12.998707: I tensorflow/core/platform/cpu_feature_guard.cc:193] This TensorFlow binary is optimized with oneAPI Deep Neural Network Library (oneDNN) to use the following CPU instructions in performance-critical operations:  AVX2 FMA\n",
      "To enable them in other operations, rebuild TensorFlow with the appropriate compiler flags.\n",
      "2024-03-21 15:30:13.156666: W tensorflow/compiler/xla/stream_executor/platform/default/dso_loader.cc:64] Could not load dynamic library 'libcudart.so.11.0'; dlerror: libcudart.so.11.0: cannot open shared object file: No such file or directory\n",
      "2024-03-21 15:30:13.156691: I tensorflow/compiler/xla/stream_executor/cuda/cudart_stub.cc:29] Ignore above cudart dlerror if you do not have a GPU set up on your machine.\n",
      "2024-03-21 15:30:13.882224: W tensorflow/compiler/xla/stream_executor/platform/default/dso_loader.cc:64] Could not load dynamic library 'libnvinfer.so.7'; dlerror: libnvinfer.so.7: cannot open shared object file: No such file or directory\n",
      "2024-03-21 15:30:13.882300: W tensorflow/compiler/xla/stream_executor/platform/default/dso_loader.cc:64] Could not load dynamic library 'libnvinfer_plugin.so.7'; dlerror: libnvinfer_plugin.so.7: cannot open shared object file: No such file or directory\n",
      "2024-03-21 15:30:13.882307: W tensorflow/compiler/tf2tensorrt/utils/py_utils.cc:38] TF-TRT Warning: Cannot dlopen some TensorRT libraries. If you would like to use Nvidia GPU with TensorRT, please make sure the missing libraries mentioned above are installed properly.\n"
     ]
    }
   ],
   "source": [
    "import numpy as np\n",
    "import pandas as pd\n",
    "import os\n",
    "from hexchess import HexChessBoard, Player, RandomPlayer, GreedyPlayer\n",
    "from engines import QNetworkPlayer"
   ]
  },
  {
   "cell_type": "code",
   "execution_count": 3,
   "metadata": {},
   "outputs": [],
   "source": [
    "# Constants\n",
    "results_dir = \"./assets/results\"\n",
    "os.makedirs(results_dir, exist_ok=True)"
   ]
  },
  {
   "cell_type": "markdown",
   "metadata": {},
   "source": [
    "## Game Function"
   ]
  },
  {
   "cell_type": "code",
   "execution_count": 25,
   "metadata": {},
   "outputs": [],
   "source": [
    "def play_game(white_player_class, black_player_class, max_moves = 50):\n",
    "    if isinstance(white_player_class, dict):\n",
    "        white_player_kwargs = white_player_class['kwargs']\n",
    "        white_player_class = white_player_class['class']\n",
    "    else:\n",
    "        white_player_kwargs = {}\n",
    "    if isinstance(black_player_class, dict):\n",
    "        black_player_kwargs = black_player_class['kwargs']\n",
    "        black_player_class = black_player_class['class']\n",
    "    else:\n",
    "        black_player_kwargs = {}\n",
    "    \n",
    "    # Initialize board\n",
    "    board = HexChessBoard()\n",
    "\n",
    "    # Initialize players\n",
    "    white_player = white_player_class(board, True, **white_player_kwargs)\n",
    "    black_player = black_player_class(board, False, **black_player_kwargs)\n",
    "\n",
    "    # Play game\n",
    "    n_moves = 0\n",
    "    turn_is_white = True\n",
    "    finished = False\n",
    "    for _ in range(max_moves * 2):\n",
    "        # Select active player\n",
    "        active_player = white_player if turn_is_white else black_player\n",
    "\n",
    "        # Get move\n",
    "        position_from, position_to = active_player.get_move()\n",
    "        success, finished = board.move(position_from, position_to, turn_is_white)\n",
    "\n",
    "        # Update turn\n",
    "        turn_is_white = not turn_is_white\n",
    "        n_moves += 1 if turn_is_white else 0\n",
    "        if finished:\n",
    "            break\n",
    "\n",
    "\n",
    "    # Determine winner (only valid if game is finished)\n",
    "    white_won = not turn_is_white\n",
    "    return finished, white_won, n_moves"
   ]
  },
  {
   "cell_type": "code",
   "execution_count": null,
   "metadata": {},
   "outputs": [],
   "source": []
  },
  {
   "cell_type": "markdown",
   "metadata": {},
   "source": [
    "## Evaluate Games"
   ]
  },
  {
   "cell_type": "code",
   "execution_count": 26,
   "metadata": {},
   "outputs": [],
   "source": [
    "# Configuration\n",
    "n_games = 10\n",
    "max_moves = 100\n",
    "white_players = [\n",
    "    {\"class\": RandomPlayer, \"label\": \"Random (baseline)\", \"kwargs\": {}}, \n",
    "    {\"class\": GreedyPlayer, \"label\": \"Greedy (baseline)\", \"kwargs\": {}},\n",
    "    {\"class\": QNetworkPlayer, \"label\": \"DQN (random)\", \"kwargs\": {\"model_name\": \"random_pr\"}},\n",
    "    {\"class\": QNetworkPlayer, \"label\": \"DQN (random + greedy)\", \"kwargs\": {\"model_name\": \"randomgreedy_pr\"}},\n",
    "]\n",
    "black_players = white_players"
   ]
  },
  {
   "cell_type": "code",
   "execution_count": 27,
   "metadata": {},
   "outputs": [],
   "source": [
    "# Gather results\n",
    "rows = [player[\"label\"] if isinstance(player, dict) else player.name for player in white_players]\n",
    "cols = [player[\"label\"] if isinstance(player, dict) else player.name for player in black_players]\n",
    "games_won = np.zeros((len(white_players), len(black_players)), dtype=int)\n",
    "games_draw = np.zeros((len(white_players), len(black_players)), dtype=int)\n",
    "games_lost = np.zeros((len(white_players), len(black_players)), dtype=int)\n",
    "games_moves = np.zeros((len(white_players), len(black_players)), dtype=float)\n",
    "\n",
    "# All white players\n",
    "for i, white_player in enumerate(white_players):\n",
    "    # Against all black players\n",
    "    for j, black_player in enumerate(black_players):\n",
    "        # Collect statistics\n",
    "        for game_index in range(n_games):\n",
    "            # Play Game\n",
    "            game_finished, white_won, n_moves = play_game(white_player, black_player, max_moves=max_moves)\n",
    "\n",
    "            # Win / Loss / Draw\n",
    "            if game_finished:\n",
    "                if white_won:\n",
    "                    games_won[i, j] += 1\n",
    "                else:\n",
    "                    games_lost[i, j] += 1\n",
    "            else:\n",
    "                games_draw[i, j] += 1\n",
    "\n",
    "            # Number of moves\n",
    "            games_moves[i, j] += n_moves / n_games\n"
   ]
  },
  {
   "cell_type": "code",
   "execution_count": 29,
   "metadata": {},
   "outputs": [],
   "source": [
    "# Collect results in Dataframes\n",
    "games_won_df = pd.DataFrame(data = games_won, index = rows, columns = cols)\n",
    "games_lost_df = pd.DataFrame(data = games_lost, index = rows, columns = cols)\n",
    "games_draw_df = pd.DataFrame(data = games_draw, index = rows, columns = cols)\n",
    "games_moves_df = pd.DataFrame(data = games_moves, index = rows, columns = cols)"
   ]
  },
  {
   "cell_type": "code",
   "execution_count": 30,
   "metadata": {},
   "outputs": [],
   "source": [
    "# Save results\n",
    "games_df_names = [\"won\", \"lost\", \"draw\", \"moves\"]\n",
    "games_dfs = [games_won_df, games_lost_df, games_draw_df, games_moves_df]\n",
    "for name, game_df in zip(games_df_names, games_dfs):\n",
    "    game_df.to_csv(os.path.join(results_dir, f\"games_{name}.csv\"), index=True)"
   ]
  },
  {
   "cell_type": "code",
   "execution_count": 35,
   "metadata": {},
   "outputs": [],
   "source": [
    "# Load results\n",
    "games_df_names = [\"won\", \"lost\", \"draw\", \"moves\"]\n",
    "games_dfs = [pd.read_csv(os.path.join(results_dir, f\"games_{name}.csv\"), index_col=0) for name in games_df_names]\n",
    "games_won_df, games_lost_df, games_draw_df, games_moves_df = games_dfs"
   ]
  },
  {
   "cell_type": "code",
   "execution_count": 36,
   "metadata": {},
   "outputs": [
    {
     "name": "stdout",
     "output_type": "stream",
     "text": [
      "___GAMES WON___\n"
     ]
    },
    {
     "data": {
      "text/html": [
       "<div>\n",
       "<style scoped>\n",
       "    .dataframe tbody tr th:only-of-type {\n",
       "        vertical-align: middle;\n",
       "    }\n",
       "\n",
       "    .dataframe tbody tr th {\n",
       "        vertical-align: top;\n",
       "    }\n",
       "\n",
       "    .dataframe thead th {\n",
       "        text-align: right;\n",
       "    }\n",
       "</style>\n",
       "<table border=\"1\" class=\"dataframe\">\n",
       "  <thead>\n",
       "    <tr style=\"text-align: right;\">\n",
       "      <th></th>\n",
       "      <th>Random (baseline)</th>\n",
       "      <th>Greedy (baseline)</th>\n",
       "      <th>DQN (random)</th>\n",
       "      <th>DQN (random + greedy)</th>\n",
       "    </tr>\n",
       "  </thead>\n",
       "  <tbody>\n",
       "    <tr>\n",
       "      <th>Random (baseline)</th>\n",
       "      <td>4</td>\n",
       "      <td>0</td>\n",
       "      <td>2</td>\n",
       "      <td>1</td>\n",
       "    </tr>\n",
       "    <tr>\n",
       "      <th>Greedy (baseline)</th>\n",
       "      <td>10</td>\n",
       "      <td>9</td>\n",
       "      <td>10</td>\n",
       "      <td>9</td>\n",
       "    </tr>\n",
       "    <tr>\n",
       "      <th>DQN (random)</th>\n",
       "      <td>4</td>\n",
       "      <td>2</td>\n",
       "      <td>0</td>\n",
       "      <td>0</td>\n",
       "    </tr>\n",
       "    <tr>\n",
       "      <th>DQN (random + greedy)</th>\n",
       "      <td>3</td>\n",
       "      <td>2</td>\n",
       "      <td>0</td>\n",
       "      <td>0</td>\n",
       "    </tr>\n",
       "  </tbody>\n",
       "</table>\n",
       "</div>"
      ],
      "text/plain": [
       "                       Random (baseline)  Greedy (baseline)  DQN (random)  \\\n",
       "Random (baseline)                      4                  0             2   \n",
       "Greedy (baseline)                     10                  9            10   \n",
       "DQN (random)                           4                  2             0   \n",
       "DQN (random + greedy)                  3                  2             0   \n",
       "\n",
       "                       DQN (random + greedy)  \n",
       "Random (baseline)                          1  \n",
       "Greedy (baseline)                          9  \n",
       "DQN (random)                               0  \n",
       "DQN (random + greedy)                      0  "
      ]
     },
     "execution_count": 36,
     "metadata": {},
     "output_type": "execute_result"
    }
   ],
   "source": [
    "print(\"___GAMES WON___\")\n",
    "games_won_df"
   ]
  },
  {
   "cell_type": "code",
   "execution_count": 37,
   "metadata": {},
   "outputs": [
    {
     "name": "stdout",
     "output_type": "stream",
     "text": [
      "___GAMES LOST___\n"
     ]
    },
    {
     "data": {
      "text/html": [
       "<div>\n",
       "<style scoped>\n",
       "    .dataframe tbody tr th:only-of-type {\n",
       "        vertical-align: middle;\n",
       "    }\n",
       "\n",
       "    .dataframe tbody tr th {\n",
       "        vertical-align: top;\n",
       "    }\n",
       "\n",
       "    .dataframe thead th {\n",
       "        text-align: right;\n",
       "    }\n",
       "</style>\n",
       "<table border=\"1\" class=\"dataframe\">\n",
       "  <thead>\n",
       "    <tr style=\"text-align: right;\">\n",
       "      <th></th>\n",
       "      <th>Random (baseline)</th>\n",
       "      <th>Greedy (baseline)</th>\n",
       "      <th>DQN (random)</th>\n",
       "      <th>DQN (random + greedy)</th>\n",
       "    </tr>\n",
       "  </thead>\n",
       "  <tbody>\n",
       "    <tr>\n",
       "      <th>Random (baseline)</th>\n",
       "      <td>4</td>\n",
       "      <td>10</td>\n",
       "      <td>8</td>\n",
       "      <td>4</td>\n",
       "    </tr>\n",
       "    <tr>\n",
       "      <th>Greedy (baseline)</th>\n",
       "      <td>0</td>\n",
       "      <td>1</td>\n",
       "      <td>0</td>\n",
       "      <td>1</td>\n",
       "    </tr>\n",
       "    <tr>\n",
       "      <th>DQN (random)</th>\n",
       "      <td>6</td>\n",
       "      <td>8</td>\n",
       "      <td>0</td>\n",
       "      <td>0</td>\n",
       "    </tr>\n",
       "    <tr>\n",
       "      <th>DQN (random + greedy)</th>\n",
       "      <td>5</td>\n",
       "      <td>8</td>\n",
       "      <td>10</td>\n",
       "      <td>0</td>\n",
       "    </tr>\n",
       "  </tbody>\n",
       "</table>\n",
       "</div>"
      ],
      "text/plain": [
       "                       Random (baseline)  Greedy (baseline)  DQN (random)  \\\n",
       "Random (baseline)                      4                 10             8   \n",
       "Greedy (baseline)                      0                  1             0   \n",
       "DQN (random)                           6                  8             0   \n",
       "DQN (random + greedy)                  5                  8            10   \n",
       "\n",
       "                       DQN (random + greedy)  \n",
       "Random (baseline)                          4  \n",
       "Greedy (baseline)                          1  \n",
       "DQN (random)                               0  \n",
       "DQN (random + greedy)                      0  "
      ]
     },
     "execution_count": 37,
     "metadata": {},
     "output_type": "execute_result"
    }
   ],
   "source": [
    "print(\"___GAMES LOST___\")\n",
    "games_lost_df"
   ]
  },
  {
   "cell_type": "code",
   "execution_count": 38,
   "metadata": {},
   "outputs": [
    {
     "name": "stdout",
     "output_type": "stream",
     "text": [
      "___GAMES DRAW___\n"
     ]
    },
    {
     "data": {
      "text/html": [
       "<div>\n",
       "<style scoped>\n",
       "    .dataframe tbody tr th:only-of-type {\n",
       "        vertical-align: middle;\n",
       "    }\n",
       "\n",
       "    .dataframe tbody tr th {\n",
       "        vertical-align: top;\n",
       "    }\n",
       "\n",
       "    .dataframe thead th {\n",
       "        text-align: right;\n",
       "    }\n",
       "</style>\n",
       "<table border=\"1\" class=\"dataframe\">\n",
       "  <thead>\n",
       "    <tr style=\"text-align: right;\">\n",
       "      <th></th>\n",
       "      <th>Random (baseline)</th>\n",
       "      <th>Greedy (baseline)</th>\n",
       "      <th>DQN (random)</th>\n",
       "      <th>DQN (random + greedy)</th>\n",
       "    </tr>\n",
       "  </thead>\n",
       "  <tbody>\n",
       "    <tr>\n",
       "      <th>Random (baseline)</th>\n",
       "      <td>2</td>\n",
       "      <td>0</td>\n",
       "      <td>0</td>\n",
       "      <td>5</td>\n",
       "    </tr>\n",
       "    <tr>\n",
       "      <th>Greedy (baseline)</th>\n",
       "      <td>0</td>\n",
       "      <td>0</td>\n",
       "      <td>0</td>\n",
       "      <td>0</td>\n",
       "    </tr>\n",
       "    <tr>\n",
       "      <th>DQN (random)</th>\n",
       "      <td>0</td>\n",
       "      <td>0</td>\n",
       "      <td>10</td>\n",
       "      <td>10</td>\n",
       "    </tr>\n",
       "    <tr>\n",
       "      <th>DQN (random + greedy)</th>\n",
       "      <td>2</td>\n",
       "      <td>0</td>\n",
       "      <td>0</td>\n",
       "      <td>10</td>\n",
       "    </tr>\n",
       "  </tbody>\n",
       "</table>\n",
       "</div>"
      ],
      "text/plain": [
       "                       Random (baseline)  Greedy (baseline)  DQN (random)  \\\n",
       "Random (baseline)                      2                  0             0   \n",
       "Greedy (baseline)                      0                  0             0   \n",
       "DQN (random)                           0                  0            10   \n",
       "DQN (random + greedy)                  2                  0             0   \n",
       "\n",
       "                       DQN (random + greedy)  \n",
       "Random (baseline)                          5  \n",
       "Greedy (baseline)                          0  \n",
       "DQN (random)                              10  \n",
       "DQN (random + greedy)                     10  "
      ]
     },
     "execution_count": 38,
     "metadata": {},
     "output_type": "execute_result"
    }
   ],
   "source": [
    "print(\"___GAMES DRAW___\")\n",
    "games_draw_df"
   ]
  },
  {
   "cell_type": "code",
   "execution_count": 39,
   "metadata": {},
   "outputs": [
    {
     "name": "stdout",
     "output_type": "stream",
     "text": [
      "__NR OF MOVES__\n"
     ]
    },
    {
     "data": {
      "text/html": [
       "<div>\n",
       "<style scoped>\n",
       "    .dataframe tbody tr th:only-of-type {\n",
       "        vertical-align: middle;\n",
       "    }\n",
       "\n",
       "    .dataframe tbody tr th {\n",
       "        vertical-align: top;\n",
       "    }\n",
       "\n",
       "    .dataframe thead th {\n",
       "        text-align: right;\n",
       "    }\n",
       "</style>\n",
       "<table border=\"1\" class=\"dataframe\">\n",
       "  <thead>\n",
       "    <tr style=\"text-align: right;\">\n",
       "      <th></th>\n",
       "      <th>Random (baseline)</th>\n",
       "      <th>Greedy (baseline)</th>\n",
       "      <th>DQN (random)</th>\n",
       "      <th>DQN (random + greedy)</th>\n",
       "    </tr>\n",
       "  </thead>\n",
       "  <tbody>\n",
       "    <tr>\n",
       "      <th>Random (baseline)</th>\n",
       "      <td>46.5</td>\n",
       "      <td>10.9</td>\n",
       "      <td>38.0</td>\n",
       "      <td>70.2</td>\n",
       "    </tr>\n",
       "    <tr>\n",
       "      <th>Greedy (baseline)</th>\n",
       "      <td>9.5</td>\n",
       "      <td>19.0</td>\n",
       "      <td>10.5</td>\n",
       "      <td>19.3</td>\n",
       "    </tr>\n",
       "    <tr>\n",
       "      <th>DQN (random)</th>\n",
       "      <td>53.4</td>\n",
       "      <td>10.0</td>\n",
       "      <td>100.0</td>\n",
       "      <td>100.0</td>\n",
       "    </tr>\n",
       "    <tr>\n",
       "      <th>DQN (random + greedy)</th>\n",
       "      <td>51.6</td>\n",
       "      <td>15.6</td>\n",
       "      <td>5.0</td>\n",
       "      <td>100.0</td>\n",
       "    </tr>\n",
       "  </tbody>\n",
       "</table>\n",
       "</div>"
      ],
      "text/plain": [
       "                       Random (baseline)  Greedy (baseline)  DQN (random)  \\\n",
       "Random (baseline)                   46.5               10.9          38.0   \n",
       "Greedy (baseline)                    9.5               19.0          10.5   \n",
       "DQN (random)                        53.4               10.0         100.0   \n",
       "DQN (random + greedy)               51.6               15.6           5.0   \n",
       "\n",
       "                       DQN (random + greedy)  \n",
       "Random (baseline)                       70.2  \n",
       "Greedy (baseline)                       19.3  \n",
       "DQN (random)                           100.0  \n",
       "DQN (random + greedy)                  100.0  "
      ]
     },
     "execution_count": 39,
     "metadata": {},
     "output_type": "execute_result"
    }
   ],
   "source": [
    "print(\"__NR OF MOVES__\")\n",
    "games_moves_df"
   ]
  },
  {
   "cell_type": "code",
   "execution_count": null,
   "metadata": {},
   "outputs": [],
   "source": []
  }
 ],
 "metadata": {
  "kernelspec": {
   "display_name": "hexchessrl",
   "language": "python",
   "name": "python3"
  },
  "language_info": {
   "codemirror_mode": {
    "name": "ipython",
    "version": 3
   },
   "file_extension": ".py",
   "mimetype": "text/x-python",
   "name": "python",
   "nbconvert_exporter": "python",
   "pygments_lexer": "ipython3",
   "version": "3.10.0"
  },
  "orig_nbformat": 4
 },
 "nbformat": 4,
 "nbformat_minor": 2
}
