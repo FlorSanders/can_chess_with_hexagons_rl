{
 "cells": [
  {
   "cell_type": "markdown",
   "metadata": {},
   "source": [
    "# Evaluate Hex Chess Engines"
   ]
  },
  {
   "cell_type": "markdown",
   "metadata": {},
   "source": [
    "## Setup"
   ]
  },
  {
   "cell_type": "code",
   "execution_count": 1,
   "metadata": {
    "tags": []
   },
   "outputs": [],
   "source": [
    "%matplotlib inline\n",
    "%load_ext autoreload\n",
    "%autoreload 2"
   ]
  },
  {
   "cell_type": "code",
   "execution_count": 2,
   "metadata": {
    "tags": []
   },
   "outputs": [
    {
     "name": "stdout",
     "output_type": "stream",
     "text": [
      "pygame 2.5.2 (SDL 2.28.3, Python 3.11.5)\n",
      "Hello from the pygame community. https://www.pygame.org/contribute.html\n"
     ]
    }
   ],
   "source": [
    "import numpy as np\n",
    "import pandas as pd\n",
    "import matplotlib.pyplot as plt\n",
    "import os\n",
    "import pickle\n",
    "from tqdm import tqdm\n",
    "from hexchess import HexChessBoard, Player, RandomPlayer, GreedyPlayer\n",
    "from engines import QNetworkPlayer, A2CPlayer\n",
    "from utils import make_safe_filename\n",
    "import tensorflow as tf"
   ]
  },
  {
   "cell_type": "code",
   "execution_count": 3,
   "metadata": {
    "tags": []
   },
   "outputs": [],
   "source": [
    "gpus = tf.config.list_physical_devices('GPU') \n",
    "#tf.config.experimental.set_memory_growth(gpus[0], True)\n",
    "#print(gpus[0])"
   ]
  },
  {
   "cell_type": "code",
   "execution_count": 4,
   "metadata": {
    "tags": []
   },
   "outputs": [],
   "source": [
    "# Constants\n",
    "results_dir = \"./assets/results\"\n",
    "os.makedirs(results_dir, exist_ok=True)"
   ]
  },
  {
   "cell_type": "markdown",
   "metadata": {},
   "source": [
    "## Game Function"
   ]
  },
  {
   "cell_type": "code",
   "execution_count": 7,
   "metadata": {
    "tags": []
   },
   "outputs": [],
   "source": [
    "def play_game(white_player, black_player, board, max_moves = 50):\n",
    "    # Reset board\n",
    "    board.reset()\n",
    "\n",
    "    # Play game\n",
    "    n_moves = 0\n",
    "    turn_is_white = True\n",
    "    finished = False\n",
    "    for _ in range(max_moves * 2):\n",
    "        # Select active player\n",
    "        active_player = white_player if turn_is_white else black_player\n",
    "\n",
    "        # Get move\n",
    "        position_from, position_to = active_player.get_move()\n",
    "        success, finished = board.move(position_from, position_to, turn_is_white)\n",
    "\n",
    "        # Update turn\n",
    "        turn_is_white = not turn_is_white\n",
    "        n_moves += 1 if turn_is_white else 0\n",
    "        if finished:\n",
    "            break\n",
    "\n",
    "    # Determine winner (only valid if game is finished)\n",
    "    white_won = not turn_is_white\n",
    "    return finished, white_won, n_moves"
   ]
  },
  {
   "cell_type": "code",
   "execution_count": 8,
   "metadata": {
    "tags": []
   },
   "outputs": [],
   "source": [
    "def play_games(\n",
    "    white_player_class,\n",
    "    black_player_class,\n",
    "    max_moves=50,\n",
    "    n_games=10,\n",
    "    progress_bar=True,\n",
    "):\n",
    "    # Parse player\n",
    "    if isinstance(white_player_class, dict):\n",
    "        white_player_kwargs = white_player_class['kwargs']\n",
    "        white_player_class = white_player_class['class']\n",
    "    else:\n",
    "        white_player_kwargs = {}\n",
    "    if isinstance(black_player_class, dict):\n",
    "        black_player_kwargs = black_player_class['kwargs']\n",
    "        black_player_class = black_player_class['class']\n",
    "    else:\n",
    "        black_player_kwargs = {}\n",
    "    \n",
    "    # Initialize board\n",
    "    board = HexChessBoard(save_prob=0.)\n",
    "    \n",
    "    # Initialize players\n",
    "    white_player = white_player_class(board, True, **white_player_kwargs)\n",
    "    black_player = black_player_class(board, False, **black_player_kwargs)\n",
    "    \n",
    "    \n",
    "    # Play games\n",
    "    fn = tqdm if progress_bar else lambda x: x\n",
    "    results = [None] * n_games\n",
    "    for game_index in fn(range(n_games)):\n",
    "        results[game_index] = play_game(\n",
    "            white_player=white_player,\n",
    "            black_player=black_player,\n",
    "            board=board,\n",
    "            max_moves=max_moves,\n",
    "        )\n",
    "\n",
    "    return results"
   ]
  },
  {
   "cell_type": "markdown",
   "metadata": {},
   "source": [
    "## Evaluate Games"
   ]
  },
  {
   "cell_type": "code",
   "execution_count": 48,
   "metadata": {
    "tags": []
   },
   "outputs": [],
   "source": [
    "# Configuration\n",
    "n_games = 100\n",
    "max_moves = 100\n",
    "white_players = [\n",
    "    {\"class\": RandomPlayer, \"label\": \"Random (baseline)\", \"kwargs\": {}}, \n",
    "    {\"class\": GreedyPlayer, \"label\": \"Greedy (baseline)\", \"kwargs\": {}},\n",
    "    {\"class\": QNetworkPlayer, \"label\": \"Deep Q Learning\", \"kwargs\": {}},\n",
    "    {\"class\": A2CPlayer, \"label\": \"Simple Actor Critic\", \"kwargs\": {\"model_name\": \"simple_a2c_random\"}},\n",
    "    {\"class\": A2CPlayer, \"label\": \"Advanced Actor Critic\", \"kwargs\": {\"model_name\": \"advanced_a2c_random\", \"residual_blocks\": True, \"shared_feature_extraction\": False, \"double_critic\": True, \"delayed_critic\": True, \"critic_delay_freq\": 5}}\n",
    "]\n",
    "n_players = len(white_players)\n",
    "black_players = white_players"
   ]
  },
  {
   "cell_type": "code",
   "execution_count": 49,
   "metadata": {
    "tags": []
   },
   "outputs": [
    {
     "name": "stdout",
     "output_type": "stream",
     "text": [
      "Random (baseline) vs Random (baseline)\n",
      "Random (baseline) vs Greedy (baseline)\n",
      "Random (baseline) vs Deep Q Learning\n",
      "Random (baseline) vs Simple Actor Critic\n",
      "Model loaded from:  /Users/tawab/Desktop/columbia/Courses/Spring2024/Reinforcement Learning/project/github/can_chess_with_hexagons_rl/assets/a2c/simple_a2c_random.pth\n"
     ]
    },
    {
     "name": "stderr",
     "output_type": "stream",
     "text": [
      "100%|██████████| 100/100 [00:30<00:00,  3.31it/s]\n"
     ]
    },
    {
     "name": "stdout",
     "output_type": "stream",
     "text": [
      "Random (baseline) vs Advanced Actor Critic\n",
      "Greedy (baseline) vs Random (baseline)\n",
      "Greedy (baseline) vs Greedy (baseline)\n",
      "Greedy (baseline) vs Deep Q Learning\n",
      "Greedy (baseline) vs Simple Actor Critic\n",
      "Model loaded from:  /Users/tawab/Desktop/columbia/Courses/Spring2024/Reinforcement Learning/project/github/can_chess_with_hexagons_rl/assets/a2c/simple_a2c_random.pth\n"
     ]
    },
    {
     "name": "stderr",
     "output_type": "stream",
     "text": [
      "100%|██████████| 100/100 [00:05<00:00, 19.81it/s]\n"
     ]
    },
    {
     "name": "stdout",
     "output_type": "stream",
     "text": [
      "Greedy (baseline) vs Advanced Actor Critic\n",
      "Deep Q Learning vs Random (baseline)\n",
      "Deep Q Learning vs Greedy (baseline)\n",
      "Deep Q Learning vs Deep Q Learning\n",
      "Deep Q Learning vs Simple Actor Critic\n"
     ]
    },
    {
     "name": "stderr",
     "output_type": "stream",
     "text": [
      "WARNING:absl:At this time, the v2.11+ optimizer `tf.keras.optimizers.RestoredOptimizer` runs slowly on M1/M2 Macs, please use the legacy Keras optimizer instead, located at `tf.keras.optimizers.legacy.RestoredOptimizer`.\n",
      "WARNING:absl:At this time, the v2.11+ optimizer `tf.keras.optimizers.SGD` runs slowly on M1/M2 Macs, please use the legacy Keras optimizer instead, located at `tf.keras.optimizers.legacy.SGD`.\n",
      "WARNING:absl:There is a known slowdown when using v2.11+ Keras optimizers on M1/M2 Macs. Falling back to the legacy Keras optimizer, i.e., `tf.keras.optimizers.legacy.SGD`.\n",
      "WARNING:absl:At this time, the v2.11+ optimizer `tf.keras.optimizers.SGD` runs slowly on M1/M2 Macs, please use the legacy Keras optimizer instead, located at `tf.keras.optimizers.legacy.SGD`.\n",
      "WARNING:absl:There is a known slowdown when using v2.11+ Keras optimizers on M1/M2 Macs. Falling back to the legacy Keras optimizer, i.e., `tf.keras.optimizers.legacy.SGD`.\n"
     ]
    },
    {
     "name": "stdout",
     "output_type": "stream",
     "text": [
      "Model loaded from:  /Users/tawab/Desktop/columbia/Courses/Spring2024/Reinforcement Learning/project/github/can_chess_with_hexagons_rl/assets/a2c/simple_a2c_random.pth\n"
     ]
    },
    {
     "name": "stderr",
     "output_type": "stream",
     "text": [
      "100%|██████████| 100/100 [02:19<00:00,  1.39s/it]\n"
     ]
    },
    {
     "name": "stdout",
     "output_type": "stream",
     "text": [
      "Deep Q Learning vs Advanced Actor Critic\n",
      "Simple Actor Critic vs Random (baseline)\n",
      "Model loaded from:  /Users/tawab/Desktop/columbia/Courses/Spring2024/Reinforcement Learning/project/github/can_chess_with_hexagons_rl/assets/a2c/simple_a2c_random.pth\n"
     ]
    },
    {
     "name": "stderr",
     "output_type": "stream",
     "text": [
      "100%|██████████| 100/100 [00:31<00:00,  3.21it/s]\n"
     ]
    },
    {
     "name": "stdout",
     "output_type": "stream",
     "text": [
      "Simple Actor Critic vs Greedy (baseline)\n",
      "Model loaded from:  /Users/tawab/Desktop/columbia/Courses/Spring2024/Reinforcement Learning/project/github/can_chess_with_hexagons_rl/assets/a2c/simple_a2c_random.pth\n"
     ]
    },
    {
     "name": "stderr",
     "output_type": "stream",
     "text": [
      "100%|██████████| 100/100 [00:07<00:00, 13.27it/s]\n"
     ]
    },
    {
     "name": "stdout",
     "output_type": "stream",
     "text": [
      "Simple Actor Critic vs Deep Q Learning\n",
      "Model loaded from:  /Users/tawab/Desktop/columbia/Courses/Spring2024/Reinforcement Learning/project/github/can_chess_with_hexagons_rl/assets/a2c/simple_a2c_random.pth\n"
     ]
    },
    {
     "name": "stderr",
     "output_type": "stream",
     "text": [
      "WARNING:absl:At this time, the v2.11+ optimizer `tf.keras.optimizers.RestoredOptimizer` runs slowly on M1/M2 Macs, please use the legacy Keras optimizer instead, located at `tf.keras.optimizers.legacy.RestoredOptimizer`.\n",
      "WARNING:absl:At this time, the v2.11+ optimizer `tf.keras.optimizers.SGD` runs slowly on M1/M2 Macs, please use the legacy Keras optimizer instead, located at `tf.keras.optimizers.legacy.SGD`.\n",
      "WARNING:absl:There is a known slowdown when using v2.11+ Keras optimizers on M1/M2 Macs. Falling back to the legacy Keras optimizer, i.e., `tf.keras.optimizers.legacy.SGD`.\n",
      "WARNING:absl:At this time, the v2.11+ optimizer `tf.keras.optimizers.SGD` runs slowly on M1/M2 Macs, please use the legacy Keras optimizer instead, located at `tf.keras.optimizers.legacy.SGD`.\n",
      "WARNING:absl:There is a known slowdown when using v2.11+ Keras optimizers on M1/M2 Macs. Falling back to the legacy Keras optimizer, i.e., `tf.keras.optimizers.legacy.SGD`.\n",
      "100%|██████████| 100/100 [02:42<00:00,  1.63s/it]\n"
     ]
    },
    {
     "name": "stdout",
     "output_type": "stream",
     "text": [
      "Simple Actor Critic vs Simple Actor Critic\n",
      "Model loaded from:  /Users/tawab/Desktop/columbia/Courses/Spring2024/Reinforcement Learning/project/github/can_chess_with_hexagons_rl/assets/a2c/simple_a2c_random.pth\n",
      "Model loaded from:  /Users/tawab/Desktop/columbia/Courses/Spring2024/Reinforcement Learning/project/github/can_chess_with_hexagons_rl/assets/a2c/simple_a2c_random.pth\n"
     ]
    },
    {
     "name": "stderr",
     "output_type": "stream",
     "text": [
      "100%|██████████| 100/100 [01:26<00:00,  1.16it/s]\n"
     ]
    },
    {
     "name": "stdout",
     "output_type": "stream",
     "text": [
      "Simple Actor Critic vs Advanced Actor Critic\n",
      "Model loaded from:  /Users/tawab/Desktop/columbia/Courses/Spring2024/Reinforcement Learning/project/github/can_chess_with_hexagons_rl/assets/a2c/simple_a2c_random.pth\n",
      "Model loaded from:  /Users/tawab/Desktop/columbia/Courses/Spring2024/Reinforcement Learning/project/github/can_chess_with_hexagons_rl/assets/a2c/advanced_a2c_random.pth\n"
     ]
    },
    {
     "name": "stderr",
     "output_type": "stream",
     "text": [
      "100%|██████████| 100/100 [24:21<00:00, 14.62s/it]  \n"
     ]
    },
    {
     "name": "stdout",
     "output_type": "stream",
     "text": [
      "Advanced Actor Critic vs Random (baseline)\n",
      "Advanced Actor Critic vs Greedy (baseline)\n",
      "Advanced Actor Critic vs Deep Q Learning\n",
      "Advanced Actor Critic vs Simple Actor Critic\n",
      "Model loaded from:  /Users/tawab/Desktop/columbia/Courses/Spring2024/Reinforcement Learning/project/github/can_chess_with_hexagons_rl/assets/a2c/advanced_a2c_random.pth\n",
      "Model loaded from:  /Users/tawab/Desktop/columbia/Courses/Spring2024/Reinforcement Learning/project/github/can_chess_with_hexagons_rl/assets/a2c/simple_a2c_random.pth\n"
     ]
    },
    {
     "name": "stderr",
     "output_type": "stream",
     "text": [
      "100%|██████████| 100/100 [01:58<00:00,  1.18s/it]"
     ]
    },
    {
     "name": "stdout",
     "output_type": "stream",
     "text": [
      "Advanced Actor Critic vs Advanced Actor Critic\n"
     ]
    },
    {
     "name": "stderr",
     "output_type": "stream",
     "text": [
      "\n"
     ]
    }
   ],
   "source": [
    "# Gather results\n",
    "rows = [player[\"label\"] if isinstance(player, dict) else player.name for player in white_players]\n",
    "cols = [player[\"label\"] if isinstance(player, dict) else player.name for player in black_players]\n",
    "games_won = np.zeros((len(white_players), len(black_players)), dtype=int)\n",
    "games_draw = np.zeros((len(white_players), len(black_players)), dtype=int)\n",
    "games_lost = np.zeros((len(white_players), len(black_players)), dtype=int)\n",
    "games_moves = np.zeros((len(white_players), len(black_players)), dtype=float)\n",
    "\n",
    "# All white players\n",
    "for i, white_player in enumerate(white_players):\n",
    "    # Against all black players\n",
    "    for j, black_player in enumerate(black_players):\n",
    "        # Battle start\n",
    "        print(f\"{white_player['label']} vs {black_player['label']}\")\n",
    "        \n",
    "        # Make sure we don't already have the results\n",
    "        results_filename = f\"{make_safe_filename(white_player['label'])}_vs_{make_safe_filename(black_player['label'])}_{n_games}.pkl\"\n",
    "        results_filepath = os.path.join(results_dir, results_filename)\n",
    "        if os.path.exists(results_filepath):\n",
    "            # Results path exists - load from file\n",
    "            with open(results_filepath, \"rb\") as results_file:\n",
    "                results = pickle.load(results_file)\n",
    "        else:\n",
    "            # Results path does not exist - play games\n",
    "            results = play_games(\n",
    "                white_player,\n",
    "                black_player,\n",
    "                max_moves=max_moves,\n",
    "                n_games=n_games,\n",
    "                progress_bar=True,\n",
    "            )\n",
    "            # Save to file\n",
    "            with open(results_filepath, \"wb\") as results_file:\n",
    "                pickle.dump(results, results_file)\n",
    "        \n",
    "        # Save statistics\n",
    "        for game_index, result in enumerate(results):\n",
    "            # Parse result\n",
    "            game_finished, white_won, n_moves = result\n",
    "            \n",
    "            # Win / Loss / Draw\n",
    "            if game_finished:\n",
    "                if white_won:\n",
    "                    games_won[i, j] += 1\n",
    "                else:\n",
    "                    games_lost[i, j] += 1\n",
    "            else:\n",
    "                games_draw[i, j] += 1\n",
    "\n",
    "            # Number of moves\n",
    "            games_moves[i, j] += n_moves / n_games\n"
   ]
  },
  {
   "cell_type": "code",
   "execution_count": 50,
   "metadata": {
    "tags": []
   },
   "outputs": [],
   "source": [
    "# Collect results in Dataframes\n",
    "games_won_df = pd.DataFrame(data = games_won, index = rows, columns = cols)\n",
    "games_lost_df = pd.DataFrame(data = games_lost, index = rows, columns = cols)\n",
    "games_draw_df = pd.DataFrame(data = games_draw, index = rows, columns = cols)\n",
    "games_moves_df = pd.DataFrame(data = games_moves, index = rows, columns = cols)"
   ]
  },
  {
   "cell_type": "code",
   "execution_count": 51,
   "metadata": {
    "tags": []
   },
   "outputs": [],
   "source": [
    "# Save results\n",
    "games_df_names = [\"won\", \"lost\", \"draw\", \"moves\"]\n",
    "games_dfs = [games_won_df, games_lost_df, games_draw_df, games_moves_df]\n",
    "for name, game_df in zip(games_df_names, games_dfs):\n",
    "    game_df.to_csv(os.path.join(results_dir, f\"games_{name}.csv\"), index=True)"
   ]
  },
  {
   "cell_type": "code",
   "execution_count": 52,
   "metadata": {
    "tags": []
   },
   "outputs": [],
   "source": [
    "# Load results\n",
    "models = \"qnetworks\"\n",
    "games_df_names = [\"won\", \"lost\", \"draw\", \"moves\"]\n",
    "games_dfs = [pd.read_csv(os.path.join(results_dir, f\"games_{name}.csv\"), index_col=0) for name in games_df_names]\n",
    "games_won_df, games_lost_df, games_draw_df, games_moves_df = games_dfs"
   ]
  },
  {
   "cell_type": "code",
   "execution_count": 53,
   "metadata": {
    "tags": []
   },
   "outputs": [
    {
     "name": "stdout",
     "output_type": "stream",
     "text": [
      "___GAMES WON___\n"
     ]
    },
    {
     "data": {
      "text/html": [
       "<div>\n",
       "<style scoped>\n",
       "    .dataframe tbody tr th:only-of-type {\n",
       "        vertical-align: middle;\n",
       "    }\n",
       "\n",
       "    .dataframe tbody tr th {\n",
       "        vertical-align: top;\n",
       "    }\n",
       "\n",
       "    .dataframe thead th {\n",
       "        text-align: right;\n",
       "    }\n",
       "</style>\n",
       "<table border=\"1\" class=\"dataframe\">\n",
       "  <thead>\n",
       "    <tr style=\"text-align: right;\">\n",
       "      <th></th>\n",
       "      <th>Random (baseline)</th>\n",
       "      <th>Greedy (baseline)</th>\n",
       "      <th>Deep Q Learning</th>\n",
       "      <th>Simple Actor Critic</th>\n",
       "      <th>Advanced Actor Critic</th>\n",
       "    </tr>\n",
       "  </thead>\n",
       "  <tbody>\n",
       "    <tr>\n",
       "      <th>Random (baseline)</th>\n",
       "      <td>38</td>\n",
       "      <td>1</td>\n",
       "      <td>17</td>\n",
       "      <td>35</td>\n",
       "      <td>21</td>\n",
       "    </tr>\n",
       "    <tr>\n",
       "      <th>Greedy (baseline)</th>\n",
       "      <td>100</td>\n",
       "      <td>41</td>\n",
       "      <td>96</td>\n",
       "      <td>100</td>\n",
       "      <td>100</td>\n",
       "    </tr>\n",
       "    <tr>\n",
       "      <th>Deep Q Learning</th>\n",
       "      <td>33</td>\n",
       "      <td>1</td>\n",
       "      <td>0</td>\n",
       "      <td>0</td>\n",
       "      <td>0</td>\n",
       "    </tr>\n",
       "    <tr>\n",
       "      <th>Simple Actor Critic</th>\n",
       "      <td>24</td>\n",
       "      <td>0</td>\n",
       "      <td>0</td>\n",
       "      <td>0</td>\n",
       "      <td>0</td>\n",
       "    </tr>\n",
       "    <tr>\n",
       "      <th>Advanced Actor Critic</th>\n",
       "      <td>37</td>\n",
       "      <td>0</td>\n",
       "      <td>0</td>\n",
       "      <td>0</td>\n",
       "      <td>0</td>\n",
       "    </tr>\n",
       "  </tbody>\n",
       "</table>\n",
       "</div>"
      ],
      "text/plain": [
       "                       Random (baseline)  Greedy (baseline)  Deep Q Learning  \\\n",
       "Random (baseline)                     38                  1               17   \n",
       "Greedy (baseline)                    100                 41               96   \n",
       "Deep Q Learning                       33                  1                0   \n",
       "Simple Actor Critic                   24                  0                0   \n",
       "Advanced Actor Critic                 37                  0                0   \n",
       "\n",
       "                       Simple Actor Critic  Advanced Actor Critic  \n",
       "Random (baseline)                       35                     21  \n",
       "Greedy (baseline)                      100                    100  \n",
       "Deep Q Learning                          0                      0  \n",
       "Simple Actor Critic                      0                      0  \n",
       "Advanced Actor Critic                    0                      0  "
      ]
     },
     "execution_count": 53,
     "metadata": {},
     "output_type": "execute_result"
    }
   ],
   "source": [
    "print(\"___GAMES WON___\")\n",
    "games_won_df"
   ]
  },
  {
   "cell_type": "code",
   "execution_count": 54,
   "metadata": {
    "tags": []
   },
   "outputs": [
    {
     "name": "stdout",
     "output_type": "stream",
     "text": [
      "___GAMES LOST___\n"
     ]
    },
    {
     "data": {
      "text/html": [
       "<div>\n",
       "<style scoped>\n",
       "    .dataframe tbody tr th:only-of-type {\n",
       "        vertical-align: middle;\n",
       "    }\n",
       "\n",
       "    .dataframe tbody tr th {\n",
       "        vertical-align: top;\n",
       "    }\n",
       "\n",
       "    .dataframe thead th {\n",
       "        text-align: right;\n",
       "    }\n",
       "</style>\n",
       "<table border=\"1\" class=\"dataframe\">\n",
       "  <thead>\n",
       "    <tr style=\"text-align: right;\">\n",
       "      <th></th>\n",
       "      <th>Random (baseline)</th>\n",
       "      <th>Greedy (baseline)</th>\n",
       "      <th>Deep Q Learning</th>\n",
       "      <th>Simple Actor Critic</th>\n",
       "      <th>Advanced Actor Critic</th>\n",
       "    </tr>\n",
       "  </thead>\n",
       "  <tbody>\n",
       "    <tr>\n",
       "      <th>Random (baseline)</th>\n",
       "      <td>37</td>\n",
       "      <td>99</td>\n",
       "      <td>65</td>\n",
       "      <td>1</td>\n",
       "      <td>29</td>\n",
       "    </tr>\n",
       "    <tr>\n",
       "      <th>Greedy (baseline)</th>\n",
       "      <td>0</td>\n",
       "      <td>59</td>\n",
       "      <td>4</td>\n",
       "      <td>0</td>\n",
       "      <td>0</td>\n",
       "    </tr>\n",
       "    <tr>\n",
       "      <th>Deep Q Learning</th>\n",
       "      <td>32</td>\n",
       "      <td>99</td>\n",
       "      <td>100</td>\n",
       "      <td>0</td>\n",
       "      <td>0</td>\n",
       "    </tr>\n",
       "    <tr>\n",
       "      <th>Simple Actor Critic</th>\n",
       "      <td>32</td>\n",
       "      <td>100</td>\n",
       "      <td>0</td>\n",
       "      <td>0</td>\n",
       "      <td>0</td>\n",
       "    </tr>\n",
       "    <tr>\n",
       "      <th>Advanced Actor Critic</th>\n",
       "      <td>34</td>\n",
       "      <td>100</td>\n",
       "      <td>0</td>\n",
       "      <td>0</td>\n",
       "      <td>0</td>\n",
       "    </tr>\n",
       "  </tbody>\n",
       "</table>\n",
       "</div>"
      ],
      "text/plain": [
       "                       Random (baseline)  Greedy (baseline)  Deep Q Learning  \\\n",
       "Random (baseline)                     37                 99               65   \n",
       "Greedy (baseline)                      0                 59                4   \n",
       "Deep Q Learning                       32                 99              100   \n",
       "Simple Actor Critic                   32                100                0   \n",
       "Advanced Actor Critic                 34                100                0   \n",
       "\n",
       "                       Simple Actor Critic  Advanced Actor Critic  \n",
       "Random (baseline)                        1                     29  \n",
       "Greedy (baseline)                        0                      0  \n",
       "Deep Q Learning                          0                      0  \n",
       "Simple Actor Critic                      0                      0  \n",
       "Advanced Actor Critic                    0                      0  "
      ]
     },
     "execution_count": 54,
     "metadata": {},
     "output_type": "execute_result"
    }
   ],
   "source": [
    "print(\"___GAMES LOST___\")\n",
    "games_lost_df"
   ]
  },
  {
   "cell_type": "code",
   "execution_count": 55,
   "metadata": {
    "tags": []
   },
   "outputs": [
    {
     "name": "stdout",
     "output_type": "stream",
     "text": [
      "___GAMES DRAW___\n"
     ]
    },
    {
     "data": {
      "text/html": [
       "<div>\n",
       "<style scoped>\n",
       "    .dataframe tbody tr th:only-of-type {\n",
       "        vertical-align: middle;\n",
       "    }\n",
       "\n",
       "    .dataframe tbody tr th {\n",
       "        vertical-align: top;\n",
       "    }\n",
       "\n",
       "    .dataframe thead th {\n",
       "        text-align: right;\n",
       "    }\n",
       "</style>\n",
       "<table border=\"1\" class=\"dataframe\">\n",
       "  <thead>\n",
       "    <tr style=\"text-align: right;\">\n",
       "      <th></th>\n",
       "      <th>Random (baseline)</th>\n",
       "      <th>Greedy (baseline)</th>\n",
       "      <th>Deep Q Learning</th>\n",
       "      <th>Simple Actor Critic</th>\n",
       "      <th>Advanced Actor Critic</th>\n",
       "    </tr>\n",
       "  </thead>\n",
       "  <tbody>\n",
       "    <tr>\n",
       "      <th>Random (baseline)</th>\n",
       "      <td>25</td>\n",
       "      <td>0</td>\n",
       "      <td>18</td>\n",
       "      <td>64</td>\n",
       "      <td>50</td>\n",
       "    </tr>\n",
       "    <tr>\n",
       "      <th>Greedy (baseline)</th>\n",
       "      <td>0</td>\n",
       "      <td>0</td>\n",
       "      <td>0</td>\n",
       "      <td>0</td>\n",
       "      <td>0</td>\n",
       "    </tr>\n",
       "    <tr>\n",
       "      <th>Deep Q Learning</th>\n",
       "      <td>35</td>\n",
       "      <td>0</td>\n",
       "      <td>0</td>\n",
       "      <td>100</td>\n",
       "      <td>100</td>\n",
       "    </tr>\n",
       "    <tr>\n",
       "      <th>Simple Actor Critic</th>\n",
       "      <td>44</td>\n",
       "      <td>0</td>\n",
       "      <td>100</td>\n",
       "      <td>100</td>\n",
       "      <td>100</td>\n",
       "    </tr>\n",
       "    <tr>\n",
       "      <th>Advanced Actor Critic</th>\n",
       "      <td>29</td>\n",
       "      <td>0</td>\n",
       "      <td>100</td>\n",
       "      <td>100</td>\n",
       "      <td>100</td>\n",
       "    </tr>\n",
       "  </tbody>\n",
       "</table>\n",
       "</div>"
      ],
      "text/plain": [
       "                       Random (baseline)  Greedy (baseline)  Deep Q Learning  \\\n",
       "Random (baseline)                     25                  0               18   \n",
       "Greedy (baseline)                      0                  0                0   \n",
       "Deep Q Learning                       35                  0                0   \n",
       "Simple Actor Critic                   44                  0              100   \n",
       "Advanced Actor Critic                 29                  0              100   \n",
       "\n",
       "                       Simple Actor Critic  Advanced Actor Critic  \n",
       "Random (baseline)                       64                     50  \n",
       "Greedy (baseline)                        0                      0  \n",
       "Deep Q Learning                        100                    100  \n",
       "Simple Actor Critic                    100                    100  \n",
       "Advanced Actor Critic                  100                    100  "
      ]
     },
     "execution_count": 55,
     "metadata": {},
     "output_type": "execute_result"
    }
   ],
   "source": [
    "print(\"___GAMES DRAW___\")\n",
    "games_draw_df"
   ]
  },
  {
   "cell_type": "code",
   "execution_count": 56,
   "metadata": {
    "tags": []
   },
   "outputs": [
    {
     "name": "stdout",
     "output_type": "stream",
     "text": [
      "___NET WINS___\n"
     ]
    },
    {
     "data": {
      "text/html": [
       "<div>\n",
       "<style scoped>\n",
       "    .dataframe tbody tr th:only-of-type {\n",
       "        vertical-align: middle;\n",
       "    }\n",
       "\n",
       "    .dataframe tbody tr th {\n",
       "        vertical-align: top;\n",
       "    }\n",
       "\n",
       "    .dataframe thead th {\n",
       "        text-align: right;\n",
       "    }\n",
       "</style>\n",
       "<table border=\"1\" class=\"dataframe\">\n",
       "  <thead>\n",
       "    <tr style=\"text-align: right;\">\n",
       "      <th></th>\n",
       "      <th>Random (baseline)</th>\n",
       "      <th>Greedy (baseline)</th>\n",
       "      <th>Deep Q Learning</th>\n",
       "      <th>Simple Actor Critic</th>\n",
       "      <th>Advanced Actor Critic</th>\n",
       "    </tr>\n",
       "  </thead>\n",
       "  <tbody>\n",
       "    <tr>\n",
       "      <th>Random (baseline)</th>\n",
       "      <td>1</td>\n",
       "      <td>-98</td>\n",
       "      <td>-48</td>\n",
       "      <td>34</td>\n",
       "      <td>-8</td>\n",
       "    </tr>\n",
       "    <tr>\n",
       "      <th>Greedy (baseline)</th>\n",
       "      <td>100</td>\n",
       "      <td>-18</td>\n",
       "      <td>92</td>\n",
       "      <td>100</td>\n",
       "      <td>100</td>\n",
       "    </tr>\n",
       "    <tr>\n",
       "      <th>Deep Q Learning</th>\n",
       "      <td>1</td>\n",
       "      <td>-98</td>\n",
       "      <td>-100</td>\n",
       "      <td>0</td>\n",
       "      <td>0</td>\n",
       "    </tr>\n",
       "    <tr>\n",
       "      <th>Simple Actor Critic</th>\n",
       "      <td>-8</td>\n",
       "      <td>-100</td>\n",
       "      <td>0</td>\n",
       "      <td>0</td>\n",
       "      <td>0</td>\n",
       "    </tr>\n",
       "    <tr>\n",
       "      <th>Advanced Actor Critic</th>\n",
       "      <td>3</td>\n",
       "      <td>-100</td>\n",
       "      <td>0</td>\n",
       "      <td>0</td>\n",
       "      <td>0</td>\n",
       "    </tr>\n",
       "  </tbody>\n",
       "</table>\n",
       "</div>"
      ],
      "text/plain": [
       "                       Random (baseline)  Greedy (baseline)  Deep Q Learning  \\\n",
       "Random (baseline)                      1                -98              -48   \n",
       "Greedy (baseline)                    100                -18               92   \n",
       "Deep Q Learning                        1                -98             -100   \n",
       "Simple Actor Critic                   -8               -100                0   \n",
       "Advanced Actor Critic                  3               -100                0   \n",
       "\n",
       "                       Simple Actor Critic  Advanced Actor Critic  \n",
       "Random (baseline)                       34                     -8  \n",
       "Greedy (baseline)                      100                    100  \n",
       "Deep Q Learning                          0                      0  \n",
       "Simple Actor Critic                      0                      0  \n",
       "Advanced Actor Critic                    0                      0  "
      ]
     },
     "execution_count": 56,
     "metadata": {},
     "output_type": "execute_result"
    }
   ],
   "source": [
    "print(\"___NET WINS___\")\n",
    "net_wins_df = games_won_df - games_lost_df\n",
    "net_wins_df"
   ]
  },
  {
   "cell_type": "code",
   "execution_count": 57,
   "metadata": {
    "tags": []
   },
   "outputs": [
    {
     "name": "stdout",
     "output_type": "stream",
     "text": [
      "__NR OF MOVES__\n"
     ]
    },
    {
     "data": {
      "text/html": [
       "<div>\n",
       "<style scoped>\n",
       "    .dataframe tbody tr th:only-of-type {\n",
       "        vertical-align: middle;\n",
       "    }\n",
       "\n",
       "    .dataframe tbody tr th {\n",
       "        vertical-align: top;\n",
       "    }\n",
       "\n",
       "    .dataframe thead th {\n",
       "        text-align: right;\n",
       "    }\n",
       "</style>\n",
       "<table border=\"1\" class=\"dataframe\">\n",
       "  <thead>\n",
       "    <tr style=\"text-align: right;\">\n",
       "      <th></th>\n",
       "      <th>Random (baseline)</th>\n",
       "      <th>Greedy (baseline)</th>\n",
       "      <th>Deep Q Learning</th>\n",
       "      <th>Simple Actor Critic</th>\n",
       "      <th>Advanced Actor Critic</th>\n",
       "    </tr>\n",
       "  </thead>\n",
       "  <tbody>\n",
       "    <tr>\n",
       "      <th>Random (baseline)</th>\n",
       "      <td>65.55</td>\n",
       "      <td>12.07</td>\n",
       "      <td>41.28</td>\n",
       "      <td>87.60</td>\n",
       "      <td>80.53</td>\n",
       "    </tr>\n",
       "    <tr>\n",
       "      <th>Greedy (baseline)</th>\n",
       "      <td>11.49</td>\n",
       "      <td>19.68</td>\n",
       "      <td>13.20</td>\n",
       "      <td>16.33</td>\n",
       "      <td>11.24</td>\n",
       "    </tr>\n",
       "    <tr>\n",
       "      <th>Deep Q Learning</th>\n",
       "      <td>70.76</td>\n",
       "      <td>10.14</td>\n",
       "      <td>5.00</td>\n",
       "      <td>100.00</td>\n",
       "      <td>100.00</td>\n",
       "    </tr>\n",
       "    <tr>\n",
       "      <th>Simple Actor Critic</th>\n",
       "      <td>69.39</td>\n",
       "      <td>17.99</td>\n",
       "      <td>100.00</td>\n",
       "      <td>100.00</td>\n",
       "      <td>100.00</td>\n",
       "    </tr>\n",
       "    <tr>\n",
       "      <th>Advanced Actor Critic</th>\n",
       "      <td>62.03</td>\n",
       "      <td>6.00</td>\n",
       "      <td>100.00</td>\n",
       "      <td>100.00</td>\n",
       "      <td>100.00</td>\n",
       "    </tr>\n",
       "  </tbody>\n",
       "</table>\n",
       "</div>"
      ],
      "text/plain": [
       "                       Random (baseline)  Greedy (baseline)  Deep Q Learning  \\\n",
       "Random (baseline)                  65.55              12.07            41.28   \n",
       "Greedy (baseline)                  11.49              19.68            13.20   \n",
       "Deep Q Learning                    70.76              10.14             5.00   \n",
       "Simple Actor Critic                69.39              17.99           100.00   \n",
       "Advanced Actor Critic              62.03               6.00           100.00   \n",
       "\n",
       "                       Simple Actor Critic  Advanced Actor Critic  \n",
       "Random (baseline)                    87.60                  80.53  \n",
       "Greedy (baseline)                    16.33                  11.24  \n",
       "Deep Q Learning                     100.00                 100.00  \n",
       "Simple Actor Critic                 100.00                 100.00  \n",
       "Advanced Actor Critic               100.00                 100.00  "
      ]
     },
     "execution_count": 57,
     "metadata": {},
     "output_type": "execute_result"
    }
   ],
   "source": [
    "print(\"__NR OF MOVES__\")\n",
    "games_moves_df"
   ]
  },
  {
   "cell_type": "code",
   "execution_count": 58,
   "metadata": {
    "tags": []
   },
   "outputs": [],
   "source": [
    "net_wins = net_wins_df.to_numpy()\n",
    "white_model_names = net_wins_df.columns.to_numpy()\n",
    "black_model_names = net_wins_df.index.to_numpy()"
   ]
  },
  {
   "cell_type": "code",
   "execution_count": 64,
   "metadata": {
    "tags": []
   },
   "outputs": [
    {
     "data": {
      "image/png": "[encoded data removed]",
      "text/plain": [
       "<Figure size 800x800 with 2 Axes>"
      ]
     },
     "metadata": {},
     "output_type": "display_data"
    }
   ],
   "source": [
    "fig, ax = plt.subplots(figsize=(8, 8))\n",
    "img = ax.imshow(net_wins, cmap=\"seismic\", interpolation=\"none\", origin=\"lower\", vmin=-100, vmax=100)\n",
    "fig.colorbar(img, ax=ax)\n",
    "ax.set_xticks(np.arange(len(white_model_names)))\n",
    "ax.set_xticklabels(white_model_names, rotation=45, horizontalalignment=\"right\")\n",
    "ax.set_yticks(np.arange(len(black_model_names)))\n",
    "ax.set_yticklabels(black_model_names, rotation=0, horizontalalignment=\"right\")\n",
    "ax.set_ylabel(\"White player (win = +)\")\n",
    "ax.set_xlabel(\"Black player (win = -)\")\n",
    "fig.tight_layout()\n",
    "fig.savefig(os.path.join(\".\", \"net_wins.png\"), dpi=300, facecolor=\"white\")\n",
    "plt.show()"
   ]
  },
  {
   "cell_type": "code",
   "execution_count": 63,
   "metadata": {
    "tags": []
   },
   "outputs": [
    {
     "data": {
      "image/png": "[encoded data removed]",
      "text/plain": [
       "<Figure size 800x800 with 2 Axes>"
      ]
     },
     "metadata": {},
     "output_type": "display_data"
    }
   ],
   "source": [
    "fig, ax = plt.subplots(figsize=(8, 8))\n",
    "img = ax.imshow(games_moves_df.to_numpy(), cmap=\"Reds\", interpolation=\"none\", origin=\"lower\", vmin=0, vmax=100)\n",
    "fig.colorbar(img, ax=ax)\n",
    "ax.set_xticks(np.arange(len(white_model_names)))\n",
    "ax.set_xticklabels(white_model_names, rotation=45, horizontalalignment=\"right\")\n",
    "ax.set_yticks(np.arange(len(black_model_names)))\n",
    "ax.set_yticklabels(black_model_names, rotation=0, horizontalalignment=\"right\")\n",
    "ax.set_ylabel(\"White player\")\n",
    "ax.set_xlabel(\"Black player\")\n",
    "fig.tight_layout()\n",
    "fig.savefig(os.path.join(\".\", \"nr_moves.png\"), dpi=300, facecolor=\"white\")\n",
    "plt.show()"
   ]
  },
  {
   "cell_type": "code",
   "execution_count": null,
   "metadata": {},
   "outputs": [],
   "source": []
  },
  {
   "cell_type": "code",
   "execution_count": null,
   "metadata": {},
   "outputs": [],
   "source": []
  }
 ],
 "metadata": {
  "kernelspec": {
   "display_name": "Python 3 (Local)",
   "language": "python",
   "name": "python3"
  },
  "language_info": {
   "codemirror_mode": {
    "name": "ipython",
    "version": 3
   },
   "file_extension": ".py",
   "mimetype": "text/x-python",
   "name": "python",
   "nbconvert_exporter": "python",
   "pygments_lexer": "ipython3",
   "version": "3.11.5"
  }
 },
 "nbformat": 4,
 "nbformat_minor": 4
}
